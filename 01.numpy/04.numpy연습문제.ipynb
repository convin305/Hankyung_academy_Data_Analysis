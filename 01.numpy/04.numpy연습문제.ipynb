{
 "metadata": {
  "language_info": {
   "codemirror_mode": {
    "name": "ipython",
    "version": 3
   },
   "file_extension": ".py",
   "mimetype": "text/x-python",
   "name": "python",
   "nbconvert_exporter": "python",
   "pygments_lexer": "ipython3",
   "version": "3.8.5"
  },
  "orig_nbformat": 2,
  "kernelspec": {
   "name": "python385jvsc74a57bd08c1eae21719a0790335dcb83aad72b63b602cfe5cdb2bda0f60bc11d4f154e4b",
   "display_name": "Python 3.8.5 64-bit ('base': conda)"
  }
 },
 "nbformat": 4,
 "nbformat_minor": 2,
 "cells": [
  {
   "cell_type": "code",
   "execution_count": 6,
   "metadata": {},
   "outputs": [],
   "source": [
    "import numpy as np"
   ]
  },
  {
   "source": [
    "### 1.넘파이를 이용한 행렬 만들기"
   ],
   "cell_type": "markdown",
   "metadata": {}
  },
  {
   "cell_type": "code",
   "execution_count": 7,
   "metadata": {},
   "outputs": [
    {
     "output_type": "execute_result",
     "data": {
      "text/plain": [
       "array([[10, 20, 30, 40],\n",
       "       [50, 60, 70, 80]])"
      ]
     },
     "metadata": {},
     "execution_count": 7
    }
   ],
   "source": [
    "a = np.arange(10,81,10).reshape(2,-1)\n",
    "a"
   ]
  },
  {
   "source": [
    "### 2. m = np.array ~\n"
   ],
   "cell_type": "markdown",
   "metadata": {}
  },
  {
   "cell_type": "code",
   "execution_count": 8,
   "metadata": {},
   "outputs": [
    {
     "output_type": "execute_result",
     "data": {
      "text/plain": [
       "array([[ 0,  1,  2,  3,  4],\n",
       "       [ 5,  6,  7,  8,  9],\n",
       "       [10, 11, 12, 13, 14]])"
      ]
     },
     "metadata": {},
     "execution_count": 8
    }
   ],
   "source": [
    "m = np.arange(0,15).reshape(3,5)\n",
    "m"
   ]
  },
  {
   "source": [
    "1) 값 7을 인덱싱하라"
   ],
   "cell_type": "markdown",
   "metadata": {}
  },
  {
   "cell_type": "code",
   "execution_count": 9,
   "metadata": {},
   "outputs": [
    {
     "output_type": "execute_result",
     "data": {
      "text/plain": [
       "7"
      ]
     },
     "metadata": {},
     "execution_count": 9
    }
   ],
   "source": [
    "m[1,2]"
   ]
  },
  {
   "source": [
    "2) 값 14를 인덱싱하라"
   ],
   "cell_type": "markdown",
   "metadata": {}
  },
  {
   "cell_type": "code",
   "execution_count": 10,
   "metadata": {},
   "outputs": [
    {
     "output_type": "execute_result",
     "data": {
      "text/plain": [
       "14"
      ]
     },
     "metadata": {},
     "execution_count": 10
    }
   ],
   "source": [
    "m[-1,-1]"
   ]
  },
  {
   "source": [
    "3) \\[6,7] 을 슬라이싱하라"
   ],
   "cell_type": "markdown",
   "metadata": {}
  },
  {
   "cell_type": "code",
   "execution_count": 11,
   "metadata": {},
   "outputs": [
    {
     "output_type": "execute_result",
     "data": {
      "text/plain": [
       "array([[ 1,  2],\n",
       "       [ 6,  7],\n",
       "       [11, 12]])"
      ]
     },
     "metadata": {},
     "execution_count": 11
    }
   ],
   "source": [
    "m[:,1:3]"
   ]
  },
  {
   "source": [
    "4) \\[7,12] 를 슬라이싱"
   ],
   "cell_type": "markdown",
   "metadata": {}
  },
  {
   "cell_type": "code",
   "execution_count": 12,
   "metadata": {},
   "outputs": [
    {
     "output_type": "execute_result",
     "data": {
      "text/plain": [
       "array([ 7, 12])"
      ]
     },
     "metadata": {},
     "execution_count": 12
    }
   ],
   "source": [
    "m[1:3,2]"
   ]
  },
  {
   "source": [
    "5) 배열 \\[\\[3,4],\\[8,9]]를 슬라이싱"
   ],
   "cell_type": "markdown",
   "metadata": {}
  },
  {
   "cell_type": "code",
   "execution_count": 13,
   "metadata": {},
   "outputs": [
    {
     "output_type": "execute_result",
     "data": {
      "text/plain": [
       "array([[3, 4],\n",
       "       [8, 9]])"
      ]
     },
     "metadata": {},
     "execution_count": 13
    }
   ],
   "source": [
    "m[:2,3:]"
   ]
  },
  {
   "source": [
    "### 3. 2번의 행렬 m을 벡터 f로 변환"
   ],
   "cell_type": "markdown",
   "metadata": {}
  },
  {
   "cell_type": "code",
   "execution_count": 14,
   "metadata": {},
   "outputs": [
    {
     "output_type": "execute_result",
     "data": {
      "text/plain": [
       "array([ 0,  1,  2,  3,  4,  5,  6,  7,  8,  9, 10, 11, 12, 13, 14])"
      ]
     },
     "metadata": {},
     "execution_count": 14
    }
   ],
   "source": [
    "f = m.flatten()\n",
    "f"
   ]
  },
  {
   "source": [
    "1) 3의 배수를 찾아라"
   ],
   "cell_type": "markdown",
   "metadata": {}
  },
  {
   "cell_type": "code",
   "execution_count": 15,
   "metadata": {},
   "outputs": [
    {
     "output_type": "execute_result",
     "data": {
      "text/plain": [
       "array([ 3,  6,  9, 12])"
      ]
     },
     "metadata": {},
     "execution_count": 15
    }
   ],
   "source": [
    "f[f % 3 == 0][1:]   #0은 배수가 아니므로 제외."
   ]
  },
  {
   "source": [
    "2) 4로 나누면 1이 남는 수를 찾아라. "
   ],
   "cell_type": "markdown",
   "metadata": {}
  },
  {
   "cell_type": "code",
   "execution_count": 16,
   "metadata": {},
   "outputs": [
    {
     "output_type": "execute_result",
     "data": {
      "text/plain": [
       "array([ 1,  5,  9, 13])"
      ]
     },
     "metadata": {},
     "execution_count": 16
    }
   ],
   "source": [
    "f[f % 4 == 1]"
   ]
  },
  {
   "source": [
    "3) 3으로 나누면 나누어지고, 4로 나누면 1이 남는 수를 찾아라."
   ],
   "cell_type": "markdown",
   "metadata": {}
  },
  {
   "cell_type": "code",
   "execution_count": 17,
   "metadata": {},
   "outputs": [
    {
     "output_type": "execute_result",
     "data": {
      "text/plain": [
       "array([9])"
      ]
     },
     "metadata": {},
     "execution_count": 17
    }
   ],
   "source": [
    "f[np.logical_and(f % 3== 0, f % 4 == 1)]"
   ]
  },
  {
   "source": [
    "### 4. 행렬 만들기"
   ],
   "cell_type": "markdown",
   "metadata": {}
  },
  {
   "cell_type": "code",
   "execution_count": 18,
   "metadata": {},
   "outputs": [
    {
     "output_type": "execute_result",
     "data": {
      "text/plain": [
       "array([[2, 1, 0, 0, 0],\n",
       "       [3, 2, 1, 0, 0],\n",
       "       [0, 3, 2, 1, 0],\n",
       "       [0, 0, 3, 2, 1],\n",
       "       [0, 0, 0, 3, 2]])"
      ]
     },
     "metadata": {},
     "execution_count": 18
    }
   ],
   "source": [
    "np.eye(5,5,dtype=int)*2 + np.eye(5,5,-1,dtype=int)*3 + np.eye(5,5,1,dtype=int)"
   ]
  },
  {
   "source": [
    "### 5. 0에서 10까지 랜덤 실수값으로 이루어진 5 \\* 6 행렬만들기"
   ],
   "cell_type": "markdown",
   "metadata": {}
  },
  {
   "cell_type": "code",
   "execution_count": 14,
   "metadata": {},
   "outputs": [
    {
     "output_type": "execute_result",
     "data": {
      "text/plain": [
       "array([[6.79326864e+00, 4.43624299e+00, 1.48047562e+00, 1.74220954e-01,\n",
       "        5.52520352e-03, 7.34793747e+00],\n",
       "       [2.80124361e+00, 7.28568609e+00, 5.89799075e+00, 8.90274082e+00,\n",
       "        6.90716951e+00, 3.72225560e+00],\n",
       "       [6.06523009e+00, 4.36331461e+00, 9.39528129e-01, 6.27884764e+00,\n",
       "        3.20497197e+00, 8.01262062e+00],\n",
       "       [9.40085102e-01, 9.49105782e+00, 9.68035518e+00, 6.49016966e+00,\n",
       "        6.84199924e+00, 2.82233964e+00],\n",
       "       [9.08901224e+00, 9.44604263e+00, 5.59642685e+00, 6.91806457e+00,\n",
       "        2.24874980e+00, 1.88520728e-01]])"
      ]
     },
     "metadata": {},
     "execution_count": 14
    }
   ],
   "source": [
    "np.random.seed(2021)\n",
    "m = np.random.uniform(0,10,(5,6))\n",
    "m"
   ]
  },
  {
   "source": [
    "1) 전체의 최대값"
   ],
   "cell_type": "markdown",
   "metadata": {}
  },
  {
   "cell_type": "code",
   "execution_count": 20,
   "metadata": {},
   "outputs": [
    {
     "output_type": "execute_result",
     "data": {
      "text/plain": [
       "True"
      ]
     },
     "metadata": {},
     "execution_count": 20
    }
   ],
   "source": [
    "np.max(m)"
   ]
  },
  {
   "source": [
    "2)  각 행의 합"
   ],
   "cell_type": "markdown",
   "metadata": {}
  },
  {
   "cell_type": "code",
   "execution_count": 16,
   "metadata": {},
   "outputs": [
    {
     "output_type": "execute_result",
     "data": {
      "text/plain": [
       "array([20.23767088, 35.51708637, 28.86451306, 36.26600665, 33.48681682])"
      ]
     },
     "metadata": {},
     "execution_count": 16
    }
   ],
   "source": [
    "np.sum(m, axis=1)"
   ]
  },
  {
   "source": [
    "3) 각 행의 최댓값"
   ],
   "cell_type": "markdown",
   "metadata": {}
  },
  {
   "cell_type": "code",
   "execution_count": 17,
   "metadata": {},
   "outputs": [
    {
     "output_type": "execute_result",
     "data": {
      "text/plain": [
       "array([7.34793747, 8.90274082, 8.01262062, 9.68035518, 9.44604263])"
      ]
     },
     "metadata": {},
     "execution_count": 17
    }
   ],
   "source": [
    "np.max(m, axis=1)"
   ]
  },
  {
   "source": [
    "4) 각 열의 평균"
   ],
   "cell_type": "markdown",
   "metadata": {}
  },
  {
   "cell_type": "code",
   "execution_count": 18,
   "metadata": {},
   "outputs": [
    {
     "output_type": "execute_result",
     "data": {
      "text/plain": [
       "array([5.13776793, 7.00446883, 4.71895531, 5.75280873, 3.84168315,\n",
       "       4.41873481])"
      ]
     },
     "metadata": {},
     "execution_count": 18
    }
   ],
   "source": [
    "np.mean(m, axis=0)"
   ]
  },
  {
   "source": [
    "5) 각 열의 최솟값"
   ],
   "cell_type": "markdown",
   "metadata": {}
  },
  {
   "cell_type": "code",
   "execution_count": 19,
   "metadata": {},
   "outputs": [
    {
     "output_type": "execute_result",
     "data": {
      "text/plain": [
       "array([0.9400851 , 4.36331461, 0.93952813, 0.17422095, 0.0055252 ,\n",
       "       0.18852073])"
      ]
     },
     "metadata": {},
     "execution_count": 19
    }
   ],
   "source": [
    "np.min(m, axis=0)"
   ]
  },
  {
   "source": [
    "### 6. 영어 성적을 기준으로 각 열을 재정렬하기"
   ],
   "cell_type": "markdown",
   "metadata": {}
  },
  {
   "cell_type": "code",
   "execution_count": 23,
   "metadata": {},
   "outputs": [
    {
     "output_type": "execute_result",
     "data": {
      "text/plain": [
       "array([[  1,   2,   3,   4],\n",
       "       [ 46,  99, 100,  71],\n",
       "       [ 81,  59,  90, 100]])"
      ]
     },
     "metadata": {},
     "execution_count": 23
    }
   ],
   "source": [
    "score = np.array([[1,2,3,4],\n",
    "[46,99,100,71],\n",
    "[81,59,90,100]])\n",
    "\n",
    "score"
   ]
  },
  {
   "source": [
    "argsort() : 정렬하는 인덱스의 어레이"
   ],
   "cell_type": "markdown",
   "metadata": {}
  },
  {
   "cell_type": "code",
   "execution_count": 27,
   "metadata": {},
   "outputs": [
    {
     "output_type": "execute_result",
     "data": {
      "text/plain": [
       "array([[  1,   4,   2,   3],\n",
       "       [ 46,  71,  99, 100],\n",
       "       [ 81, 100,  59,  90]])"
      ]
     },
     "metadata": {},
     "execution_count": 27
    }
   ],
   "source": [
    "a = score[:,score[1,:].argsort()]\n",
    "a"
   ]
  },
  {
   "source": [
    "### 7. 주사위를 100번 던지는 가상 실험을 파이썬으로 작성하고, 던져서 나오는 숫자의 평균을 구하시오."
   ],
   "cell_type": "markdown",
   "metadata": {}
  },
  {
   "cell_type": "code",
   "execution_count": 22,
   "metadata": {},
   "outputs": [],
   "source": [
    "np.random.seed(2021)\n",
    "die = np.random.randint(1,7,100)"
   ]
  },
  {
   "cell_type": "code",
   "execution_count": 23,
   "metadata": {},
   "outputs": [
    {
     "output_type": "execute_result",
     "data": {
      "text/plain": [
       "array([5, 2, 3, 3, 4, 2, 1, 4, 6, 3, 4, 5, 2, 2, 6, 3, 1, 6, 5, 5, 5, 6,\n",
       "       2, 1, 2, 4, 1, 6, 2, 5, 6, 4, 6, 3, 3, 3, 3, 1, 6, 6, 1, 2, 1, 6,\n",
       "       1, 4, 4, 1, 3, 5, 4, 3, 3, 6, 4, 3, 3, 4, 2, 4, 4, 6, 6, 5, 4, 4,\n",
       "       2, 6, 5, 6, 3, 6, 4, 3, 2, 3, 2, 3, 6, 6, 2, 6, 4, 4, 6, 2, 3, 3,\n",
       "       3, 1, 6, 3, 4, 6, 4, 3, 1, 4, 6, 2])"
      ]
     },
     "metadata": {},
     "execution_count": 23
    }
   ],
   "source": [
    "die"
   ]
  },
  {
   "cell_type": "code",
   "execution_count": 24,
   "metadata": {},
   "outputs": [
    {
     "output_type": "execute_result",
     "data": {
      "text/plain": [
       "3.7"
      ]
     },
     "metadata": {},
     "execution_count": 24
    }
   ],
   "source": [
    "die.mean()"
   ]
  },
  {
   "source": [
    "### 8. 주식의 가격 = 10000원, 일간 수익률의 기댓값은 0%, 표준편차 1%일 때 250일간의 주기를 무작위로 생성"
   ],
   "cell_type": "markdown",
   "metadata": {}
  },
  {
   "cell_type": "code",
   "execution_count": 15,
   "metadata": {},
   "outputs": [
    {
     "output_type": "stream",
     "name": "stdout",
     "text": [
      "[10135, 10212, 10184, 10220, 10414, 10478, 10480, 10511, 10647, 10594, 10626, 10677, 10656, 10610, 10439, 10264, 10465, 10400, 10434, 10478, 10392, 10526, 10604, 10498, 10121, 10089, 10131, 10268, 10308, 10255, 10146, 10230, 10212, 10295, 10390, 10337, 10436, 10360, 10255, 10218, 10252, 10068, 10065, 10171, 10217, 10138, 10041, 9975, 9921, 9824, 9846, 9794, 9844, 9877, 10048, 10093, 10191, 10279, 10455, 10583, 10694, 10777, 10608, 10523, 10738, 10578, 10415, 10469, 10243, 10304, 10368, 10437, 10411, 10479, 10501, 10622, 10585, 10565, 10622, 10711, 10781, 10770, 10832, 10906, 10865, 10813, 10789, 10514, 10597, 10914, 10995, 10826, 10598, 10489, 10470, 10494, 10570, 10664, 10622, 10471, 10610, 10764, 10805, 10810, 10863, 10750, 10542, 10684, 10712, 10636, 10489, 10395, 10491, 10487, 10613, 10582, 10841, 10844, 10812, 10683, 10448, 10475, 10440, 10359, 10346, 10225, 10165, 10293, 10523, 10566, 10553, 10544, 10466, 10594, 10387, 10429, 10401, 10515, 10449, 10498, 10519, 10607, 10630, 10661, 10728, 10578, 10376, 10275, 10099, 9987, 9987, 9856, 9813, 9874, 9911, 9933, 10059, 9892, 9879, 9767, 9607, 9533, 9521, 9398, 9424, 9392, 9418, 9405, 9118, 9082, 9170, 9169, 9108, 9186, 9125, 9120, 9107, 9070, 9035, 9179, 9273, 9213, 9225, 9362, 9256, 9112, 9086, 9136, 9201, 8986, 9007, 8942, 9028, 8879, 8951, 8926, 8981, 8980, 9170, 8979, 9087, 9063, 9044, 9116, 9137, 9185, 9129, 9095, 9244, 9313, 9521, 9555, 9717, 9571, 9711, 9745, 9858, 9861, 10029, 9988, 9784, 9749, 9719, 9778, 9704, 9631, 9803, 9764, 9819, 9757, 9683, 9739, 9784, 9863, 9678, 9662, 9643, 9680, 9601, 9517, 9422, 9436, 9344, 9394, 9437, 9258, 9110, 9274, 9258, 9056]\n"
     ]
    }
   ],
   "source": [
    "stock = [10000]\n",
    "np.random.seed(2021)\n",
    "for i in range(250):\n",
    "    rate = np.random.normal(0,1,1)/100\n",
    "    price = int(np.round(stock[-1]*rate + stock[-1],0))\n",
    "    stock.append(price)\n",
    "    \n",
    "del stock[0]\n",
    "print(stock)"
   ]
  }
 ]
}