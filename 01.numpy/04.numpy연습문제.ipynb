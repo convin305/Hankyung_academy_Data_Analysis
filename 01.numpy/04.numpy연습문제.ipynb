{
 "metadata": {
  "language_info": {
   "codemirror_mode": {
    "name": "ipython",
    "version": 3
   },
   "file_extension": ".py",
   "mimetype": "text/x-python",
   "name": "python",
   "nbconvert_exporter": "python",
   "pygments_lexer": "ipython3",
   "version": "3.8.5"
  },
  "orig_nbformat": 2,
  "kernelspec": {
   "name": "python385jvsc74a57bd08c1eae21719a0790335dcb83aad72b63b602cfe5cdb2bda0f60bc11d4f154e4b",
   "display_name": "Python 3.8.5 64-bit ('base': conda)"
  }
 },
 "nbformat": 4,
 "nbformat_minor": 2,
 "cells": [
  {
   "cell_type": "code",
   "execution_count": 1,
   "metadata": {},
   "outputs": [],
   "source": [
    "import numpy as np"
   ]
  },
  {
   "source": [
    "### 1.넘파이를 이용한 행렬 만들기"
   ],
   "cell_type": "markdown",
   "metadata": {}
  },
  {
   "cell_type": "code",
   "execution_count": 2,
   "metadata": {},
   "outputs": [
    {
     "output_type": "execute_result",
     "data": {
      "text/plain": [
       "array([[10, 20, 30, 40],\n",
       "       [50, 60, 70, 80]])"
      ]
     },
     "metadata": {},
     "execution_count": 2
    }
   ],
   "source": [
    "a = np.arange(10,81,10).reshape(2,-1)\n",
    "a"
   ]
  },
  {
   "source": [
    "### 2. m = np.array ~\n"
   ],
   "cell_type": "markdown",
   "metadata": {}
  },
  {
   "cell_type": "code",
   "execution_count": 3,
   "metadata": {},
   "outputs": [
    {
     "output_type": "execute_result",
     "data": {
      "text/plain": [
       "array([[ 0,  1,  2,  3,  4],\n",
       "       [ 5,  6,  7,  8,  9],\n",
       "       [10, 11, 12, 13, 14]])"
      ]
     },
     "metadata": {},
     "execution_count": 3
    }
   ],
   "source": [
    "m = np.arange(0,15).reshape(3,5)\n",
    "m"
   ]
  },
  {
   "source": [
    "1) 값 7을 인덱싱하라"
   ],
   "cell_type": "markdown",
   "metadata": {}
  },
  {
   "cell_type": "code",
   "execution_count": 4,
   "metadata": {},
   "outputs": [
    {
     "output_type": "execute_result",
     "data": {
      "text/plain": [
       "7"
      ]
     },
     "metadata": {},
     "execution_count": 4
    }
   ],
   "source": [
    "m[1,2]"
   ]
  },
  {
   "source": [
    "2) 값 14를 인덱싱하라"
   ],
   "cell_type": "markdown",
   "metadata": {}
  },
  {
   "cell_type": "code",
   "execution_count": 5,
   "metadata": {},
   "outputs": [
    {
     "output_type": "execute_result",
     "data": {
      "text/plain": [
       "14"
      ]
     },
     "metadata": {},
     "execution_count": 5
    }
   ],
   "source": [
    "m[-1,-1]"
   ]
  },
  {
   "source": [
    "3) \\[6,7] 을 슬라이싱하라"
   ],
   "cell_type": "markdown",
   "metadata": {}
  },
  {
   "cell_type": "code",
   "execution_count": 6,
   "metadata": {},
   "outputs": [
    {
     "output_type": "execute_result",
     "data": {
      "text/plain": [
       "array([6, 7])"
      ]
     },
     "metadata": {},
     "execution_count": 6
    }
   ],
   "source": [
    "m[1,1:3]"
   ]
  },
  {
   "source": [
    "4) \\[7,12] 를 슬라이싱"
   ],
   "cell_type": "markdown",
   "metadata": {}
  },
  {
   "cell_type": "code",
   "execution_count": 7,
   "metadata": {},
   "outputs": [
    {
     "output_type": "execute_result",
     "data": {
      "text/plain": [
       "array([ 7, 12])"
      ]
     },
     "metadata": {},
     "execution_count": 7
    }
   ],
   "source": [
    "m[1:3,2]"
   ]
  },
  {
   "source": [
    "5) 배열 \\[\\[3,4],\\[8,9]]를 슬라이싱"
   ],
   "cell_type": "markdown",
   "metadata": {}
  },
  {
   "cell_type": "code",
   "execution_count": 8,
   "metadata": {},
   "outputs": [
    {
     "output_type": "execute_result",
     "data": {
      "text/plain": [
       "array([[3, 4],\n",
       "       [8, 9]])"
      ]
     },
     "metadata": {},
     "execution_count": 8
    }
   ],
   "source": [
    "m[:2,3:]"
   ]
  },
  {
   "source": [
    "### 3. 2번의 행렬 m을 벡터 f로 변환"
   ],
   "cell_type": "markdown",
   "metadata": {}
  },
  {
   "cell_type": "code",
   "execution_count": 9,
   "metadata": {},
   "outputs": [
    {
     "output_type": "execute_result",
     "data": {
      "text/plain": [
       "array([ 0,  1,  2,  3,  4,  5,  6,  7,  8,  9, 10, 11, 12, 13, 14])"
      ]
     },
     "metadata": {},
     "execution_count": 9
    }
   ],
   "source": [
    "f = m.flatten()\n",
    "f"
   ]
  },
  {
   "source": [
    "1) 3의 배수를 찾아라"
   ],
   "cell_type": "markdown",
   "metadata": {}
  },
  {
   "cell_type": "code",
   "execution_count": 10,
   "metadata": {},
   "outputs": [
    {
     "output_type": "execute_result",
     "data": {
      "text/plain": [
       "array([ 3,  6,  9, 12])"
      ]
     },
     "metadata": {},
     "execution_count": 10
    }
   ],
   "source": [
    "f[f % 3 == 0][1:]   #0은 배수가 아니므로 제외."
   ]
  },
  {
   "source": [
    "2) 4로 나누면 1이 남는 수를 찾아라. "
   ],
   "cell_type": "markdown",
   "metadata": {}
  },
  {
   "cell_type": "code",
   "execution_count": 11,
   "metadata": {},
   "outputs": [
    {
     "output_type": "execute_result",
     "data": {
      "text/plain": [
       "array([ 1,  5,  9, 13])"
      ]
     },
     "metadata": {},
     "execution_count": 11
    }
   ],
   "source": [
    "f[f % 4 == 1]"
   ]
  },
  {
   "source": [
    "3) 3으로 나누면 나누어지고, 4로 나누면 1이 남는 수를 찾아라."
   ],
   "cell_type": "markdown",
   "metadata": {}
  },
  {
   "cell_type": "code",
   "execution_count": 12,
   "metadata": {},
   "outputs": [
    {
     "output_type": "execute_result",
     "data": {
      "text/plain": [
       "array([9])"
      ]
     },
     "metadata": {},
     "execution_count": 12
    }
   ],
   "source": [
    "f[np.logical_and(f % 3== 0, f % 4 == 1)]"
   ]
  },
  {
   "source": [
    "### 4. 행렬 만들기"
   ],
   "cell_type": "markdown",
   "metadata": {}
  },
  {
   "cell_type": "code",
   "execution_count": 13,
   "metadata": {},
   "outputs": [
    {
     "output_type": "execute_result",
     "data": {
      "text/plain": [
       "array([[2, 1, 0, 0, 0],\n",
       "       [3, 2, 1, 0, 0],\n",
       "       [0, 3, 2, 1, 0],\n",
       "       [0, 0, 3, 2, 1],\n",
       "       [0, 0, 0, 3, 2]])"
      ]
     },
     "metadata": {},
     "execution_count": 13
    }
   ],
   "source": [
    "np.eye(5,5,dtype=int)*2 + np.eye(5,5,-1,dtype=int)*3 + np.eye(5,5,1,dtype=int)"
   ]
  },
  {
   "source": [
    "### 5. 0에서 10까지 랜덤 실수값으로 이루어진 5 \\* 6 행렬만들기"
   ],
   "cell_type": "markdown",
   "metadata": {}
  },
  {
   "cell_type": "code",
   "execution_count": 14,
   "metadata": {},
   "outputs": [
    {
     "output_type": "execute_result",
     "data": {
      "text/plain": [
       "array([[6.79326864e+00, 4.43624299e+00, 1.48047562e+00, 1.74220954e-01,\n",
       "        5.52520352e-03, 7.34793747e+00],\n",
       "       [2.80124361e+00, 7.28568609e+00, 5.89799075e+00, 8.90274082e+00,\n",
       "        6.90716951e+00, 3.72225560e+00],\n",
       "       [6.06523009e+00, 4.36331461e+00, 9.39528129e-01, 6.27884764e+00,\n",
       "        3.20497197e+00, 8.01262062e+00],\n",
       "       [9.40085102e-01, 9.49105782e+00, 9.68035518e+00, 6.49016966e+00,\n",
       "        6.84199924e+00, 2.82233964e+00],\n",
       "       [9.08901224e+00, 9.44604263e+00, 5.59642685e+00, 6.91806457e+00,\n",
       "        2.24874980e+00, 1.88520728e-01]])"
      ]
     },
     "metadata": {},
     "execution_count": 14
    }
   ],
   "source": [
    "m = np.random.uniform(0,10,(5,6))\n",
    "m"
   ]
  },
  {
   "source": [
    "1) 전체의 최대값"
   ],
   "cell_type": "markdown",
   "metadata": {}
  },
  {
   "cell_type": "code",
   "execution_count": 15,
   "metadata": {},
   "outputs": [
    {
     "output_type": "execute_result",
     "data": {
      "text/plain": [
       "9.680355182785155"
      ]
     },
     "metadata": {},
     "execution_count": 15
    }
   ],
   "source": [
    "np.max(m)"
   ]
  },
  {
   "source": [
    "2)  각 행의 합"
   ],
   "cell_type": "markdown",
   "metadata": {}
  },
  {
   "cell_type": "code",
   "execution_count": 16,
   "metadata": {},
   "outputs": [
    {
     "output_type": "execute_result",
     "data": {
      "text/plain": [
       "array([20.23767088, 35.51708637, 28.86451306, 36.26600665, 33.48681682])"
      ]
     },
     "metadata": {},
     "execution_count": 16
    }
   ],
   "source": [
    "np.sum(m, axis=1)"
   ]
  },
  {
   "source": [
    "3) 각 행의 최댓값"
   ],
   "cell_type": "markdown",
   "metadata": {}
  },
  {
   "cell_type": "code",
   "execution_count": 17,
   "metadata": {},
   "outputs": [
    {
     "output_type": "execute_result",
     "data": {
      "text/plain": [
       "array([7.34793747, 8.90274082, 8.01262062, 9.68035518, 9.44604263])"
      ]
     },
     "metadata": {},
     "execution_count": 17
    }
   ],
   "source": [
    "np.max(m, axis=1)"
   ]
  },
  {
   "source": [
    "4) 각 열의 평균"
   ],
   "cell_type": "markdown",
   "metadata": {}
  },
  {
   "cell_type": "code",
   "execution_count": 18,
   "metadata": {},
   "outputs": [
    {
     "output_type": "execute_result",
     "data": {
      "text/plain": [
       "array([5.13776793, 7.00446883, 4.71895531, 5.75280873, 3.84168315,\n",
       "       4.41873481])"
      ]
     },
     "metadata": {},
     "execution_count": 18
    }
   ],
   "source": [
    "np.mean(m, axis=0)"
   ]
  },
  {
   "source": [
    "5) 각 열의 최솟값"
   ],
   "cell_type": "markdown",
   "metadata": {}
  },
  {
   "cell_type": "code",
   "execution_count": 19,
   "metadata": {},
   "outputs": [
    {
     "output_type": "execute_result",
     "data": {
      "text/plain": [
       "array([0.9400851 , 4.36331461, 0.93952813, 0.17422095, 0.0055252 ,\n",
       "       0.18852073])"
      ]
     },
     "metadata": {},
     "execution_count": 19
    }
   ],
   "source": [
    "np.min(m, axis=0)"
   ]
  },
  {
   "source": [
    "### 6. 영어 성적을 기준으로 각 열을 재정렬하기"
   ],
   "cell_type": "markdown",
   "metadata": {}
  },
  {
   "cell_type": "code",
   "execution_count": 20,
   "metadata": {},
   "outputs": [
    {
     "output_type": "execute_result",
     "data": {
      "text/plain": [
       "array([[  1,   2,   3,   4],\n",
       "       [ 46,  99, 100,  71],\n",
       "       [ 81,  59,  90, 100]])"
      ]
     },
     "metadata": {},
     "execution_count": 20
    }
   ],
   "source": [
    "score = np.array([[1,2,3,4],\n",
    "[46,99,100,71],\n",
    "[81,59,90,100]])\n",
    "\n",
    "score"
   ]
  },
  {
   "cell_type": "code",
   "execution_count": 21,
   "metadata": {},
   "outputs": [
    {
     "output_type": "execute_result",
     "data": {
      "text/plain": [
       "array([[  1,   4,   2,   3],\n",
       "       [ 46,  71,  99, 100],\n",
       "       [ 81, 100,  59,  90]])"
      ]
     },
     "metadata": {},
     "execution_count": 21
    }
   ],
   "source": [
    "a = score[:,score[1,:].argsort()]\n",
    "a"
   ]
  },
  {
   "source": [
    "### 7. 주사위를 100번 던지는 가상 실험을 파이썬으로 작성하고, 던져서 나오는 숫자의 평균을 구하시오."
   ],
   "cell_type": "markdown",
   "metadata": {}
  },
  {
   "cell_type": "code",
   "execution_count": 22,
   "metadata": {},
   "outputs": [],
   "source": [
    "die = np.random.randint(1,7,100)"
   ]
  },
  {
   "cell_type": "code",
   "execution_count": 23,
   "metadata": {},
   "outputs": [
    {
     "output_type": "execute_result",
     "data": {
      "text/plain": [
       "array([5, 2, 3, 3, 4, 2, 1, 4, 6, 3, 4, 5, 2, 2, 6, 3, 1, 6, 5, 5, 5, 6,\n",
       "       2, 1, 2, 4, 1, 6, 2, 5, 6, 4, 6, 3, 3, 3, 3, 1, 6, 6, 1, 2, 1, 6,\n",
       "       1, 4, 4, 1, 3, 5, 4, 3, 3, 6, 4, 3, 3, 4, 2, 4, 4, 6, 6, 5, 4, 4,\n",
       "       2, 6, 5, 6, 3, 6, 4, 3, 2, 3, 2, 3, 6, 6, 2, 6, 4, 4, 6, 2, 3, 3,\n",
       "       3, 1, 6, 3, 4, 6, 4, 3, 1, 4, 6, 2])"
      ]
     },
     "metadata": {},
     "execution_count": 23
    }
   ],
   "source": [
    "die"
   ]
  },
  {
   "cell_type": "code",
   "execution_count": 24,
   "metadata": {},
   "outputs": [
    {
     "output_type": "execute_result",
     "data": {
      "text/plain": [
       "3.7"
      ]
     },
     "metadata": {},
     "execution_count": 24
    }
   ],
   "source": [
    "die.mean()"
   ]
  },
  {
   "source": [
    "### 8. 주식의 가격 = 10000원, 일간 수익률의 기댓값은 0%, 표준편차 1%일 때 250일간의 주기를 무작위로 생성"
   ],
   "cell_type": "markdown",
   "metadata": {}
  },
  {
   "cell_type": "code",
   "execution_count": 25,
   "metadata": {},
   "outputs": [
    {
     "output_type": "execute_result",
     "data": {
      "text/plain": [
       "array([ 9999.10155205,  9864.09610744,  9960.97914436, 10195.97298313,\n",
       "        9934.83183132,  9904.99944103,  9991.3259263 , 10154.45447529,\n",
       "       10143.43765707,  9935.84017472, 10047.54337067,  9908.01138941,\n",
       "       10064.43925717,  9788.99738312, 10140.77788197,  9909.68435296,\n",
       "        9932.95364879, 10070.64561842, 10079.23629459,  9999.5386742 ,\n",
       "       10002.53890286,  9950.87740935,  9996.05412106, 10030.72596969,\n",
       "       10006.80338482, 10123.22149613, 10061.20417344, 10151.13823524,\n",
       "        9895.33379158,  9998.02334294, 10170.54716909, 10101.18530531,\n",
       "       10036.41476612, 10026.99237474, 10020.72268205,  9972.17275201,\n",
       "        9972.96698895, 10030.19770855,  9936.393825  ,  9855.91402597,\n",
       "       10111.90703703,  9971.1242099 , 10080.21760343, 10132.10069043,\n",
       "       10095.92839638,  9852.30933978, 10009.0381546 , 10018.24293851,\n",
       "        9964.77289237, 10103.12521486,  9921.55532256,  9942.68007672,\n",
       "        9997.20632151,  9972.75942586, 10137.18968262, 10061.62373291,\n",
       "        9992.9516252 , 10113.56681945,  9988.37112314, 10019.74568915,\n",
       "       10087.84982676, 10113.59595653,  9983.8631938 ,  9939.86335196,\n",
       "       10095.02683419, 10225.47879505,  9857.77722924,  9670.85010199,\n",
       "       10036.79427076, 10072.99647554,  9976.64808118, 10070.67532522,\n",
       "        9976.71535065, 10025.65861312, 10065.83754758, 10035.88934398,\n",
       "       10009.67830396, 10015.70292707, 10175.03377631, 10020.19082878,\n",
       "        9897.0047481 , 10015.22002977, 10151.53273561, 10081.60200916,\n",
       "       10052.68251755,  9852.82197995, 10166.77346254, 10075.2162497 ,\n",
       "        9913.39660318, 10020.68537397,  9843.05094042, 10052.62295688,\n",
       "       10083.75437283, 10070.49354738,  9942.45015406,  9893.98602256,\n",
       "        9993.19572631,  9946.97883219, 10015.22228995,  9755.51355946,\n",
       "       10001.92356979, 10042.32109734, 10035.15907872, 10020.69029097,\n",
       "        9904.54679955,  9949.23959727,  9996.22901119,  9990.51526181,\n",
       "       10081.71948676, 10090.09321154, 10162.06083552, 10134.99056689,\n",
       "        9961.67014645,  9974.09823357,  9839.61963375, 10064.90399251,\n",
       "       10237.64118377, 10095.01590249,  9899.66106147,  9966.61002683,\n",
       "        9991.18901479, 10059.36132942,  9991.12442189, 10107.16130211,\n",
       "        9961.17964376, 10032.9583699 , 10145.41804629,  9747.56976917,\n",
       "        9844.32230732,  9931.13971384, 10001.42392317, 10150.13562236,\n",
       "        9915.4039705 , 10021.63608021, 10078.24168324,  9988.86916286,\n",
       "        9943.0225635 ,  9999.90030695, 10017.90287368,  9974.69960143,\n",
       "       10031.58810374,  9982.42616404,  9999.17313354,  9876.36322613,\n",
       "       10156.48803026, 10060.08470336,  9784.91864298,  9901.64027338,\n",
       "        9863.56449614, 10044.22352375,  9957.59092358, 10159.40344095,\n",
       "        9988.77652091,  9942.28287099,  9798.51325289,  9941.40608167,\n",
       "        9873.77823066,  9881.28960516, 10033.39496941,  9950.43001307,\n",
       "       10180.39832371,  9984.73378665, 10016.27225133,  9998.14763072,\n",
       "       10085.08888077, 10034.62159282, 10101.21940101,  9870.55516214,\n",
       "        9805.75541867,  9796.24667421, 10000.02435624, 10084.13094124,\n",
       "        9983.21047301,  9849.10029167,  9943.44396045,  9921.2494142 ,\n",
       "       10051.07519611, 10050.72250584,  9725.26130147, 10144.559322  ,\n",
       "        9919.44215271, 10083.25960685,  9921.43695643,  9925.41035258,\n",
       "       10065.22204426,  9994.47996551,  9944.96620568,  9926.0503229 ,\n",
       "       10059.60831257,  9937.68688554, 10106.2542891 ,  9998.00279753,\n",
       "       10053.542744  ,  9884.82785365,  9964.05487031,  9947.25876887,\n",
       "        9899.73632755,  9875.51999588,  9965.47046969, 10007.2814931 ,\n",
       "        9901.67014677, 10127.07123517, 10034.73205654,  9911.81610781,\n",
       "       10118.34797861,  9942.75328719,  9902.2385424 ,  9886.25408361,\n",
       "        9924.89984004, 10042.2537192 ,  9930.62923812,  9952.24072332,\n",
       "        9843.42572418,  9911.42615179, 10201.20493977,  9996.89068243,\n",
       "       10113.50922978,  9928.34645081,  9908.91280018,  9936.90864197,\n",
       "       10079.01941425,  9991.19855274, 10125.23491018,  9912.70840864,\n",
       "        9960.55668816,  9997.66371301,  9991.7369801 , 10063.67276316,\n",
       "       10087.83744877, 10124.48420316, 10109.80925356,  9833.68602341,\n",
       "        9949.23902919,  9910.66917471,  9995.35366826, 10076.97792665,\n",
       "       10066.68621863, 10059.92809728,  9983.41872655, 10180.73600852,\n",
       "        9998.00277205, 10014.32531576, 10004.87301702,  9850.69804882,\n",
       "       10088.17987697, 10014.2240828 ,  9961.9521534 ,  9917.26807306,\n",
       "        9991.29386157, 10062.21056822])"
      ]
     },
     "metadata": {},
     "execution_count": 25
    }
   ],
   "source": [
    "stock = (np.random.normal(0,1,250)/100)*10000 + 10000\n",
    "stock"
   ]
  },
  {
   "cell_type": "code",
   "execution_count": null,
   "metadata": {},
   "outputs": [],
   "source": []
  }
 ]
}