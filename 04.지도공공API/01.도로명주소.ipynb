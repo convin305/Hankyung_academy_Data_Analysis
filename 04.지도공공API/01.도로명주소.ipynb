{
 "metadata": {
  "language_info": {
   "codemirror_mode": {
    "name": "ipython",
    "version": 3
   },
   "file_extension": ".py",
   "mimetype": "text/x-python",
   "name": "python",
   "nbconvert_exporter": "python",
   "pygments_lexer": "ipython3",
   "version": "3.8.5"
  },
  "orig_nbformat": 2,
  "kernelspec": {
   "name": "python385jvsc74a57bd08c1eae21719a0790335dcb83aad72b63b602cfe5cdb2bda0f60bc11d4f154e4b",
   "display_name": "Python 3.8.5 64-bit ('base': conda)"
  }
 },
 "nbformat": 4,
 "nbformat_minor": 2,
 "cells": [
  {
   "source": [
    "# 행정안전부 도로명주소 API \n",
    "### 건물명으로부터 도로명 주소 구하기"
   ],
   "cell_type": "markdown",
   "metadata": {}
  },
  {
   "cell_type": "code",
   "execution_count": 1,
   "metadata": {},
   "outputs": [],
   "source": [
    "import requests\n",
    "from urllib.parse import urlparse, quote\n",
    "import pandas as pd"
   ]
  },
  {
   "cell_type": "code",
   "execution_count": 3,
   "metadata": {},
   "outputs": [],
   "source": [
    "with open('roadapikey.txt',mode='r') as key_file:\n",
    "    road_key = key_file.read()"
   ]
  },
  {
   "source": [
    "* URL을 만드는 규칙  \n",
    "path가 먼저 나오고 그다음에? 그리고 parameter(항목 = 값 & 다음항목 = 값 & ...)"
   ],
   "cell_type": "markdown",
   "metadata": {}
  },
  {
   "cell_type": "code",
   "execution_count": 28,
   "metadata": {},
   "outputs": [
    {
     "output_type": "execute_result",
     "data": {
      "text/plain": [
       "43"
      ]
     },
     "metadata": {},
     "execution_count": 28
    }
   ],
   "source": [
    "len(road_key)"
   ]
  },
  {
   "cell_type": "code",
   "execution_count": null,
   "metadata": {},
   "outputs": [],
   "source": [
    "# base64인코딩을 해줘야 할 때도 있음.\n",
    "quote(\"한국경제신문사\")"
   ]
  },
  {
   "cell_type": "code",
   "execution_count": 9,
   "metadata": {},
   "outputs": [],
   "source": [
    "# API활용가이드 참고\n",
    "road_url = \"https://www.juso.go.kr/addrlink/addrLinkApi.do\"         \n",
    "\n",
    "url = f'{road_url}?confmKey={road_key}&currentPage=1&countPerPage=10&keyword={quote(\"한국경제신문사\")}&resultType=json'"
   ]
  },
  {
   "cell_type": "code",
   "execution_count": 8,
   "metadata": {},
   "outputs": [
    {
     "output_type": "execute_result",
     "data": {
      "text/plain": [
       "{'results': {'common': {'errorMessage': '정상',\n",
       "   'countPerPage': '10',\n",
       "   'totalCount': '1',\n",
       "   'errorCode': '0',\n",
       "   'currentPage': '1'},\n",
       "  'juso': [{'detBdNmList': '',\n",
       "    'engAddr': '463, Cheongpa-ro, Jung-gu, Seoul',\n",
       "    'rn': '청파로',\n",
       "    'emdNm': '중림동',\n",
       "    'zipNo': '04505',\n",
       "    'roadAddrPart2': ' (중림동)',\n",
       "    'emdNo': '02',\n",
       "    'sggNm': '중구',\n",
       "    'jibunAddr': '서울특별시 중구 중림동 441 한국경제신문사',\n",
       "    'siNm': '서울특별시',\n",
       "    'roadAddrPart1': '서울특별시 중구 청파로 463',\n",
       "    'bdNm': '한국경제신문사',\n",
       "    'admCd': '1114017100',\n",
       "    'udrtYn': '0',\n",
       "    'lnbrMnnm': '441',\n",
       "    'roadAddr': '서울특별시 중구 청파로 463 (중림동)',\n",
       "    'lnbrSlno': '0',\n",
       "    'buldMnnm': '463',\n",
       "    'bdKdcd': '0',\n",
       "    'liNm': '',\n",
       "    'rnMgtSn': '111403101023',\n",
       "    'mtYn': '0',\n",
       "    'bdMgtSn': '1114017100104410000000321',\n",
       "    'buldSlno': '0'}]}}"
      ]
     },
     "metadata": {},
     "execution_count": 8
    }
   ],
   "source": [
    "result = requests.get(url).json()      # REST API키를 줘서 받겠다. \n",
    "result                                 \n",
    "# errorMessage : 정상 이면 정상! -> API활용가이드 보면 메세지가 나와있다. "
   ]
  },
  {
   "cell_type": "code",
   "execution_count": 26,
   "metadata": {},
   "outputs": [
    {
     "output_type": "execute_result",
     "data": {
      "text/plain": [
       "'서울특별시 중구 청파로 463 (중림동)'"
      ]
     },
     "metadata": {},
     "execution_count": 26
    }
   ],
   "source": [
    "# result로부터 bdNm하고 roadAddr 뽑아내기\n",
    "building_name = result['results']['juso'][0]['bdNm']\n",
    "road_address = result['results']['juso'][0]['roadAddr']"
   ]
  },
  {
   "source": [
    "* 5개의 건물명을 리스트로 받아 도로명주소를 구한 뒤 데이터프레임으로 만들어 CSV파일(addr.csv)로 만들기"
   ],
   "cell_type": "markdown",
   "metadata": {}
  },
  {
   "cell_type": "code",
   "execution_count": 73,
   "metadata": {},
   "outputs": [],
   "source": [
    "find = ['한국경제신문사','서울특별시청','종로구청','중구청','효창공원']\n",
    "blNm = []\n",
    "roadAddr = []\n",
    "\n",
    "for each in find:\n",
    "    url = f'{road_url}?confmKey={road_key}&currentPage=1&countPerPage=10&keyword={quote(each)}&resultType=json'\n",
    "    result = requests.get(url).json()\n",
    "    blNm.append(result['results']['juso'][0]['bdNm'])\n",
    "    roadAddr.append(result['results']['juso'][0]['roadAddr'])"
   ]
  },
  {
   "cell_type": "code",
   "execution_count": 74,
   "metadata": {},
   "outputs": [],
   "source": [
    "roadAddr = pd.DataFrame({'건물명': blNm,'주소' : roadAddr\n",
    "})\n",
    "roadAddr.to_csv('addr.csv',index=False, sep=',',encoding='utf8')"
   ]
  }
 ]
}