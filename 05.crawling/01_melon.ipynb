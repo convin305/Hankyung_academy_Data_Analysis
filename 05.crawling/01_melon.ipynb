{
 "metadata": {
  "language_info": {
   "codemirror_mode": {
    "name": "ipython",
    "version": 3
   },
   "file_extension": ".py",
   "mimetype": "text/x-python",
   "name": "python",
   "nbconvert_exporter": "python",
   "pygments_lexer": "ipython3",
   "version": "3.8.5"
  },
  "orig_nbformat": 2,
  "kernelspec": {
   "name": "python385jvsc74a57bd08c1eae21719a0790335dcb83aad72b63b602cfe5cdb2bda0f60bc11d4f154e4b",
   "display_name": "Python 3.8.5 64-bit ('base': conda)"
  }
 },
 "nbformat": 4,
 "nbformat_minor": 2,
 "cells": [
  {
   "source": [
    "## Melon 주간 차트 크롤링 - beautifulsoup 이용"
   ],
   "cell_type": "markdown",
   "metadata": {}
  },
  {
   "cell_type": "code",
   "execution_count": 1,
   "metadata": {},
   "outputs": [],
   "source": [
    "import pandas as pd\n",
    "import requests"
   ]
  },
  {
   "cell_type": "code",
   "execution_count": 6,
   "metadata": {},
   "outputs": [],
   "source": [
    "# 한빛 아카데미의 경우 - 정보가 쭉 나온다. \n",
    "url = \"https://www.hanbit.co.kr/academy/\"\n",
    "req = requests.get(url)\n",
    "html = req.text\n",
    "# html"
   ]
  },
  {
   "cell_type": "code",
   "execution_count": 7,
   "metadata": {},
   "outputs": [
    {
     "output_type": "execute_result",
     "data": {
      "text/plain": [
       "''"
      ]
     },
     "metadata": {},
     "execution_count": 7
    }
   ],
   "source": [
    "# 멜론의 경우 - 막아놓아서 정보가 따로 나오지 않는다. \n",
    "url = \"https://www.melon.com/chart/week/index.htm\"\n",
    "req = requests.get(url)\n",
    "html = req.text\n",
    "html"
   ]
  },
  {
   "source": [
    "Console창에서 \n",
    "navigator.userAgent를 한 뒤 나오는 값을 header로 줘야만 정보를 내어준다."
   ],
   "cell_type": "markdown",
   "metadata": {}
  },
  {
   "cell_type": "code",
   "execution_count": 9,
   "metadata": {},
   "outputs": [],
   "source": [
    "# 방법\n",
    "header = {'User-Agent' : \"Mozilla/5.0 (Windows NT 10.0; Win64; x64) AppleWebKit/537.36 (KHTML, like Gecko) Chrome/91.0.4472.77 Safari/537.36\"}\n",
    "url = \"https://www.melon.com/chart/week/index.htm\"\n",
    "req = requests.get(url,headers = header)\n",
    "html = req.text\n",
    "# html"
   ]
  },
  {
   "source": [
    "html파일 열기"
   ],
   "cell_type": "markdown",
   "metadata": {}
  },
  {
   "cell_type": "code",
   "execution_count": 11,
   "metadata": {},
   "outputs": [],
   "source": [
    "from bs4 import BeautifulSoup\n",
    "\n",
    "soup = BeautifulSoup(html, 'html.parser')"
   ]
  },
  {
   "source": [
    "* selector 방식으로 찾기"
   ],
   "cell_type": "markdown",
   "metadata": {}
  },
  {
   "cell_type": "code",
   "execution_count": null,
   "metadata": {},
   "outputs": [],
   "source": [
    "#lst50 > td:nth-child(6) > div > div > div.ellipsis.rank01 > span > a"
   ]
  },
  {
   "source": [
    "* Copy Xpath 방식으로 찾기"
   ],
   "cell_type": "markdown",
   "metadata": {}
  },
  {
   "cell_type": "code",
   "execution_count": null,
   "metadata": {},
   "outputs": [],
   "source": [
    "\n",
    "//*[@id=\"lst50\"]/td[6]/div/div/div[1]/span/a"
   ]
  },
  {
   "source": [
    "* beautiful soup - id 방식으로 찾기"
   ],
   "cell_type": "markdown",
   "metadata": {}
  },
  {
   "cell_type": "code",
   "execution_count": 12,
   "metadata": {},
   "outputs": [
    {
     "output_type": "execute_result",
     "data": {
      "text/plain": [
       "50"
      ]
     },
     "metadata": {},
     "execution_count": 12
    }
   ],
   "source": [
    "trs = soup.select('#lst50')         #id\n",
    "len(trs)                            # 50개가 trs에 다 들어가 있는 상태"
   ]
  },
  {
   "source": [
    "### 하나 가지고 test"
   ],
   "cell_type": "markdown",
   "metadata": {}
  },
  {
   "cell_type": "code",
   "execution_count": 13,
   "metadata": {},
   "outputs": [
    {
     "output_type": "execute_result",
     "data": {
      "text/plain": [
       "<tr class=\"lst50\" data-song-no=\"33507137\" id=\"lst50\">\n",
       "<td><div class=\"wrap t_right\"><input class=\"input_check\" name=\"input_check\" title=\"Butter 곡 선택\" type=\"checkbox\" value=\"33507137\"/></div></td>\n",
       "<td><div class=\"wrap t_center\"><span class=\"rank\">1</span><span class=\"none\">위</span></div></td>\n",
       "<!-- 차트순위 추가 -->\n",
       "<td><div class=\"wrap\">\n",
       "<span class=\"rank_wrap\" title=\"14단계 상승\">\n",
       "<span class=\"bullet_icons rank_up\"><span class=\"none\">단계 상승</span></span>\n",
       "<span class=\"up\">14</span>\n",
       "</span>\n",
       "</div></td>\n",
       "<td><div class=\"wrap\">\n",
       "<a class=\"image_typeAll\" href=\"javascript:melon.link.goAlbumDetail('10612483');\" title=\"Butter\">\n",
       "<img alt=\"Butter - 페이지 이동\" height=\"60\" onerror=\"WEBPOCIMG.defaultAlbumImg(this);\" src=\"https://cdnimg.melon.co.kr/cm2/album/images/106/12/483/10612483_20210521111412_500.jpg/melon/resize/120/quality/80/optimize\" width=\"60\">\n",
       "<span class=\"bg_album_frame\"></span>\n",
       "</img></a>\n",
       "</div></td>\n",
       "<td><div class=\"wrap\">\n",
       "<a class=\"btn button_icons type03 song_info\" href=\"javascript:melon.link.goSongDetail('33507137');\" title=\"Butter 곡정보\"><span class=\"none\">곡정보</span></a>\n",
       "</div></td>\n",
       "<td><div class=\"wrap\">\n",
       "<div class=\"wrap_song_info\">\n",
       "<div class=\"ellipsis rank01\"><span>\n",
       "<a href=\"javascript:melon.play.playSong('19041301',33507137);\" title=\"Butter 재생\">Butter</a>\n",
       "</span></div><br/>\n",
       "<div class=\"ellipsis rank02\">\n",
       "<a href=\"javascript:melon.link.goArtistDetail('672375');\" title=\"방탄소년단 - 페이지 이동\">방탄소년단</a><span class=\"checkEllipsis\" style=\"display:none\"><a href=\"javascript:melon.link.goArtistDetail('672375');\" title=\"방탄소년단 - 페이지 이동\">방탄소년단</a></span>\n",
       "</div>\n",
       "</div>\n",
       "</div></td>\n",
       "<td><div class=\"wrap\">\n",
       "<div class=\"wrap_song_info\">\n",
       "<div class=\"ellipsis rank03\">\n",
       "<a href=\"javascript:melon.link.goAlbumDetail('10612483');\" title=\"Butter - 페이지 이동\">Butter</a>\n",
       "</div>\n",
       "</div>\n",
       "</div></td>\n",
       "<td><div class=\"wrap\">\n",
       "<button class=\"button_etc like\" data-song-menuid=\"19041301\" data-song-no=\"33507137\" title=\"Butter 좋아요\" type=\"button\">\n",
       "<span class=\"odd_span\">좋아요</span>\n",
       "<span class=\"cnt\">\n",
       "<span class=\"none\">총건수</span>\n",
       "\t\t\t\t\t\t\t\t\t\t\t\t0\n",
       "\t\t\t\t\t\t\t\t\t\t\t</span>\n",
       "</button>\n",
       "</div></td>\n",
       "<td><div class=\"wrap t_center\">\n",
       "<button class=\"button_icons play\" onclick=\"melon.play.playSong('19041301',33507137);\" title=\"듣기\" type=\"button\"><span class=\"none\">듣기</span></button>\n",
       "</div></td>\n",
       "<td><div class=\"wrap t_center\">\n",
       "<button class=\"button_icons scrap\" onclick=\"melon.play.addPlayList('33507137');\" title=\"담기\" type=\"button\"><span class=\"none\">담기</span></button>\n",
       "</div></td>\n",
       "<td><div class=\"wrap t_center\">\n",
       "<button class=\"button_icons download\" onclick=\"melon.buy.goBuyProduct('frm', '33507137', '3C0001', '','0', '19041301');\" title=\"다운로드\" type=\"button\"><span class=\"none\">다운로드</span></button>\n",
       "</div></td>\n",
       "<td><div class=\"wrap t_center\">\n",
       "<button class=\"button_icons video\" onclick=\"melon.link.goMvDetail('19041301', '33507137','song');\" title=\"뮤직비디오\" type=\"button\"><span class=\"none\">뮤직비디오</span></button>\n",
       "</div></td>\n",
       "</tr>"
      ]
     },
     "metadata": {},
     "execution_count": 13
    }
   ],
   "source": [
    "# 데이터 한 즐 확인\n",
    "tr = trs[0]\n",
    "# tr"
   ]
  },
  {
   "source": [
    "순위 가져오기"
   ],
   "cell_type": "markdown",
   "metadata": {}
  },
  {
   "cell_type": "code",
   "execution_count": 14,
   "metadata": {},
   "outputs": [
    {
     "output_type": "execute_result",
     "data": {
      "text/plain": [
       "<span class=\"rank\">1</span>"
      ]
     },
     "metadata": {},
     "execution_count": 14
    }
   ],
   "source": [
    "rank = tr.select_one('.rank')                   # class = \"rank\"인 것 찾기\n",
    "rank"
   ]
  },
  {
   "cell_type": "code",
   "execution_count": 16,
   "metadata": {},
   "outputs": [
    {
     "output_type": "execute_result",
     "data": {
      "text/plain": [
       "1"
      ]
     },
     "metadata": {},
     "execution_count": 16
    }
   ],
   "source": [
    "rank= tr.select_one(\".rank\").string             # 원하는 것을 얻기 위해서는 한단계 더 가야한다. get_text() 쓰기도 함.\n",
    "rank = int(rank)\n",
    "rank"
   ]
  },
  {
   "source": [
    "곡 제목 가져오기  \n",
    "참고) 클래스 하나 밑으로 갈 때 마다 중간에 . 을 추가한다.  \n",
    "* soup.find : 해당 조건에 맞는 가장 첫번째 값을 가져온다.  \n",
    "* soup.find_all : 해당 조건에 맞는 모든 태그들을 가져온다.  "
   ],
   "cell_type": "markdown",
   "metadata": {}
  },
  {
   "cell_type": "code",
   "execution_count": 19,
   "metadata": {},
   "outputs": [
    {
     "output_type": "execute_result",
     "data": {
      "text/plain": [
       "'Butter'"
      ]
     },
     "metadata": {},
     "execution_count": 19
    }
   ],
   "source": [
    "title = tr.select_one('.ellipsis.rank01')\n",
    "title = title.find('a').get_text()           # 'a'태그를 가져와서 문자를 추출하기\n",
    "title"
   ]
  },
  {
   "source": [
    "가수명 가져오기"
   ],
   "cell_type": "markdown",
   "metadata": {}
  },
  {
   "cell_type": "code",
   "execution_count": 23,
   "metadata": {},
   "outputs": [
    {
     "output_type": "execute_result",
     "data": {
      "text/plain": [
       "'방탄소년단'"
      ]
     },
     "metadata": {},
     "execution_count": 23
    }
   ],
   "source": [
    "#곡 제목과 같은 방식으로 진행\n",
    "artist = tr.select_one('.ellipsis.rank02')\n",
    "artist = artist.find('a').get_text()\n",
    "artist"
   ]
  },
  {
   "source": [
    "앨범명 가져오기"
   ],
   "cell_type": "markdown",
   "metadata": {}
  },
  {
   "cell_type": "code",
   "execution_count": 24,
   "metadata": {},
   "outputs": [
    {
     "output_type": "execute_result",
     "data": {
      "text/plain": [
       "'Butter'"
      ]
     },
     "metadata": {},
     "execution_count": 24
    }
   ],
   "source": [
    "album = tr.select_one('.ellipsis.rank03')\n",
    "album = album.find('a').string\n",
    "album"
   ]
  },
  {
   "source": [
    "### 50곡에 대해서 데이터프레임 만들기"
   ],
   "cell_type": "markdown",
   "metadata": {}
  },
  {
   "cell_type": "code",
   "execution_count": 25,
   "metadata": {},
   "outputs": [
    {
     "output_type": "execute_result",
     "data": {
      "text/plain": [
       "   순위                                      곡명                 가수  \\\n",
       "0   1                                  Butter              방탄소년단   \n",
       "1   2                           Dun Dun Dance  오마이걸 (OH MY GIRL)   \n",
       "2   3  Peaches (Feat. Daniel Caesar & Giveon)      Justin Bieber   \n",
       "3   4                                   헤픈 우연        헤이즈 (Heize)   \n",
       "4   5                            롤린 (Rollin')             브레이브걸스   \n",
       "\n",
       "              앨범  \n",
       "0         Butter  \n",
       "1  Dear OHMYGIRL  \n",
       "2        Justice  \n",
       "3         HAPPEN  \n",
       "4        Rollin'  "
      ],
      "text/html": "<div>\n<style scoped>\n    .dataframe tbody tr th:only-of-type {\n        vertical-align: middle;\n    }\n\n    .dataframe tbody tr th {\n        vertical-align: top;\n    }\n\n    .dataframe thead th {\n        text-align: right;\n    }\n</style>\n<table border=\"1\" class=\"dataframe\">\n  <thead>\n    <tr style=\"text-align: right;\">\n      <th></th>\n      <th>순위</th>\n      <th>곡명</th>\n      <th>가수</th>\n      <th>앨범</th>\n    </tr>\n  </thead>\n  <tbody>\n    <tr>\n      <th>0</th>\n      <td>1</td>\n      <td>Butter</td>\n      <td>방탄소년단</td>\n      <td>Butter</td>\n    </tr>\n    <tr>\n      <th>1</th>\n      <td>2</td>\n      <td>Dun Dun Dance</td>\n      <td>오마이걸 (OH MY GIRL)</td>\n      <td>Dear OHMYGIRL</td>\n    </tr>\n    <tr>\n      <th>2</th>\n      <td>3</td>\n      <td>Peaches (Feat. Daniel Caesar &amp; Giveon)</td>\n      <td>Justin Bieber</td>\n      <td>Justice</td>\n    </tr>\n    <tr>\n      <th>3</th>\n      <td>4</td>\n      <td>헤픈 우연</td>\n      <td>헤이즈 (Heize)</td>\n      <td>HAPPEN</td>\n    </tr>\n    <tr>\n      <th>4</th>\n      <td>5</td>\n      <td>롤린 (Rollin')</td>\n      <td>브레이브걸스</td>\n      <td>Rollin'</td>\n    </tr>\n  </tbody>\n</table>\n</div>"
     },
     "metadata": {},
     "execution_count": 25
    }
   ],
   "source": [
    "rank_list, title_list, artist_list, album_list = [],[],[],[]\n",
    "\n",
    "for tr in trs:\n",
    "    rank= tr.select_one(\".rank\").string\n",
    "    rank = int(rank)\n",
    "\n",
    "    title = tr.select_one('.ellipsis.rank01')\n",
    "    title = title.find('a').get_text()\n",
    "\n",
    "    artist = tr.select_one('.ellipsis.rank02')\n",
    "    artist = artist.find('a').get_text()\n",
    "\n",
    "    album = tr.select_one('.ellipsis.rank03')\n",
    "    album = album.find('a').string\n",
    "\n",
    "    rank_list.append(rank)\n",
    "    title_list.append(title)\n",
    "    artist_list.append(artist)\n",
    "    album_list.append(album)\n",
    "\n",
    "\n",
    "df = pd.DataFrame({'순위' : rank_list, '곡명' : title_list, '가수' : artist_list, '앨범' : album_list})\n",
    "df.head()"
   ]
  },
  {
   "source": [
    "* 이미지 속성값 가져오기"
   ],
   "cell_type": "markdown",
   "metadata": {}
  },
  {
   "cell_type": "code",
   "execution_count": 28,
   "metadata": {},
   "outputs": [
    {
     "output_type": "execute_result",
     "data": {
      "text/plain": [
       "'https://cdnimg.melon.co.kr/cm2/album/images/106/12/483/10612483_20210521111412_500.jpg/melon/resize/120/quality/80/optimize'"
      ]
     },
     "metadata": {},
     "execution_count": 28
    }
   ],
   "source": [
    "image = trs[0].select_one(\".image_typeAll\").find('img')\n",
    "image = image['src']\n",
    "image"
   ]
  },
  {
   "cell_type": "code",
   "execution_count": 35,
   "metadata": {},
   "outputs": [],
   "source": [
    "image_list = []\n",
    "for tr in trs:\n",
    "    image = tr.select_one(\".image_typeAll\").find('img')\n",
    "    image = image['src']\n",
    "    image_list.append(image)\n",
    "\n",
    "df['이미지'] = image_list"
   ]
  },
  {
   "source": [
    "100까지 가져오기"
   ],
   "cell_type": "markdown",
   "metadata": {}
  },
  {
   "cell_type": "code",
   "execution_count": 29,
   "metadata": {},
   "outputs": [
    {
     "output_type": "execute_result",
     "data": {
      "text/plain": [
       "50"
      ]
     },
     "metadata": {},
     "execution_count": 29
    }
   ],
   "source": [
    "trs100 = soup.select('#lst100')         \n",
    "len(trs100)  "
   ]
  },
  {
   "cell_type": "code",
   "execution_count": 30,
   "metadata": {},
   "outputs": [
    {
     "output_type": "execute_result",
     "data": {
      "text/plain": [
       "<tr class=\"lst100\" data-song-no=\"33229299\" id=\"lst100\" style=\"\">\n",
       "<td><div class=\"wrap t_right\"><input class=\"input_check\" name=\"input_check\" title=\"이 밤을 빌려 말해요 (바른연애 길잡이 X 10CM) 곡 선택\" type=\"checkbox\" value=\"33229299\"/></div></td>\n",
       "<td><div class=\"wrap t_center\"><span class=\"rank\">51</span><span class=\"none\">위</span></div></td>\n",
       "<!-- 차트순위 추가 -->\n",
       "<td><div class=\"wrap\">\n",
       "<span class=\"rank_wrap\" title=\"8단계 하락\">\n",
       "<span class=\"bullet_icons rank_down\"><span class=\"none\">단계 하락</span></span>\n",
       "<span class=\"down\">8</span>\n",
       "</span>\n",
       "</div></td>\n",
       "<td><div class=\"wrap\">\n",
       "<a class=\"image_typeAll\" href=\"javascript:melon.link.goAlbumDetail('10552055');\" title=\"이 밤을 빌려 말해요 (바른연애 길잡이 X 10CM)\">\n",
       "<img alt=\"이 밤을 빌려 말해요 (바른연애 길잡이 X 10CM) - 페이지 이동\" height=\"60\" onerror=\"WEBPOCIMG.defaultAlbumImg(this);\" src=\"https://cdnimg.melon.co.kr/cm2/album/images/105/52/055/10552055_20210122153304_500.jpg/melon/resize/120/quality/80/optimize\" width=\"60\"/>\n",
       "<span class=\"bg_album_frame\"></span>\n",
       "</a>\n",
       "</div></td>\n",
       "<td><div class=\"wrap\">\n",
       "<a class=\"btn button_icons type03 song_info\" href=\"javascript:melon.link.goSongDetail('33229299');\" title=\"이 밤을 빌려 말해요 (바른연애 길잡이 X 10CM) 곡정보\"><span class=\"none\">곡정보</span></a>\n",
       "</div></td>\n",
       "<td><div class=\"wrap\">\n",
       "<div class=\"wrap_song_info\">\n",
       "<div class=\"ellipsis rank01\"><span>\n",
       "<a href=\"javascript:melon.play.playSong('19041301',33229299);\" title=\"이 밤을 빌려 말해요 (바른연애 길잡이 X 10CM) 재생\">이 밤을 빌려 말해요 (바른연애 길잡이 X 10CM)</a>\n",
       "</span></div><br/>\n",
       "<div class=\"ellipsis rank02\">\n",
       "<a href=\"javascript:melon.link.goArtistDetail('468244');\" title=\"10CM - 페이지 이동\">10CM</a><span class=\"checkEllipsis\" style=\"display:none\"><a href=\"javascript:melon.link.goArtistDetail('468244');\" title=\"10CM - 페이지 이동\">10CM</a></span>\n",
       "</div>\n",
       "</div>\n",
       "</div></td>\n",
       "<td><div class=\"wrap\">\n",
       "<div class=\"wrap_song_info\">\n",
       "<div class=\"ellipsis rank03\">\n",
       "<a href=\"javascript:melon.link.goAlbumDetail('10552055');\" title=\"이 밤을 빌려 말해요 (바른연애 길잡이 X 10CM) - 페이지 이동\">이 밤을 빌려 말해요 (바른연애 길잡이 X 10CM)</a>\n",
       "</div>\n",
       "</div>\n",
       "</div></td>\n",
       "<td><div class=\"wrap\">\n",
       "<button class=\"button_etc like\" data-song-menuid=\"19041301\" data-song-no=\"33229299\" title=\"이 밤을 빌려 말해요 (바른연애 길잡이 X 10CM) 좋아요\" type=\"button\">\n",
       "<span class=\"odd_span\">좋아요</span>\n",
       "<span class=\"cnt\">\n",
       "<span class=\"none\">총건수</span>\n",
       "\t\t\t\t\t\t\t\t\t\t\t\t0\n",
       "\t\t\t\t\t\t\t\t\t\t\t</span>\n",
       "</button>\n",
       "</div></td>\n",
       "<td><div class=\"wrap t_center\">\n",
       "<button class=\"button_icons play\" onclick=\"melon.play.playSong('19041301',33229299);\" title=\"듣기\" type=\"button\"><span class=\"none\">듣기</span></button>\n",
       "</div></td>\n",
       "<td><div class=\"wrap t_center\">\n",
       "<button class=\"button_icons scrap\" onclick=\"melon.play.addPlayList('33229299');\" title=\"담기\" type=\"button\"><span class=\"none\">담기</span></button>\n",
       "</div></td>\n",
       "<td><div class=\"wrap t_center\">\n",
       "<button class=\"button_icons download\" onclick=\"melon.buy.goBuyProduct('frm', '33229299', '3C0001', '','0', '19041301');\" title=\"다운로드\" type=\"button\"><span class=\"none\">다운로드</span></button>\n",
       "</div></td>\n",
       "<td><div class=\"wrap t_center\">\n",
       "<button class=\"button_icons video disabled\" disabled=\"disabled\" onclick=\"melon.link.goMvDetail('19041301', '33229299','song');\" title=\"뮤직비디오\" type=\"button\"><span class=\"none\">뮤직비디오</span></button>\n",
       "</div></td>\n",
       "</tr>"
      ]
     },
     "metadata": {},
     "execution_count": 30
    }
   ],
   "source": [
    "# trs100[0]"
   ]
  },
  {
   "cell_type": "code",
   "execution_count": 31,
   "metadata": {},
   "outputs": [
    {
     "output_type": "execute_result",
     "data": {
      "text/plain": [
       "   순위                                      곡명                 가수  \\\n",
       "0   1                                  Butter              방탄소년단   \n",
       "1   2                           Dun Dun Dance  오마이걸 (OH MY GIRL)   \n",
       "2   3  Peaches (Feat. Daniel Caesar & Giveon)      Justin Bieber   \n",
       "3   4                                   헤픈 우연        헤이즈 (Heize)   \n",
       "4   5                            롤린 (Rollin')             브레이브걸스   \n",
       "\n",
       "              앨범  \n",
       "0         Butter  \n",
       "1  Dear OHMYGIRL  \n",
       "2        Justice  \n",
       "3         HAPPEN  \n",
       "4        Rollin'  "
      ],
      "text/html": "<div>\n<style scoped>\n    .dataframe tbody tr th:only-of-type {\n        vertical-align: middle;\n    }\n\n    .dataframe tbody tr th {\n        vertical-align: top;\n    }\n\n    .dataframe thead th {\n        text-align: right;\n    }\n</style>\n<table border=\"1\" class=\"dataframe\">\n  <thead>\n    <tr style=\"text-align: right;\">\n      <th></th>\n      <th>순위</th>\n      <th>곡명</th>\n      <th>가수</th>\n      <th>앨범</th>\n    </tr>\n  </thead>\n  <tbody>\n    <tr>\n      <th>0</th>\n      <td>1</td>\n      <td>Butter</td>\n      <td>방탄소년단</td>\n      <td>Butter</td>\n    </tr>\n    <tr>\n      <th>1</th>\n      <td>2</td>\n      <td>Dun Dun Dance</td>\n      <td>오마이걸 (OH MY GIRL)</td>\n      <td>Dear OHMYGIRL</td>\n    </tr>\n    <tr>\n      <th>2</th>\n      <td>3</td>\n      <td>Peaches (Feat. Daniel Caesar &amp; Giveon)</td>\n      <td>Justin Bieber</td>\n      <td>Justice</td>\n    </tr>\n    <tr>\n      <th>3</th>\n      <td>4</td>\n      <td>헤픈 우연</td>\n      <td>헤이즈 (Heize)</td>\n      <td>HAPPEN</td>\n    </tr>\n    <tr>\n      <th>4</th>\n      <td>5</td>\n      <td>롤린 (Rollin')</td>\n      <td>브레이브걸스</td>\n      <td>Rollin'</td>\n    </tr>\n  </tbody>\n</table>\n</div>"
     },
     "metadata": {},
     "execution_count": 31
    }
   ],
   "source": [
    "for tr in trs100:\n",
    "    rank= tr.select_one(\".rank\").string\n",
    "    rank = int(rank)\n",
    "\n",
    "    title = tr.select_one('.ellipsis.rank01')\n",
    "    title = title.find('a').get_text()\n",
    "\n",
    "    artist = tr.select_one('.ellipsis.rank02')\n",
    "    artist = artist.find('a').get_text()\n",
    "\n",
    "    album = tr.select_one('.ellipsis.rank03')\n",
    "    album = album.find('a').string\n",
    "\n",
    "    rank_list.append(rank)\n",
    "    title_list.append(title)\n",
    "    artist_list.append(artist)\n",
    "    album_list.append(album)\n",
    "\n",
    "\n",
    "df100 = pd.DataFrame({'순위' : rank_list, '곡명' : title_list, '가수' : artist_list, '앨범' : album_list})\n",
    "df100.head()"
   ]
  },
  {
   "cell_type": "code",
   "execution_count": 39,
   "metadata": {},
   "outputs": [],
   "source": [
    "for tr in trs100:\n",
    "    image = tr.select_one(\".image_typeAll\").find('img')\n",
    "    image = image['src']\n",
    "    image_list.append(image)\n",
    "\n",
    "df100['이미지'] = image_list"
   ]
  },
  {
   "cell_type": "code",
   "execution_count": 40,
   "metadata": {},
   "outputs": [
    {
     "output_type": "execute_result",
     "data": {
      "text/plain": [
       "     순위                  곡명         가수                             앨범  \\\n",
       "95   96           혼술하고 싶은 밤          벤                      혼술하고 싶은 밤   \n",
       "96   97                 죄와벌     SG 워너비                            살다가   \n",
       "97   98                 되풀이        임창정              펜트하우스2 OST Part.1   \n",
       "98   99  고래 (Dive Into You)  NCT DREAM  맛 (Hot Sauce) - The 1st Album   \n",
       "99  100   돌림노래 (Feat. DEAN)        아이유           IU 5th Album 'LILAC'   \n",
       "\n",
       "                                                  이미지  \n",
       "95  https://cdnimg.melon.co.kr/cm2/album/images/10...  \n",
       "96  https://cdnimg.melon.co.kr/cm/album/images/000...  \n",
       "97  https://cdnimg.melon.co.kr/cm2/album/images/10...  \n",
       "98  https://cdnimg.melon.co.kr/cm2/album/images/10...  \n",
       "99  https://cdnimg.melon.co.kr/cm2/album/images/10...  "
      ],
      "text/html": "<div>\n<style scoped>\n    .dataframe tbody tr th:only-of-type {\n        vertical-align: middle;\n    }\n\n    .dataframe tbody tr th {\n        vertical-align: top;\n    }\n\n    .dataframe thead th {\n        text-align: right;\n    }\n</style>\n<table border=\"1\" class=\"dataframe\">\n  <thead>\n    <tr style=\"text-align: right;\">\n      <th></th>\n      <th>순위</th>\n      <th>곡명</th>\n      <th>가수</th>\n      <th>앨범</th>\n      <th>이미지</th>\n    </tr>\n  </thead>\n  <tbody>\n    <tr>\n      <th>95</th>\n      <td>96</td>\n      <td>혼술하고 싶은 밤</td>\n      <td>벤</td>\n      <td>혼술하고 싶은 밤</td>\n      <td>https://cdnimg.melon.co.kr/cm2/album/images/10...</td>\n    </tr>\n    <tr>\n      <th>96</th>\n      <td>97</td>\n      <td>죄와벌</td>\n      <td>SG 워너비</td>\n      <td>살다가</td>\n      <td>https://cdnimg.melon.co.kr/cm/album/images/000...</td>\n    </tr>\n    <tr>\n      <th>97</th>\n      <td>98</td>\n      <td>되풀이</td>\n      <td>임창정</td>\n      <td>펜트하우스2 OST Part.1</td>\n      <td>https://cdnimg.melon.co.kr/cm2/album/images/10...</td>\n    </tr>\n    <tr>\n      <th>98</th>\n      <td>99</td>\n      <td>고래 (Dive Into You)</td>\n      <td>NCT DREAM</td>\n      <td>맛 (Hot Sauce) - The 1st Album</td>\n      <td>https://cdnimg.melon.co.kr/cm2/album/images/10...</td>\n    </tr>\n    <tr>\n      <th>99</th>\n      <td>100</td>\n      <td>돌림노래 (Feat. DEAN)</td>\n      <td>아이유</td>\n      <td>IU 5th Album 'LILAC'</td>\n      <td>https://cdnimg.melon.co.kr/cm2/album/images/10...</td>\n    </tr>\n  </tbody>\n</table>\n</div>"
     },
     "metadata": {},
     "execution_count": 40
    }
   ],
   "source": [
    "df100.tail()"
   ]
  },
  {
   "source": [
    "조금 더 간단하기"
   ],
   "cell_type": "markdown",
   "metadata": {}
  },
  {
   "cell_type": "code",
   "execution_count": null,
   "metadata": {},
   "outputs": [],
   "source": [
    "trs = soup.select('#lst50')\n",
    "trs100 = soup.select('#lst100')\n",
    "trs.extend(trs100)\n",
    "len(trs)"
   ]
  },
  {
   "cell_type": "code",
   "execution_count": null,
   "metadata": {},
   "outputs": [],
   "source": [
    "rank_list, title_list, artist_list, album_list,image_list = [],[],[],[],[]\n",
    "\n",
    "for tr in trs:\n",
    "    rank= tr.select_one(\".rank\").string\n",
    "    rank = int(rank)\n",
    "\n",
    "    title = tr.select_one('.ellipsis.rank01')\n",
    "    title = title.find('a').get_text()\n",
    "\n",
    "    artist = tr.select_one('.ellipsis.rank02')\n",
    "    artist = artist.find('a').get_text()\n",
    "\n",
    "    album = tr.select_one('.ellipsis.rank03')\n",
    "    album = album.find('a').string\n",
    "\n",
    "    image = tr.select_one(\".image_typeAll\").find('img')\n",
    "    image = image['src']\n",
    "\n",
    "    rank_list.append(rank)\n",
    "    title_list.append(title)\n",
    "    artist_list.append(artist)\n",
    "    album_list.append(album)\n",
    "    image_list.append(image)\n",
    "\n",
    "\n",
    "df = pd.DataFrame({'순위' : rank_list, '곡명' : title_list, '가수' : artist_list, '앨범' : album_list, '이미지' : image_list})\n",
    "df.head()"
   ]
  },
  {
   "source": [
    "* 파일에 저장하기"
   ],
   "cell_type": "markdown",
   "metadata": {}
  },
  {
   "cell_type": "code",
   "execution_count": 47,
   "metadata": {},
   "outputs": [
    {
     "output_type": "execute_result",
     "data": {
      "text/plain": [
       "'2021.05.24 ~ 2021.05.30'"
      ]
     },
     "metadata": {},
     "execution_count": 47
    }
   ],
   "source": [
    "# 기간 추출\n",
    "period = soup.select_one(\".yyyymmdd\").get_text().strip()\n",
    "period"
   ]
  },
  {
   "cell_type": "code",
   "execution_count": 50,
   "metadata": {},
   "outputs": [],
   "source": [
    "filename = f'melon {period}.csv'\n",
    "df100.to_csv(filename,index=False,sep=\",\",encoding='utf-8')     # CSV로 저장완료"
   ]
  }
 ]
}