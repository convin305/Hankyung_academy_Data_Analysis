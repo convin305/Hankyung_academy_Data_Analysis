{
 "metadata": {
  "language_info": {
   "codemirror_mode": {
    "name": "ipython",
    "version": 3
   },
   "file_extension": ".py",
   "mimetype": "text/x-python",
   "name": "python",
   "nbconvert_exporter": "python",
   "pygments_lexer": "ipython3",
   "version": "3.8.5"
  },
  "orig_nbformat": 2,
  "kernelspec": {
   "name": "python385jvsc74a57bd08c1eae21719a0790335dcb83aad72b63b602cfe5cdb2bda0f60bc11d4f154e4b",
   "display_name": "Python 3.8.5 64-bit ('base': conda)"
  }
 },
 "nbformat": 4,
 "nbformat_minor": 2,
 "cells": [
  {
   "source": [
    "## Google 검색 - selenium 이용  \n",
    "\n",
    "### Selenium  \n",
    "- 브라우저를 통해서 할 수 있는 모든 일(키보드입력, 마우스 클릭까지도)을 자동화하여 처리할 수 있다.  \n",
    "- 브라우저를 띄우지 않고도 실행 가능하다.  \n",
    "- 웹 로딩 시 시간이 걸리므로 프로그래밍시 주의가 필요.  \n",
    "- driver.close()를 이용해 끝내기 전에 드라이버를 닫아야 한다.   "
   ],
   "cell_type": "markdown",
   "metadata": {}
  },
  {
   "cell_type": "code",
   "execution_count": 2,
   "metadata": {},
   "outputs": [],
   "source": [
    "import pandas as pd\n",
    "import requests"
   ]
  },
  {
   "source": [
    "이전과 같이 이렇게 하는 것은 한계가 있다. "
   ],
   "cell_type": "markdown",
   "metadata": {}
  },
  {
   "cell_type": "code",
   "execution_count": 3,
   "metadata": {},
   "outputs": [],
   "source": [
    "url = \"https://www.google.com/\"\n",
    "req = requests.get(url)\n",
    "html = req.text\n",
    "# html"
   ]
  },
  {
   "cell_type": "code",
   "execution_count": 4,
   "metadata": {},
   "outputs": [],
   "source": [
    "import time\n",
    "from selenium import webdriver\n",
    "from selenium.webdriver.common.keys import Keys"
   ]
  },
  {
   "cell_type": "code",
   "execution_count": 5,
   "metadata": {},
   "outputs": [],
   "source": [
    "#다른 디렉토리에 브라우저가 있는 경우 경로 꼭 적어주기\n",
    "driver = webdriver.Chrome('./chromedriver')\n",
    "driver.get(\"https://www.google.com/\")       # 자동으로 켜진다\n",
    "time.sleep(1)                               # 1초 기다리기"
   ]
  },
  {
   "cell_type": "code",
   "execution_count": 9,
   "metadata": {},
   "outputs": [],
   "source": [
    "# 켜진 창 닫기\n",
    "driver.close()"
   ]
  },
  {
   "cell_type": "code",
   "execution_count": 6,
   "metadata": {},
   "outputs": [],
   "source": [
    "search_box = driver.find_element_by_css_selector('.gLFyf.gsfi')\n",
    "search_box.send_keys(\"Chromedriver\")"
   ]
  },
  {
   "cell_type": "code",
   "execution_count": 7,
   "metadata": {},
   "outputs": [],
   "source": [
    "search_box.send_keys(Keys.ENTER)            # Keys.RETURN\n",
    "time.sleep(1)"
   ]
  },
  {
   "cell_type": "code",
   "execution_count": 20,
   "metadata": {},
   "outputs": [
    {
     "output_type": "execute_result",
     "data": {
      "text/plain": [
       "10"
      ]
     },
     "metadata": {},
     "execution_count": 20
    }
   ],
   "source": [
    "divs = driver.find_elements_by_css_selector('.g')\n",
    "len(divs)"
   ]
  },
  {
   "cell_type": "code",
   "execution_count": 24,
   "metadata": {},
   "outputs": [
    {
     "output_type": "execute_result",
     "data": {
      "text/plain": [
       "'WebDriver for Chrome - Downloads - ChromeDriver'"
      ]
     },
     "metadata": {},
     "execution_count": 24
    }
   ],
   "source": [
    "div = divs[0]\n",
    "title = div.find_element_by_css_selector('.LC20lb.DKV0Md').text     # 여기서는 text이용하기\n",
    "title"
   ]
  },
  {
   "cell_type": "code",
   "execution_count": 26,
   "metadata": {},
   "outputs": [
    {
     "output_type": "execute_result",
     "data": {
      "text/plain": [
       "'Current Releases · ChromeDriver 91.0.4472.19 · ChromeDriver 90.0.4430.24 · ChromeDriver 89.0.4389.23 · ChromeDriver 88.0.4324.96 · ChromeDriver 88.0.'"
      ]
     },
     "metadata": {},
     "execution_count": 26
    }
   ],
   "source": [
    "contents = div.find_element_by_css_selector('.aCOpRe').text\n",
    "contents"
   ]
  },
  {
   "cell_type": "code",
   "execution_count": 28,
   "metadata": {},
   "outputs": [
    {
     "output_type": "stream",
     "name": "stdout",
     "text": [
      "WebDriver for Chrome - Downloads - ChromeDriver\n",
      "Current Releases · ChromeDriver 91.0.4472.19 · ChromeDriver 90.0.4430.24 · ChromeDriver 89.0.4389.23 · ChromeDriver 88.0.4324.96 · ChromeDriver 88.0.\n",
      "==================================================\n",
      "WebDriver for Chrome - Downloads - ChromeDriver\n",
      "Current Releases · ChromeDriver 91.0.4472.19 · ChromeDriver 90.0.4430.24 · ChromeDriver 89.0.4389.23 · ChromeDriver 88.0.4324.96 · ChromeDriver 88.0.\n",
      "==================================================\n",
      "ChromeDriver - WebDriver for Chrome\n",
      "ChromeDriver · WebDriver is an open source tool for automated testing of webapps across many browsers. It provides capabilities for navigating to web pages, ...\n",
      "==================================================\n",
      "크롬드라이버(Chrome Driver) 설치/다운로드 : 네이버 블로그\n",
      "2019. 12. 28. — Downloads - ChromeDriver - WebDriver for Chrome. WebDriver for Chrome. chromedriver.chromium.org. . 2. 본인 크롬 버전에 맞는 드라이버 ...\n",
      "==================================================\n",
      "[ChromeDriver] 크롬 드라이버 버전에 따라 설정하는 방법\n",
      "2020. 6. 9. — Chrome 정보 클릭. 83. 어쩌고 버전입니다. 크롬드라이버 다운로드 사이트로 갑니다. https://chromedriver.chromium.org/downloads 여기서 버전에 ...\n",
      "==================================================\n",
      "ChromeDriver - GitHub\n",
      "이 페이지에 관한 정보가 없습니다.\n",
      "이유 알아보기\n",
      "==================================================\n",
      "chrome/test/chromedriver - chromium/src - Git at Google\n",
      "ChromeDriver is a standalone server which communicates with the WebDriver client via the WebDriver wire protocol, which is essentially synchronous JSON ...\n",
      "==================================================\n",
      "ChromeDriver Storage\n",
      "Name, Last modified, Size, ETag. [DIR], 2.0, -, -, -. [DIR], 2.1, -, -, -. [DIR], 2.10, -, -, -. [DIR], 2.11, -, -, -. [DIR], 2.12, -, -, -. [DIR], 2.13, -, -, -. [DIR], 2.14, -, -, -. [DIR] ...\n",
      "==================================================\n",
      "나만의 웹 크롤러 만들기(7): 창없는 크롬으로 크롤링하기 ...\n",
      "2017. 9. 27. — # chromdriver(windows는 chromedriver.exe)의 절대경로로 바꿔주세요! driver = webdriver.Chrome('chromedriver') driver.get('http:// ...\n",
      "==================================================\n",
      "Selenium을 사용하고 싶습니다 - goorm - Guide of goorm\n",
      "ChromeDriver 다운로드. 아래 명령을 사용하여 크롬 드라이버를 다운로드 받을 수 있습니다. 명령을 그대로 실행하면 안되고, 중간에 [크롬 드라이버 버전] 위치에 ...\n",
      "==================================================\n"
     ]
    }
   ],
   "source": [
    "for div in divs:\n",
    "    title = div.find_element_by_css_selector('.LC20lb.DKV0Md').text \n",
    "    contents = div.find_element_by_css_selector('.aCOpRe').text\n",
    "\n",
    "    print(title)\n",
    "    print(contents)\n",
    "    print(\"==================================================\") # 잘 나오는지 확인"
   ]
  },
  {
   "source": [
    "* tag > tag : 자식 태그"
   ],
   "cell_type": "markdown",
   "metadata": {}
  },
  {
   "cell_type": "code",
   "execution_count": 36,
   "metadata": {},
   "outputs": [
    {
     "output_type": "execute_result",
     "data": {
      "text/plain": [
       "8"
      ]
     },
     "metadata": {},
     "execution_count": 36
    }
   ],
   "source": [
    "divs = driver.find_elements_by_css_selector('div#rso>div.g')\n",
    "len(divs)   # 원하는 개수가 바로 나왔다. "
   ]
  },
  {
   "cell_type": "code",
   "execution_count": 8,
   "metadata": {},
   "outputs": [],
   "source": [
    "driver.close()"
   ]
  },
  {
   "cell_type": "code",
   "execution_count": null,
   "metadata": {},
   "outputs": [],
   "source": []
  }
 ]
}