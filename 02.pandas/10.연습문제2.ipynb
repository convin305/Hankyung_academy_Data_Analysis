{
 "metadata": {
  "language_info": {
   "codemirror_mode": {
    "name": "ipython",
    "version": 3
   },
   "file_extension": ".py",
   "mimetype": "text/x-python",
   "name": "python",
   "nbconvert_exporter": "python",
   "pygments_lexer": "ipython3",
   "version": "3.8.5"
  },
  "orig_nbformat": 2,
  "kernelspec": {
   "name": "python385jvsc74a57bd08c1eae21719a0790335dcb83aad72b63b602cfe5cdb2bda0f60bc11d4f154e4b",
   "display_name": "Python 3.8.5 64-bit ('base': conda)"
  }
 },
 "nbformat": 4,
 "nbformat_minor": 2,
 "cells": [
  {
   "cell_type": "code",
   "execution_count": 1,
   "metadata": {},
   "outputs": [],
   "source": [
    "import numpy as np\n",
    "import pandas as pd\n",
    "import seaborn as sns"
   ]
  },
  {
   "source": [
    "# 1\n"
   ],
   "cell_type": "markdown",
   "metadata": {}
  },
  {
   "cell_type": "code",
   "execution_count": 2,
   "metadata": {},
   "outputs": [
    {
     "output_type": "execute_result",
     "data": {
      "text/plain": [
       "   survived  pclass     sex   age  sibsp  parch     fare embarked  class  \\\n",
       "0         0       3    male  22.0      1      0   7.2500        S  Third   \n",
       "1         1       1  female  38.0      1      0  71.2833        C  First   \n",
       "2         1       3  female  26.0      0      0   7.9250        S  Third   \n",
       "3         1       1  female  35.0      1      0  53.1000        S  First   \n",
       "4         0       3    male  35.0      0      0   8.0500        S  Third   \n",
       "\n",
       "     who  adult_male deck  embark_town alive  alone  \n",
       "0    man        True  NaN  Southampton    no  False  \n",
       "1  woman       False    C    Cherbourg   yes  False  \n",
       "2  woman       False  NaN  Southampton   yes   True  \n",
       "3  woman       False    C  Southampton   yes  False  \n",
       "4    man        True  NaN  Southampton    no   True  "
      ],
      "text/html": "<div>\n<style scoped>\n    .dataframe tbody tr th:only-of-type {\n        vertical-align: middle;\n    }\n\n    .dataframe tbody tr th {\n        vertical-align: top;\n    }\n\n    .dataframe thead th {\n        text-align: right;\n    }\n</style>\n<table border=\"1\" class=\"dataframe\">\n  <thead>\n    <tr style=\"text-align: right;\">\n      <th></th>\n      <th>survived</th>\n      <th>pclass</th>\n      <th>sex</th>\n      <th>age</th>\n      <th>sibsp</th>\n      <th>parch</th>\n      <th>fare</th>\n      <th>embarked</th>\n      <th>class</th>\n      <th>who</th>\n      <th>adult_male</th>\n      <th>deck</th>\n      <th>embark_town</th>\n      <th>alive</th>\n      <th>alone</th>\n    </tr>\n  </thead>\n  <tbody>\n    <tr>\n      <th>0</th>\n      <td>0</td>\n      <td>3</td>\n      <td>male</td>\n      <td>22.0</td>\n      <td>1</td>\n      <td>0</td>\n      <td>7.2500</td>\n      <td>S</td>\n      <td>Third</td>\n      <td>man</td>\n      <td>True</td>\n      <td>NaN</td>\n      <td>Southampton</td>\n      <td>no</td>\n      <td>False</td>\n    </tr>\n    <tr>\n      <th>1</th>\n      <td>1</td>\n      <td>1</td>\n      <td>female</td>\n      <td>38.0</td>\n      <td>1</td>\n      <td>0</td>\n      <td>71.2833</td>\n      <td>C</td>\n      <td>First</td>\n      <td>woman</td>\n      <td>False</td>\n      <td>C</td>\n      <td>Cherbourg</td>\n      <td>yes</td>\n      <td>False</td>\n    </tr>\n    <tr>\n      <th>2</th>\n      <td>1</td>\n      <td>3</td>\n      <td>female</td>\n      <td>26.0</td>\n      <td>0</td>\n      <td>0</td>\n      <td>7.9250</td>\n      <td>S</td>\n      <td>Third</td>\n      <td>woman</td>\n      <td>False</td>\n      <td>NaN</td>\n      <td>Southampton</td>\n      <td>yes</td>\n      <td>True</td>\n    </tr>\n    <tr>\n      <th>3</th>\n      <td>1</td>\n      <td>1</td>\n      <td>female</td>\n      <td>35.0</td>\n      <td>1</td>\n      <td>0</td>\n      <td>53.1000</td>\n      <td>S</td>\n      <td>First</td>\n      <td>woman</td>\n      <td>False</td>\n      <td>C</td>\n      <td>Southampton</td>\n      <td>yes</td>\n      <td>False</td>\n    </tr>\n    <tr>\n      <th>4</th>\n      <td>0</td>\n      <td>3</td>\n      <td>male</td>\n      <td>35.0</td>\n      <td>0</td>\n      <td>0</td>\n      <td>8.0500</td>\n      <td>S</td>\n      <td>Third</td>\n      <td>man</td>\n      <td>True</td>\n      <td>NaN</td>\n      <td>Southampton</td>\n      <td>no</td>\n      <td>True</td>\n    </tr>\n  </tbody>\n</table>\n</div>"
     },
     "metadata": {},
     "execution_count": 2
    }
   ],
   "source": [
    "titanic = sns.load_dataset('titanic')\n",
    "titanic.head()"
   ]
  },
  {
   "source": [
    "* a.타이타닉호의 승객에 대해 나이와 성별에 의한 카테고리 열인 category1 열을 만드시오. category1 카테고리는 다음과 같이 정의됨\n",
    "\n",
    "​\n",
    "\n",
    "1)20살이 넘으면 성별을 그대로 사용한다.\n",
    "\n",
    "2)20살 미만이면 성별에 관계없이 “child”라고 한다."
   ],
   "cell_type": "markdown",
   "metadata": {}
  },
  {
   "cell_type": "code",
   "execution_count": 3,
   "metadata": {},
   "outputs": [
    {
     "output_type": "execute_result",
     "data": {
      "text/plain": [
       "      sex   age category1\n",
       "0    male  22.0      male\n",
       "1  female  38.0    female\n",
       "2  female  26.0    female\n",
       "3  female  35.0    female\n",
       "4    male  35.0      male\n",
       "5    male   NaN     child\n",
       "6    male  54.0      male\n",
       "7    male   2.0     child\n",
       "8  female  27.0    female\n",
       "9  female  14.0     child"
      ],
      "text/html": "<div>\n<style scoped>\n    .dataframe tbody tr th:only-of-type {\n        vertical-align: middle;\n    }\n\n    .dataframe tbody tr th {\n        vertical-align: top;\n    }\n\n    .dataframe thead th {\n        text-align: right;\n    }\n</style>\n<table border=\"1\" class=\"dataframe\">\n  <thead>\n    <tr style=\"text-align: right;\">\n      <th></th>\n      <th>sex</th>\n      <th>age</th>\n      <th>category1</th>\n    </tr>\n  </thead>\n  <tbody>\n    <tr>\n      <th>0</th>\n      <td>male</td>\n      <td>22.0</td>\n      <td>male</td>\n    </tr>\n    <tr>\n      <th>1</th>\n      <td>female</td>\n      <td>38.0</td>\n      <td>female</td>\n    </tr>\n    <tr>\n      <th>2</th>\n      <td>female</td>\n      <td>26.0</td>\n      <td>female</td>\n    </tr>\n    <tr>\n      <th>3</th>\n      <td>female</td>\n      <td>35.0</td>\n      <td>female</td>\n    </tr>\n    <tr>\n      <th>4</th>\n      <td>male</td>\n      <td>35.0</td>\n      <td>male</td>\n    </tr>\n    <tr>\n      <th>5</th>\n      <td>male</td>\n      <td>NaN</td>\n      <td>child</td>\n    </tr>\n    <tr>\n      <th>6</th>\n      <td>male</td>\n      <td>54.0</td>\n      <td>male</td>\n    </tr>\n    <tr>\n      <th>7</th>\n      <td>male</td>\n      <td>2.0</td>\n      <td>child</td>\n    </tr>\n    <tr>\n      <th>8</th>\n      <td>female</td>\n      <td>27.0</td>\n      <td>female</td>\n    </tr>\n    <tr>\n      <th>9</th>\n      <td>female</td>\n      <td>14.0</td>\n      <td>child</td>\n    </tr>\n  </tbody>\n</table>\n</div>"
     },
     "metadata": {},
     "execution_count": 3
    }
   ],
   "source": [
    "titanic['category1'] = titanic.agg(lambda r : r.sex if r.age >= 20 else 'child', axis = 1)\n",
    "titanic[['sex','age','category1']].head(10)"
   ]
  },
  {
   "source": [
    "* b.타이타닉호의 승객 중 나이를 명시하지 않은 고객은 나이를 명시한 고객의 평균 나이 값이 되도록 titanic 데이터프레임을 고치시오."
   ],
   "cell_type": "markdown",
   "metadata": {}
  },
  {
   "cell_type": "code",
   "execution_count": 4,
   "metadata": {},
   "outputs": [
    {
     "output_type": "execute_result",
     "data": {
      "text/plain": [
       "0      22.0\n",
       "1      38.0\n",
       "2      26.0\n",
       "3      35.0\n",
       "4      35.0\n",
       "       ... \n",
       "886    27.0\n",
       "887    19.0\n",
       "888    30.0\n",
       "889    26.0\n",
       "890    32.0\n",
       "Name: age, Length: 891, dtype: float64"
      ]
     },
     "metadata": {},
     "execution_count": 4
    }
   ],
   "source": [
    "titanic['age'] = titanic['age'].fillna(np.round(titanic.age.mean()))\n",
    "titanic['age']"
   ]
  },
  {
   "source": [
    "* c.성별, 선실(class)별, 출발지(embark_town)별 생존율을 구하시오."
   ],
   "cell_type": "markdown",
   "metadata": {}
  },
  {
   "cell_type": "code",
   "execution_count": 5,
   "metadata": {},
   "outputs": [
    {
     "output_type": "execute_result",
     "data": {
      "text/plain": [
       "sex     class   embarked\n",
       "female  First   C           0.976744\n",
       "                Q           1.000000\n",
       "                S           0.958333\n",
       "        Second  C           1.000000\n",
       "                Q           1.000000\n",
       "                S           0.910448\n",
       "        Third   C           0.652174\n",
       "                Q           0.727273\n",
       "                S           0.375000\n",
       "male    First   C           0.404762\n",
       "                Q           0.000000\n",
       "                S           0.354430\n",
       "        Second  C           0.200000\n",
       "                Q           0.000000\n",
       "                S           0.154639\n",
       "        Third   C           0.232558\n",
       "                Q           0.076923\n",
       "                S           0.128302\n",
       "Name: survived, dtype: float64"
      ]
     },
     "metadata": {},
     "execution_count": 5
    }
   ],
   "source": [
    "titanic.groupby(['sex','class','embarked']).mean()['survived']"
   ]
  },
  {
   "cell_type": "code",
   "execution_count": 6,
   "metadata": {},
   "outputs": [
    {
     "output_type": "execute_result",
     "data": {
      "text/plain": [
       "class            First  Second  Third  All\n",
       "sex    survived                           \n",
       "female 0             3       6     72   81\n",
       "       1            91      70     72  233\n",
       "male   0            77      91    300  468\n",
       "       1            45      17     47  109\n",
       "All                216     184    491  891"
      ],
      "text/html": "<div>\n<style scoped>\n    .dataframe tbody tr th:only-of-type {\n        vertical-align: middle;\n    }\n\n    .dataframe tbody tr th {\n        vertical-align: top;\n    }\n\n    .dataframe thead th {\n        text-align: right;\n    }\n</style>\n<table border=\"1\" class=\"dataframe\">\n  <thead>\n    <tr style=\"text-align: right;\">\n      <th></th>\n      <th>class</th>\n      <th>First</th>\n      <th>Second</th>\n      <th>Third</th>\n      <th>All</th>\n    </tr>\n    <tr>\n      <th>sex</th>\n      <th>survived</th>\n      <th></th>\n      <th></th>\n      <th></th>\n      <th></th>\n    </tr>\n  </thead>\n  <tbody>\n    <tr>\n      <th rowspan=\"2\" valign=\"top\">female</th>\n      <th>0</th>\n      <td>3</td>\n      <td>6</td>\n      <td>72</td>\n      <td>81</td>\n    </tr>\n    <tr>\n      <th>1</th>\n      <td>91</td>\n      <td>70</td>\n      <td>72</td>\n      <td>233</td>\n    </tr>\n    <tr>\n      <th rowspan=\"2\" valign=\"top\">male</th>\n      <th>0</th>\n      <td>77</td>\n      <td>91</td>\n      <td>300</td>\n      <td>468</td>\n    </tr>\n    <tr>\n      <th>1</th>\n      <td>45</td>\n      <td>17</td>\n      <td>47</td>\n      <td>109</td>\n    </tr>\n    <tr>\n      <th>All</th>\n      <th></th>\n      <td>216</td>\n      <td>184</td>\n      <td>491</td>\n      <td>891</td>\n    </tr>\n  </tbody>\n</table>\n</div>"
     },
     "metadata": {},
     "execution_count": 6
    }
   ],
   "source": [
    "# 이런 것도 가능\n",
    "pd.crosstab([titanic.sex,titanic.survived],titanic['class'],margins=True)"
   ]
  },
  {
   "source": [
    "* d.타이타닉호 승객을 ‘미성년자’, ‘청년’, ‘중년’, ‘장년’, ‘노년’ 나이 그룹으로 나누고,\n",
    "\n",
    "각 그룹별 생존율을 구하시오."
   ],
   "cell_type": "markdown",
   "metadata": {}
  },
  {
   "cell_type": "code",
   "execution_count": 7,
   "metadata": {},
   "outputs": [
    {
     "output_type": "execute_result",
     "data": {
      "text/plain": [
       "age_group\n",
       "미성년자    0.424242\n",
       "청년      0.334152\n",
       "중년      0.423237\n",
       "장년      0.355932\n",
       "노년      0.200000\n",
       "Name: survived, dtype: float64"
      ]
     },
     "metadata": {},
     "execution_count": 7
    }
   ],
   "source": [
    "bins = [1, 20, 30, 50, 70, 100]\n",
    "labels = [\"미성년자\", \"청년\", \"중년\", \"장년\", \"노년\"]\n",
    "\n",
    "titanic['age_group'] = pd.cut(titanic.age, bins, labels=labels)\n",
    "\n",
    "titanic.groupby('age_group').mean()['survived']"
   ]
  },
  {
   "cell_type": "code",
   "execution_count": 21,
   "metadata": {},
   "outputs": [
    {
     "output_type": "execute_result",
     "data": {
      "text/plain": [
       "           survived\n",
       "age_group          \n",
       "미성년자       0.424242\n",
       "청년         0.334152\n",
       "중년         0.423237\n",
       "장년         0.355932\n",
       "노년         0.200000"
      ],
      "text/html": "<div>\n<style scoped>\n    .dataframe tbody tr th:only-of-type {\n        vertical-align: middle;\n    }\n\n    .dataframe tbody tr th {\n        vertical-align: top;\n    }\n\n    .dataframe thead th {\n        text-align: right;\n    }\n</style>\n<table border=\"1\" class=\"dataframe\">\n  <thead>\n    <tr style=\"text-align: right;\">\n      <th></th>\n      <th>survived</th>\n    </tr>\n    <tr>\n      <th>age_group</th>\n      <th></th>\n    </tr>\n  </thead>\n  <tbody>\n    <tr>\n      <th>미성년자</th>\n      <td>0.424242</td>\n    </tr>\n    <tr>\n      <th>청년</th>\n      <td>0.334152</td>\n    </tr>\n    <tr>\n      <th>중년</th>\n      <td>0.423237</td>\n    </tr>\n    <tr>\n      <th>장년</th>\n      <td>0.355932</td>\n    </tr>\n    <tr>\n      <th>노년</th>\n      <td>0.200000</td>\n    </tr>\n  </tbody>\n</table>\n</div>"
     },
     "metadata": {},
     "execution_count": 21
    }
   ],
   "source": [
    "titanic.pivot_table('survived',\"age_group\")"
   ]
  },
  {
   "source": [
    "* e.qcut 명령으로 세 개의 나이 그룹을 만들고, 나이 그룹별 남녀 성비와 생존율을 구하시오."
   ],
   "cell_type": "markdown",
   "metadata": {}
  },
  {
   "cell_type": "code",
   "execution_count": 8,
   "metadata": {},
   "outputs": [
    {
     "output_type": "execute_result",
     "data": {
      "text/plain": [
       "      age age_group2\n",
       "0    22.0     group1\n",
       "1    38.0     group3\n",
       "2    26.0     group2\n",
       "3    35.0     group3\n",
       "4    35.0     group3\n",
       "..    ...        ...\n",
       "886  27.0     group2\n",
       "887  19.0     group1\n",
       "888  30.0     group2\n",
       "889  26.0     group2\n",
       "890  32.0     group3\n",
       "\n",
       "[891 rows x 2 columns]"
      ],
      "text/html": "<div>\n<style scoped>\n    .dataframe tbody tr th:only-of-type {\n        vertical-align: middle;\n    }\n\n    .dataframe tbody tr th {\n        vertical-align: top;\n    }\n\n    .dataframe thead th {\n        text-align: right;\n    }\n</style>\n<table border=\"1\" class=\"dataframe\">\n  <thead>\n    <tr style=\"text-align: right;\">\n      <th></th>\n      <th>age</th>\n      <th>age_group2</th>\n    </tr>\n  </thead>\n  <tbody>\n    <tr>\n      <th>0</th>\n      <td>22.0</td>\n      <td>group1</td>\n    </tr>\n    <tr>\n      <th>1</th>\n      <td>38.0</td>\n      <td>group3</td>\n    </tr>\n    <tr>\n      <th>2</th>\n      <td>26.0</td>\n      <td>group2</td>\n    </tr>\n    <tr>\n      <th>3</th>\n      <td>35.0</td>\n      <td>group3</td>\n    </tr>\n    <tr>\n      <th>4</th>\n      <td>35.0</td>\n      <td>group3</td>\n    </tr>\n    <tr>\n      <th>...</th>\n      <td>...</td>\n      <td>...</td>\n    </tr>\n    <tr>\n      <th>886</th>\n      <td>27.0</td>\n      <td>group2</td>\n    </tr>\n    <tr>\n      <th>887</th>\n      <td>19.0</td>\n      <td>group1</td>\n    </tr>\n    <tr>\n      <th>888</th>\n      <td>30.0</td>\n      <td>group2</td>\n    </tr>\n    <tr>\n      <th>889</th>\n      <td>26.0</td>\n      <td>group2</td>\n    </tr>\n    <tr>\n      <th>890</th>\n      <td>32.0</td>\n      <td>group3</td>\n    </tr>\n  </tbody>\n</table>\n<p>891 rows × 2 columns</p>\n</div>"
     },
     "metadata": {},
     "execution_count": 8
    }
   ],
   "source": [
    "titanic['age_group2'] = pd.qcut(titanic.age,3,labels=['group1','group2','group3'])\n",
    "titanic[['age','age_group2']]"
   ]
  },
  {
   "cell_type": "code",
   "execution_count": 9,
   "metadata": {},
   "outputs": [
    {
     "output_type": "execute_result",
     "data": {
      "text/plain": [
       "age_group2\n",
       "group1    301\n",
       "group2    304\n",
       "group3    286\n",
       "Name: sex, dtype: int64"
      ]
     },
     "metadata": {},
     "execution_count": 9
    }
   ],
   "source": [
    "titanic_sex = titanic.groupby('age_group2')['sex'].count()\n",
    "titanic_sex"
   ]
  },
  {
   "cell_type": "code",
   "execution_count": 10,
   "metadata": {},
   "outputs": [
    {
     "output_type": "execute_result",
     "data": {
      "text/plain": [
       "age_group2  sex   \n",
       "group1      female    0.405316\n",
       "            male      0.594684\n",
       "group2      female    0.319079\n",
       "            male      0.680921\n",
       "group3      female    0.332168\n",
       "            male      0.667832\n",
       "dtype: float64"
      ]
     },
     "metadata": {},
     "execution_count": 10
    }
   ],
   "source": [
    "# 그룹별 남녀성비\n",
    "titanic.groupby(['age_group2','sex']).count()['survived'] / titanic_sex"
   ]
  },
  {
   "cell_type": "code",
   "execution_count": 11,
   "metadata": {},
   "outputs": [
    {
     "output_type": "execute_result",
     "data": {
      "text/plain": [
       "age_group2  sex   \n",
       "group1      female    0.713115\n",
       "            male      0.206704\n",
       "group2      female    0.701031\n",
       "            male      0.164251\n",
       "group3      female    0.821053\n",
       "            male      0.198953\n",
       "Name: survived, dtype: float64"
      ]
     },
     "metadata": {},
     "execution_count": 11
    }
   ],
   "source": [
    "# 그룹별, 성별, 생존율\n",
    "titanic.groupby(['age_group2','sex']).mean()['survived']"
   ]
  },
  {
   "cell_type": "code",
   "execution_count": 12,
   "metadata": {},
   "outputs": [
    {
     "output_type": "execute_result",
     "data": {
      "text/plain": [
       "age_group2  sex   \n",
       "group1      female    0.405316\n",
       "            male      0.594684\n",
       "group2      female    0.319079\n",
       "            male      0.680921\n",
       "group3      female    0.332168\n",
       "            male      0.667832\n",
       "dtype: float64"
      ]
     },
     "metadata": {},
     "execution_count": 12
    }
   ],
   "source": [
    "titanic.groupby(['age_group2','sex']).describe()['survived']['count']/titanic_sex"
   ]
  },
  {
   "source": [
    "# 2"
   ],
   "cell_type": "markdown",
   "metadata": {}
  },
  {
   "cell_type": "code",
   "execution_count": 13,
   "metadata": {},
   "outputs": [
    {
     "output_type": "execute_result",
     "data": {
      "text/plain": [
       "    mpg  cylinders  displacement  horsepower  weight  acceleration  \\\n",
       "0  18.0          8         307.0       130.0    3504          12.0   \n",
       "1  15.0          8         350.0       165.0    3693          11.5   \n",
       "2  18.0          8         318.0       150.0    3436          11.0   \n",
       "3  16.0          8         304.0       150.0    3433          12.0   \n",
       "4  17.0          8         302.0       140.0    3449          10.5   \n",
       "\n",
       "   model_year origin                       name  \n",
       "0          70    usa  chevrolet chevelle malibu  \n",
       "1          70    usa          buick skylark 320  \n",
       "2          70    usa         plymouth satellite  \n",
       "3          70    usa              amc rebel sst  \n",
       "4          70    usa                ford torino  "
      ],
      "text/html": "<div>\n<style scoped>\n    .dataframe tbody tr th:only-of-type {\n        vertical-align: middle;\n    }\n\n    .dataframe tbody tr th {\n        vertical-align: top;\n    }\n\n    .dataframe thead th {\n        text-align: right;\n    }\n</style>\n<table border=\"1\" class=\"dataframe\">\n  <thead>\n    <tr style=\"text-align: right;\">\n      <th></th>\n      <th>mpg</th>\n      <th>cylinders</th>\n      <th>displacement</th>\n      <th>horsepower</th>\n      <th>weight</th>\n      <th>acceleration</th>\n      <th>model_year</th>\n      <th>origin</th>\n      <th>name</th>\n    </tr>\n  </thead>\n  <tbody>\n    <tr>\n      <th>0</th>\n      <td>18.0</td>\n      <td>8</td>\n      <td>307.0</td>\n      <td>130.0</td>\n      <td>3504</td>\n      <td>12.0</td>\n      <td>70</td>\n      <td>usa</td>\n      <td>chevrolet chevelle malibu</td>\n    </tr>\n    <tr>\n      <th>1</th>\n      <td>15.0</td>\n      <td>8</td>\n      <td>350.0</td>\n      <td>165.0</td>\n      <td>3693</td>\n      <td>11.5</td>\n      <td>70</td>\n      <td>usa</td>\n      <td>buick skylark 320</td>\n    </tr>\n    <tr>\n      <th>2</th>\n      <td>18.0</td>\n      <td>8</td>\n      <td>318.0</td>\n      <td>150.0</td>\n      <td>3436</td>\n      <td>11.0</td>\n      <td>70</td>\n      <td>usa</td>\n      <td>plymouth satellite</td>\n    </tr>\n    <tr>\n      <th>3</th>\n      <td>16.0</td>\n      <td>8</td>\n      <td>304.0</td>\n      <td>150.0</td>\n      <td>3433</td>\n      <td>12.0</td>\n      <td>70</td>\n      <td>usa</td>\n      <td>amc rebel sst</td>\n    </tr>\n    <tr>\n      <th>4</th>\n      <td>17.0</td>\n      <td>8</td>\n      <td>302.0</td>\n      <td>140.0</td>\n      <td>3449</td>\n      <td>10.5</td>\n      <td>70</td>\n      <td>usa</td>\n      <td>ford torino</td>\n    </tr>\n  </tbody>\n</table>\n</div>"
     },
     "metadata": {},
     "execution_count": 13
    }
   ],
   "source": [
    "mpg = sns.load_dataset('mpg')\n",
    "mpg.head()"
   ]
  },
  {
   "source": [
    "* a.배기량(displacement) 대비 마력(horsepower) 열(hp_per_cc)을 추가하시오."
   ],
   "cell_type": "markdown",
   "metadata": {}
  },
  {
   "cell_type": "code",
   "execution_count": 14,
   "metadata": {},
   "outputs": [
    {
     "output_type": "execute_result",
     "data": {
      "text/plain": [
       "    mpg  cylinders  displacement  horsepower  weight  acceleration  \\\n",
       "0  18.0          8         307.0       130.0    3504          12.0   \n",
       "1  15.0          8         350.0       165.0    3693          11.5   \n",
       "2  18.0          8         318.0       150.0    3436          11.0   \n",
       "3  16.0          8         304.0       150.0    3433          12.0   \n",
       "4  17.0          8         302.0       140.0    3449          10.5   \n",
       "\n",
       "   model_year origin                       name  hp_per_cc  \n",
       "0          70    usa  chevrolet chevelle malibu   0.423453  \n",
       "1          70    usa          buick skylark 320   0.471429  \n",
       "2          70    usa         plymouth satellite   0.471698  \n",
       "3          70    usa              amc rebel sst   0.493421  \n",
       "4          70    usa                ford torino   0.463576  "
      ],
      "text/html": "<div>\n<style scoped>\n    .dataframe tbody tr th:only-of-type {\n        vertical-align: middle;\n    }\n\n    .dataframe tbody tr th {\n        vertical-align: top;\n    }\n\n    .dataframe thead th {\n        text-align: right;\n    }\n</style>\n<table border=\"1\" class=\"dataframe\">\n  <thead>\n    <tr style=\"text-align: right;\">\n      <th></th>\n      <th>mpg</th>\n      <th>cylinders</th>\n      <th>displacement</th>\n      <th>horsepower</th>\n      <th>weight</th>\n      <th>acceleration</th>\n      <th>model_year</th>\n      <th>origin</th>\n      <th>name</th>\n      <th>hp_per_cc</th>\n    </tr>\n  </thead>\n  <tbody>\n    <tr>\n      <th>0</th>\n      <td>18.0</td>\n      <td>8</td>\n      <td>307.0</td>\n      <td>130.0</td>\n      <td>3504</td>\n      <td>12.0</td>\n      <td>70</td>\n      <td>usa</td>\n      <td>chevrolet chevelle malibu</td>\n      <td>0.423453</td>\n    </tr>\n    <tr>\n      <th>1</th>\n      <td>15.0</td>\n      <td>8</td>\n      <td>350.0</td>\n      <td>165.0</td>\n      <td>3693</td>\n      <td>11.5</td>\n      <td>70</td>\n      <td>usa</td>\n      <td>buick skylark 320</td>\n      <td>0.471429</td>\n    </tr>\n    <tr>\n      <th>2</th>\n      <td>18.0</td>\n      <td>8</td>\n      <td>318.0</td>\n      <td>150.0</td>\n      <td>3436</td>\n      <td>11.0</td>\n      <td>70</td>\n      <td>usa</td>\n      <td>plymouth satellite</td>\n      <td>0.471698</td>\n    </tr>\n    <tr>\n      <th>3</th>\n      <td>16.0</td>\n      <td>8</td>\n      <td>304.0</td>\n      <td>150.0</td>\n      <td>3433</td>\n      <td>12.0</td>\n      <td>70</td>\n      <td>usa</td>\n      <td>amc rebel sst</td>\n      <td>0.493421</td>\n    </tr>\n    <tr>\n      <th>4</th>\n      <td>17.0</td>\n      <td>8</td>\n      <td>302.0</td>\n      <td>140.0</td>\n      <td>3449</td>\n      <td>10.5</td>\n      <td>70</td>\n      <td>usa</td>\n      <td>ford torino</td>\n      <td>0.463576</td>\n    </tr>\n  </tbody>\n</table>\n</div>"
     },
     "metadata": {},
     "execution_count": 14
    }
   ],
   "source": [
    "mpg['hp_per_cc'] = mpg['horsepower'] / mpg['displacement']\n",
    "mpg.head()"
   ]
  },
  {
   "source": [
    "* b.\n",
    "name으로부터 manufacturer(제조사)와 모델을 추출하여  \n",
    "새로운 열 manufacturer와 model을 추가하고, name 열은 삭제하시오."
   ],
   "cell_type": "markdown",
   "metadata": {}
  },
  {
   "cell_type": "code",
   "execution_count": 15,
   "metadata": {},
   "outputs": [
    {
     "output_type": "execute_result",
     "data": {
      "text/plain": [
       "    mpg  cylinders  displacement  horsepower  weight  acceleration  \\\n",
       "0  18.0          8         307.0       130.0    3504          12.0   \n",
       "1  15.0          8         350.0       165.0    3693          11.5   \n",
       "2  18.0          8         318.0       150.0    3436          11.0   \n",
       "3  16.0          8         304.0       150.0    3433          12.0   \n",
       "4  17.0          8         302.0       140.0    3449          10.5   \n",
       "\n",
       "   model_year origin  hp_per_cc manufacturer            model  \n",
       "0          70    usa   0.423453    chevrolet  chevelle malibu  \n",
       "1          70    usa   0.471429        buick      skylark 320  \n",
       "2          70    usa   0.471698     plymouth        satellite  \n",
       "3          70    usa   0.493421          amc        rebel sst  \n",
       "4          70    usa   0.463576         ford           torino  "
      ],
      "text/html": "<div>\n<style scoped>\n    .dataframe tbody tr th:only-of-type {\n        vertical-align: middle;\n    }\n\n    .dataframe tbody tr th {\n        vertical-align: top;\n    }\n\n    .dataframe thead th {\n        text-align: right;\n    }\n</style>\n<table border=\"1\" class=\"dataframe\">\n  <thead>\n    <tr style=\"text-align: right;\">\n      <th></th>\n      <th>mpg</th>\n      <th>cylinders</th>\n      <th>displacement</th>\n      <th>horsepower</th>\n      <th>weight</th>\n      <th>acceleration</th>\n      <th>model_year</th>\n      <th>origin</th>\n      <th>hp_per_cc</th>\n      <th>manufacturer</th>\n      <th>model</th>\n    </tr>\n  </thead>\n  <tbody>\n    <tr>\n      <th>0</th>\n      <td>18.0</td>\n      <td>8</td>\n      <td>307.0</td>\n      <td>130.0</td>\n      <td>3504</td>\n      <td>12.0</td>\n      <td>70</td>\n      <td>usa</td>\n      <td>0.423453</td>\n      <td>chevrolet</td>\n      <td>chevelle malibu</td>\n    </tr>\n    <tr>\n      <th>1</th>\n      <td>15.0</td>\n      <td>8</td>\n      <td>350.0</td>\n      <td>165.0</td>\n      <td>3693</td>\n      <td>11.5</td>\n      <td>70</td>\n      <td>usa</td>\n      <td>0.471429</td>\n      <td>buick</td>\n      <td>skylark 320</td>\n    </tr>\n    <tr>\n      <th>2</th>\n      <td>18.0</td>\n      <td>8</td>\n      <td>318.0</td>\n      <td>150.0</td>\n      <td>3436</td>\n      <td>11.0</td>\n      <td>70</td>\n      <td>usa</td>\n      <td>0.471698</td>\n      <td>plymouth</td>\n      <td>satellite</td>\n    </tr>\n    <tr>\n      <th>3</th>\n      <td>16.0</td>\n      <td>8</td>\n      <td>304.0</td>\n      <td>150.0</td>\n      <td>3433</td>\n      <td>12.0</td>\n      <td>70</td>\n      <td>usa</td>\n      <td>0.493421</td>\n      <td>amc</td>\n      <td>rebel sst</td>\n    </tr>\n    <tr>\n      <th>4</th>\n      <td>17.0</td>\n      <td>8</td>\n      <td>302.0</td>\n      <td>140.0</td>\n      <td>3449</td>\n      <td>10.5</td>\n      <td>70</td>\n      <td>usa</td>\n      <td>0.463576</td>\n      <td>ford</td>\n      <td>torino</td>\n    </tr>\n  </tbody>\n</table>\n</div>"
     },
     "metadata": {},
     "execution_count": 15
    }
   ],
   "source": [
    "mpg['manufacturer'] = mpg['name'].str.split().str[0]\n",
    "mpg['model'] = mpg['name'].str.split().str[1:].apply(' '.join)\n",
    "mpg.drop(['name'],inplace=True,axis=1)\n",
    "mpg.head()"
   ]
  },
  {
   "source": [
    "* c.엔진의 실린더(cylinders) 갯수별 연비(mpg)의 평균을 구하시오."
   ],
   "cell_type": "markdown",
   "metadata": {}
  },
  {
   "cell_type": "code",
   "execution_count": 16,
   "metadata": {},
   "outputs": [
    {
     "output_type": "execute_result",
     "data": {
      "text/plain": [
       "cylinders\n",
       "3    20.550000\n",
       "4    29.286765\n",
       "5    27.366667\n",
       "6    19.985714\n",
       "8    14.963107\n",
       "Name: mpg, dtype: float64"
      ]
     },
     "metadata": {},
     "execution_count": 16
    }
   ],
   "source": [
    "mpg.groupby('cylinders').mean()['mpg']"
   ]
  },
  {
   "cell_type": "code",
   "execution_count": 23,
   "metadata": {},
   "outputs": [
    {
     "output_type": "execute_result",
     "data": {
      "text/plain": [
       "                 mpg\n",
       "cylinders           \n",
       "3          20.550000\n",
       "4          29.286765\n",
       "5          27.366667\n",
       "6          19.985714\n",
       "8          14.963107"
      ],
      "text/html": "<div>\n<style scoped>\n    .dataframe tbody tr th:only-of-type {\n        vertical-align: middle;\n    }\n\n    .dataframe tbody tr th {\n        vertical-align: top;\n    }\n\n    .dataframe thead th {\n        text-align: right;\n    }\n</style>\n<table border=\"1\" class=\"dataframe\">\n  <thead>\n    <tr style=\"text-align: right;\">\n      <th></th>\n      <th>mpg</th>\n    </tr>\n    <tr>\n      <th>cylinders</th>\n      <th></th>\n    </tr>\n  </thead>\n  <tbody>\n    <tr>\n      <th>3</th>\n      <td>20.550000</td>\n    </tr>\n    <tr>\n      <th>4</th>\n      <td>29.286765</td>\n    </tr>\n    <tr>\n      <th>5</th>\n      <td>27.366667</td>\n    </tr>\n    <tr>\n      <th>6</th>\n      <td>19.985714</td>\n    </tr>\n    <tr>\n      <th>8</th>\n      <td>14.963107</td>\n    </tr>\n  </tbody>\n</table>\n</div>"
     },
     "metadata": {},
     "execution_count": 23
    }
   ],
   "source": [
    "mpg[['cylinders','mpg']].groupby('cylinders').mean()"
   ]
  },
  {
   "cell_type": "code",
   "execution_count": 27,
   "metadata": {},
   "outputs": [
    {
     "output_type": "execute_result",
     "data": {
      "text/plain": [
       "                 mpg\n",
       "cylinders           \n",
       "3          20.550000\n",
       "4          29.286765\n",
       "5          27.366667\n",
       "6          19.985714\n",
       "8          14.963107"
      ],
      "text/html": "<div>\n<style scoped>\n    .dataframe tbody tr th:only-of-type {\n        vertical-align: middle;\n    }\n\n    .dataframe tbody tr th {\n        vertical-align: top;\n    }\n\n    .dataframe thead th {\n        text-align: right;\n    }\n</style>\n<table border=\"1\" class=\"dataframe\">\n  <thead>\n    <tr style=\"text-align: right;\">\n      <th></th>\n      <th>mpg</th>\n    </tr>\n    <tr>\n      <th>cylinders</th>\n      <th></th>\n    </tr>\n  </thead>\n  <tbody>\n    <tr>\n      <th>3</th>\n      <td>20.550000</td>\n    </tr>\n    <tr>\n      <th>4</th>\n      <td>29.286765</td>\n    </tr>\n    <tr>\n      <th>5</th>\n      <td>27.366667</td>\n    </tr>\n    <tr>\n      <th>6</th>\n      <td>19.985714</td>\n    </tr>\n    <tr>\n      <th>8</th>\n      <td>14.963107</td>\n    </tr>\n  </tbody>\n</table>\n</div>"
     },
     "metadata": {},
     "execution_count": 27
    }
   ],
   "source": [
    "mpg.pivot_table('mpg','cylinders',aggfunc='mean')"
   ]
  },
  {
   "source": [
    "* d.생산지(origin)별 배기량 대비 마력(hp_per_cc)의 평균을 구하시오."
   ],
   "cell_type": "markdown",
   "metadata": {}
  },
  {
   "cell_type": "code",
   "execution_count": 17,
   "metadata": {},
   "outputs": [
    {
     "output_type": "execute_result",
     "data": {
      "text/plain": [
       "origin\n",
       "europe    0.740005\n",
       "japan     0.789485\n",
       "usa       0.512063\n",
       "Name: hp_per_cc, dtype: float64"
      ]
     },
     "metadata": {},
     "execution_count": 17
    }
   ],
   "source": [
    "mpg.groupby('origin').mean()['hp_per_cc']"
   ]
  },
  {
   "cell_type": "code",
   "execution_count": 28,
   "metadata": {},
   "outputs": [
    {
     "output_type": "execute_result",
     "data": {
      "text/plain": [
       "        hp_per_cc\n",
       "origin           \n",
       "europe   0.740005\n",
       "japan    0.789485\n",
       "usa      0.512063"
      ],
      "text/html": "<div>\n<style scoped>\n    .dataframe tbody tr th:only-of-type {\n        vertical-align: middle;\n    }\n\n    .dataframe tbody tr th {\n        vertical-align: top;\n    }\n\n    .dataframe thead th {\n        text-align: right;\n    }\n</style>\n<table border=\"1\" class=\"dataframe\">\n  <thead>\n    <tr style=\"text-align: right;\">\n      <th></th>\n      <th>hp_per_cc</th>\n    </tr>\n    <tr>\n      <th>origin</th>\n      <th></th>\n    </tr>\n  </thead>\n  <tbody>\n    <tr>\n      <th>europe</th>\n      <td>0.740005</td>\n    </tr>\n    <tr>\n      <th>japan</th>\n      <td>0.789485</td>\n    </tr>\n    <tr>\n      <th>usa</th>\n      <td>0.512063</td>\n    </tr>\n  </tbody>\n</table>\n</div>"
     },
     "metadata": {},
     "execution_count": 28
    }
   ],
   "source": [
    "mpg.pivot_table(\"hp_per_cc\",'origin',aggfunc='mean')"
   ]
  },
  {
   "source": [
    "* e.모델이 5개 이상인 제조사에 대하여  \n",
    "연비(mpg)의 평균이 가장 좋은 제조사 Top 5를 구하시오.\n"
   ],
   "cell_type": "markdown",
   "metadata": {}
  },
  {
   "cell_type": "code",
   "execution_count": 18,
   "metadata": {},
   "outputs": [],
   "source": [
    "mpg_filtered = mpg.groupby('manufacturer').filter(lambda x : x['manufacturer'].count() >= 5)        # 그룹바이 이후 filtering => SQL의 having 절절"
   ]
  },
  {
   "cell_type": "code",
   "execution_count": 19,
   "metadata": {},
   "outputs": [
    {
     "output_type": "execute_result",
     "data": {
      "text/plain": [
       "manufacturer\n",
       "vw         39.016667\n",
       "honda      33.761538\n",
       "renault    32.880000\n",
       "datsun     31.113043\n",
       "mazda      30.860000\n",
       "Name: mpg, dtype: float64"
      ]
     },
     "metadata": {},
     "execution_count": 19
    }
   ],
   "source": [
    "mpg_filtered.groupby('manufacturer').mean()['mpg'].sort_values(ascending=False)[:5]"
   ]
  },
  {
   "cell_type": "code",
   "execution_count": 41,
   "metadata": {},
   "outputs": [
    {
     "output_type": "execute_result",
     "data": {
      "text/plain": [
       "                    mpg\n",
       "manufacturer           \n",
       "vw            39.016667\n",
       "honda         33.761538\n",
       "renault       32.880000\n",
       "datsun        31.113043\n",
       "mazda         30.860000"
      ],
      "text/html": "<div>\n<style scoped>\n    .dataframe tbody tr th:only-of-type {\n        vertical-align: middle;\n    }\n\n    .dataframe tbody tr th {\n        vertical-align: top;\n    }\n\n    .dataframe thead th {\n        text-align: right;\n    }\n</style>\n<table border=\"1\" class=\"dataframe\">\n  <thead>\n    <tr style=\"text-align: right;\">\n      <th></th>\n      <th>mpg</th>\n    </tr>\n    <tr>\n      <th>manufacturer</th>\n      <th></th>\n    </tr>\n  </thead>\n  <tbody>\n    <tr>\n      <th>vw</th>\n      <td>39.016667</td>\n    </tr>\n    <tr>\n      <th>honda</th>\n      <td>33.761538</td>\n    </tr>\n    <tr>\n      <th>renault</th>\n      <td>32.880000</td>\n    </tr>\n    <tr>\n      <th>datsun</th>\n      <td>31.113043</td>\n    </tr>\n    <tr>\n      <th>mazda</th>\n      <td>30.860000</td>\n    </tr>\n  </tbody>\n</table>\n</div>"
     },
     "metadata": {},
     "execution_count": 41
    }
   ],
   "source": [
    "mpg_filtered.pivot_table('mpg','manufacturer').sort_values(by='mpg',ascending=False)[:5]"
   ]
  },
  {
   "cell_type": "code",
   "execution_count": 31,
   "metadata": {},
   "outputs": [
    {
     "output_type": "execute_result",
     "data": {
      "text/plain": [
       "ford             51\n",
       "chevrolet        43\n",
       "plymouth         31\n",
       "amc              28\n",
       "dodge            28\n",
       "toyota           25\n",
       "datsun           23\n",
       "buick            17\n",
       "pontiac          16\n",
       "volkswagen       15\n",
       "honda            13\n",
       "mercury          11\n",
       "oldsmobile       10\n",
       "mazda            10\n",
       "peugeot           8\n",
       "fiat              8\n",
       "audi              7\n",
       "volvo             6\n",
       "chrysler          6\n",
       "vw                6\n",
       "renault           5\n",
       "opel              4\n",
       "subaru            4\n",
       "saab              4\n",
       "chevy             3\n",
       "maxda             2\n",
       "cadillac          2\n",
       "bmw               2\n",
       "mercedes-benz     2\n",
       "toyouta           1\n",
       "triumph           1\n",
       "vokswagen         1\n",
       "capri             1\n",
       "mercedes          1\n",
       "hi                1\n",
       "chevroelt         1\n",
       "nissan            1\n",
       "Name: manufacturer, dtype: int64"
      ]
     },
     "metadata": {},
     "execution_count": 31
    }
   ],
   "source": [
    "# 다른 방법\n",
    "# 제조사별 value찾기\n",
    "s = mpg.manufacturer.value_counts()\n",
    "s"
   ]
  },
  {
   "cell_type": "code",
   "execution_count": 32,
   "metadata": {},
   "outputs": [
    {
     "output_type": "stream",
     "name": "stdout",
     "text": [
      "['ford', 'chevrolet', 'plymouth', 'amc', 'dodge', 'toyota', 'datsun', 'buick', 'pontiac', 'volkswagen', 'honda', 'mercury', 'oldsmobile', 'mazda', 'peugeot', 'fiat', 'audi', 'volvo', 'chrysler', 'vw', 'renault']\n"
     ]
    }
   ],
   "source": [
    "big = s[s>=5].index.tolist()\n",
    "print(big)"
   ]
  },
  {
   "cell_type": "code",
   "execution_count": 38,
   "metadata": {},
   "outputs": [
    {
     "output_type": "execute_result",
     "data": {
      "text/plain": [
       "    mpg  cylinders  displacement  horsepower  weight  acceleration  \\\n",
       "0  18.0          8         307.0       130.0    3504          12.0   \n",
       "1  15.0          8         350.0       165.0    3693          11.5   \n",
       "2  18.0          8         318.0       150.0    3436          11.0   \n",
       "3  16.0          8         304.0       150.0    3433          12.0   \n",
       "4  17.0          8         302.0       140.0    3449          10.5   \n",
       "\n",
       "   model_year origin  hp_per_cc manufacturer            model  \n",
       "0          70    usa   0.423453    chevrolet  chevelle malibu  \n",
       "1          70    usa   0.471429        buick      skylark 320  \n",
       "2          70    usa   0.471698     plymouth        satellite  \n",
       "3          70    usa   0.493421          amc        rebel sst  \n",
       "4          70    usa   0.463576         ford           torino  "
      ],
      "text/html": "<div>\n<style scoped>\n    .dataframe tbody tr th:only-of-type {\n        vertical-align: middle;\n    }\n\n    .dataframe tbody tr th {\n        vertical-align: top;\n    }\n\n    .dataframe thead th {\n        text-align: right;\n    }\n</style>\n<table border=\"1\" class=\"dataframe\">\n  <thead>\n    <tr style=\"text-align: right;\">\n      <th></th>\n      <th>mpg</th>\n      <th>cylinders</th>\n      <th>displacement</th>\n      <th>horsepower</th>\n      <th>weight</th>\n      <th>acceleration</th>\n      <th>model_year</th>\n      <th>origin</th>\n      <th>hp_per_cc</th>\n      <th>manufacturer</th>\n      <th>model</th>\n    </tr>\n  </thead>\n  <tbody>\n    <tr>\n      <th>0</th>\n      <td>18.0</td>\n      <td>8</td>\n      <td>307.0</td>\n      <td>130.0</td>\n      <td>3504</td>\n      <td>12.0</td>\n      <td>70</td>\n      <td>usa</td>\n      <td>0.423453</td>\n      <td>chevrolet</td>\n      <td>chevelle malibu</td>\n    </tr>\n    <tr>\n      <th>1</th>\n      <td>15.0</td>\n      <td>8</td>\n      <td>350.0</td>\n      <td>165.0</td>\n      <td>3693</td>\n      <td>11.5</td>\n      <td>70</td>\n      <td>usa</td>\n      <td>0.471429</td>\n      <td>buick</td>\n      <td>skylark 320</td>\n    </tr>\n    <tr>\n      <th>2</th>\n      <td>18.0</td>\n      <td>8</td>\n      <td>318.0</td>\n      <td>150.0</td>\n      <td>3436</td>\n      <td>11.0</td>\n      <td>70</td>\n      <td>usa</td>\n      <td>0.471698</td>\n      <td>plymouth</td>\n      <td>satellite</td>\n    </tr>\n    <tr>\n      <th>3</th>\n      <td>16.0</td>\n      <td>8</td>\n      <td>304.0</td>\n      <td>150.0</td>\n      <td>3433</td>\n      <td>12.0</td>\n      <td>70</td>\n      <td>usa</td>\n      <td>0.493421</td>\n      <td>amc</td>\n      <td>rebel sst</td>\n    </tr>\n    <tr>\n      <th>4</th>\n      <td>17.0</td>\n      <td>8</td>\n      <td>302.0</td>\n      <td>140.0</td>\n      <td>3449</td>\n      <td>10.5</td>\n      <td>70</td>\n      <td>usa</td>\n      <td>0.463576</td>\n      <td>ford</td>\n      <td>torino</td>\n    </tr>\n  </tbody>\n</table>\n</div>"
     },
     "metadata": {},
     "execution_count": 38
    }
   ],
   "source": [
    "# R 의 in 연산자 대신에 isin() 매소드 사용\n",
    "# 모델이 5개 이상인 제조사들을 필터링한 결과\n",
    "big_mpg = mpg[mpg.manufacturer.isin(big)]\n",
    "big_mpg.head()"
   ]
  },
  {
   "cell_type": "code",
   "execution_count": 40,
   "metadata": {},
   "outputs": [
    {
     "output_type": "execute_result",
     "data": {
      "text/plain": [
       "                    mpg\n",
       "manufacturer           \n",
       "vw            39.016667\n",
       "honda         33.761538\n",
       "renault       32.880000\n",
       "datsun        31.113043\n",
       "mazda         30.860000"
      ],
      "text/html": "<div>\n<style scoped>\n    .dataframe tbody tr th:only-of-type {\n        vertical-align: middle;\n    }\n\n    .dataframe tbody tr th {\n        vertical-align: top;\n    }\n\n    .dataframe thead th {\n        text-align: right;\n    }\n</style>\n<table border=\"1\" class=\"dataframe\">\n  <thead>\n    <tr style=\"text-align: right;\">\n      <th></th>\n      <th>mpg</th>\n    </tr>\n    <tr>\n      <th>manufacturer</th>\n      <th></th>\n    </tr>\n  </thead>\n  <tbody>\n    <tr>\n      <th>vw</th>\n      <td>39.016667</td>\n    </tr>\n    <tr>\n      <th>honda</th>\n      <td>33.761538</td>\n    </tr>\n    <tr>\n      <th>renault</th>\n      <td>32.880000</td>\n    </tr>\n    <tr>\n      <th>datsun</th>\n      <td>31.113043</td>\n    </tr>\n    <tr>\n      <th>mazda</th>\n      <td>30.860000</td>\n    </tr>\n  </tbody>\n</table>\n</div>"
     },
     "metadata": {},
     "execution_count": 40
    }
   ],
   "source": [
    "big_mpg.pivot_table('mpg','manufacturer').sort_values(by='mpg',ascending=False)[:5]"
   ]
  },
  {
   "cell_type": "code",
   "execution_count": null,
   "metadata": {},
   "outputs": [],
   "source": []
  }
 ]
}