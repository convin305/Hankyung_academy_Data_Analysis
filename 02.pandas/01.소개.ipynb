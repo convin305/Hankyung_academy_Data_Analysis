{
 "metadata": {
  "language_info": {
   "codemirror_mode": {
    "name": "ipython",
    "version": 3
   },
   "file_extension": ".py",
   "mimetype": "text/x-python",
   "name": "python",
   "nbconvert_exporter": "python",
   "pygments_lexer": "ipython3",
   "version": "3.8.5"
  },
  "orig_nbformat": 2,
  "kernelspec": {
   "name": "python385jvsc74a57bd08c1eae21719a0790335dcb83aad72b63b602cfe5cdb2bda0f60bc11d4f154e4b",
   "display_name": "Python 3.8.5 64-bit ('base': conda)"
  }
 },
 "nbformat": 4,
 "nbformat_minor": 2,
 "cells": [
  {
   "source": [
    "# Pandas"
   ],
   "cell_type": "markdown",
   "metadata": {}
  },
  {
   "cell_type": "code",
   "execution_count": 1,
   "metadata": {},
   "outputs": [],
   "source": [
    "import pandas as pd"
   ]
  },
  {
   "source": [
    "### 1. Series 시리즈"
   ],
   "cell_type": "markdown",
   "metadata": {}
  },
  {
   "cell_type": "code",
   "execution_count": 29,
   "metadata": {},
   "outputs": [
    {
     "output_type": "execute_result",
     "data": {
      "text/plain": [
       "서울    9904312\n",
       "부산    3448737\n",
       "인천    2890451\n",
       "대구    2466052\n",
       "dtype: int64"
      ]
     },
     "metadata": {},
     "execution_count": 29
    }
   ],
   "source": [
    "s = pd.Series([9904312, 3448737, 2890451, 2466052],\n",
    "              index=[\"서울\", \"부산\", \"인천\", \"대구\"])\n",
    "s"
   ]
  },
  {
   "cell_type": "code",
   "execution_count": 5,
   "metadata": {},
   "outputs": [
    {
     "output_type": "execute_result",
     "data": {
      "text/plain": [
       "0    10\n",
       "1    11\n",
       "2    12\n",
       "3    13\n",
       "dtype: int64"
      ]
     },
     "metadata": {},
     "execution_count": 5
    }
   ],
   "source": [
    "pd.Series(range(10,14))"
   ]
  },
  {
   "cell_type": "code",
   "execution_count": 6,
   "metadata": {},
   "outputs": [
    {
     "output_type": "execute_result",
     "data": {
      "text/plain": [
       "Index(['서울', '부산', '인천', '대구'], dtype='object')"
      ]
     },
     "metadata": {},
     "execution_count": 6
    }
   ],
   "source": [
    "s.index"
   ]
  },
  {
   "cell_type": "code",
   "execution_count": 7,
   "metadata": {},
   "outputs": [
    {
     "output_type": "execute_result",
     "data": {
      "text/plain": [
       "array([9904312, 3448737, 2890451, 2466052], dtype=int64)"
      ]
     },
     "metadata": {},
     "execution_count": 7
    }
   ],
   "source": [
    "s.values"
   ]
  },
  {
   "source": [
    "name 속성을 이용하여 시리즈 데이터에 이름을 붙일 수 있음"
   ],
   "cell_type": "markdown",
   "metadata": {}
  },
  {
   "cell_type": "code",
   "execution_count": 9,
   "metadata": {},
   "outputs": [
    {
     "output_type": "execute_result",
     "data": {
      "text/plain": [
       "도시\n",
       "서울    9904312\n",
       "부산    3448737\n",
       "인천    2890451\n",
       "대구    2466052\n",
       "Name: 인구, dtype: int64"
      ]
     },
     "metadata": {},
     "execution_count": 9
    }
   ],
   "source": [
    "s.name = \"인구\"\n",
    "s.index.name = \"도시\"\n",
    " \n",
    "s"
   ]
  },
  {
   "source": [
    "* 시리즈 연산"
   ],
   "cell_type": "markdown",
   "metadata": {}
  },
  {
   "cell_type": "code",
   "execution_count": 10,
   "metadata": {},
   "outputs": [
    {
     "output_type": "execute_result",
     "data": {
      "text/plain": [
       "도시\n",
       "서울    9.904312\n",
       "부산    3.448737\n",
       "인천    2.890451\n",
       "대구    2.466052\n",
       "Name: 인구, dtype: float64"
      ]
     },
     "metadata": {},
     "execution_count": 10
    }
   ],
   "source": [
    "s / 1000000"
   ]
  },
  {
   "source": [
    "* 시리즈 인덱싱"
   ],
   "cell_type": "markdown",
   "metadata": {}
  },
  {
   "cell_type": "code",
   "execution_count": 12,
   "metadata": {},
   "outputs": [
    {
     "output_type": "execute_result",
     "data": {
      "text/plain": [
       "(9904312, 9904312)"
      ]
     },
     "metadata": {},
     "execution_count": 12
    }
   ],
   "source": [
    "s[0], s['서울']"
   ]
  },
  {
   "source": [
    "부분적인 값을 가지는 시리즈"
   ],
   "cell_type": "markdown",
   "metadata": {}
  },
  {
   "cell_type": "code",
   "execution_count": 13,
   "metadata": {},
   "outputs": [
    {
     "output_type": "execute_result",
     "data": {
      "text/plain": [
       "도시\n",
       "서울    9904312\n",
       "인천    2890451\n",
       "Name: 인구, dtype: int64"
      ]
     },
     "metadata": {},
     "execution_count": 13
    }
   ],
   "source": [
    "s[[0,2]]"
   ]
  },
  {
   "cell_type": "code",
   "execution_count": 15,
   "metadata": {},
   "outputs": [
    {
     "output_type": "execute_result",
     "data": {
      "text/plain": [
       "도시\n",
       "부산    3448737\n",
       "대구    2466052\n",
       "Name: 인구, dtype: int64"
      ]
     },
     "metadata": {},
     "execution_count": 15
    }
   ],
   "source": [
    "s[['부산','대구']]"
   ]
  },
  {
   "source": [
    "* 슬라이싱"
   ],
   "cell_type": "markdown",
   "metadata": {}
  },
  {
   "cell_type": "code",
   "execution_count": 16,
   "metadata": {},
   "outputs": [
    {
     "output_type": "execute_result",
     "data": {
      "text/plain": [
       "도시\n",
       "부산    3448737\n",
       "인천    2890451\n",
       "Name: 인구, dtype: int64"
      ]
     },
     "metadata": {},
     "execution_count": 16
    }
   ],
   "source": [
    "s[1:3]"
   ]
  },
  {
   "cell_type": "code",
   "execution_count": 18,
   "metadata": {},
   "outputs": [
    {
     "output_type": "execute_result",
     "data": {
      "text/plain": [
       "도시\n",
       "부산    3448737\n",
       "인천    2890451\n",
       "대구    2466052\n",
       "Name: 인구, dtype: int64"
      ]
     },
     "metadata": {},
     "execution_count": 18
    }
   ],
   "source": [
    "s['부산':'대구'] # 문자를 이용한 경우 끝 값을 포함한다"
   ]
  },
  {
   "source": [
    "* Boolean indexing"
   ],
   "cell_type": "markdown",
   "metadata": {}
  },
  {
   "cell_type": "code",
   "execution_count": 21,
   "metadata": {},
   "outputs": [
    {
     "output_type": "execute_result",
     "data": {
      "text/plain": [
       "도시\n",
       "인천    2890451\n",
       "대구    2466052\n",
       "Name: 인구, dtype: int64"
      ]
     },
     "metadata": {},
     "execution_count": 21
    }
   ],
   "source": [
    "s [s <3000000]"
   ]
  },
  {
   "source": [
    "* 편리한 인덱싱"
   ],
   "cell_type": "markdown",
   "metadata": {}
  },
  {
   "cell_type": "code",
   "execution_count": 23,
   "metadata": {},
   "outputs": [
    {
     "output_type": "execute_result",
     "data": {
      "text/plain": [
       "9904312"
      ]
     },
     "metadata": {},
     "execution_count": 23
    }
   ],
   "source": [
    "s.서울"
   ]
  },
  {
   "source": [
    "* 시리즈와 딕셔너리 자료형"
   ],
   "cell_type": "markdown",
   "metadata": {}
  },
  {
   "cell_type": "code",
   "execution_count": 24,
   "metadata": {},
   "outputs": [
    {
     "output_type": "execute_result",
     "data": {
      "text/plain": [
       "True"
      ]
     },
     "metadata": {},
     "execution_count": 24
    }
   ],
   "source": [
    "'서울' in s"
   ]
  },
  {
   "cell_type": "code",
   "execution_count": 34,
   "metadata": {},
   "outputs": [
    {
     "output_type": "error",
     "ename": "ValueError",
     "evalue": "can only convert an array of size 1 to a Python scalar",
     "traceback": [
      "\u001b[1;31m---------------------------------------------------------------------------\u001b[0m",
      "\u001b[1;31mValueError\u001b[0m                                Traceback (most recent call last)",
      "\u001b[1;32m<ipython-input-34-1d4af40c935b>\u001b[0m in \u001b[0;36m<module>\u001b[1;34m\u001b[0m\n\u001b[1;32m----> 1\u001b[1;33m \u001b[1;32mfor\u001b[0m \u001b[0mk\u001b[0m\u001b[1;33m,\u001b[0m \u001b[0mv\u001b[0m \u001b[1;32min\u001b[0m \u001b[0ms\u001b[0m\u001b[1;33m.\u001b[0m\u001b[0mitem\u001b[0m\u001b[1;33m(\u001b[0m\u001b[1;33m)\u001b[0m\u001b[1;33m:\u001b[0m\u001b[1;33m\u001b[0m\u001b[1;33m\u001b[0m\u001b[0m\n\u001b[0m\u001b[0;32m      2\u001b[0m     \u001b[0mprint\u001b[0m\u001b[1;33m(\u001b[0m\u001b[1;34mf\"{k} = {v}\"\u001b[0m\u001b[1;33m)\u001b[0m\u001b[1;33m\u001b[0m\u001b[1;33m\u001b[0m\u001b[0m\n",
      "\u001b[1;32m~\\miniconda3\\lib\\site-packages\\pandas\\core\\base.py\u001b[0m in \u001b[0;36mitem\u001b[1;34m(self)\u001b[0m\n\u001b[0;32m    418\u001b[0m         \u001b[1;32mif\u001b[0m \u001b[0mlen\u001b[0m\u001b[1;33m(\u001b[0m\u001b[0mself\u001b[0m\u001b[1;33m)\u001b[0m \u001b[1;33m==\u001b[0m \u001b[1;36m1\u001b[0m\u001b[1;33m:\u001b[0m\u001b[1;33m\u001b[0m\u001b[1;33m\u001b[0m\u001b[0m\n\u001b[0;32m    419\u001b[0m             \u001b[1;32mreturn\u001b[0m \u001b[0mnext\u001b[0m\u001b[1;33m(\u001b[0m\u001b[0miter\u001b[0m\u001b[1;33m(\u001b[0m\u001b[0mself\u001b[0m\u001b[1;33m)\u001b[0m\u001b[1;33m)\u001b[0m\u001b[1;33m\u001b[0m\u001b[1;33m\u001b[0m\u001b[0m\n\u001b[1;32m--> 420\u001b[1;33m         \u001b[1;32mraise\u001b[0m \u001b[0mValueError\u001b[0m\u001b[1;33m(\u001b[0m\u001b[1;34m\"can only convert an array of size 1 to a Python scalar\"\u001b[0m\u001b[1;33m)\u001b[0m\u001b[1;33m\u001b[0m\u001b[1;33m\u001b[0m\u001b[0m\n\u001b[0m\u001b[0;32m    421\u001b[0m \u001b[1;33m\u001b[0m\u001b[0m\n\u001b[0;32m    422\u001b[0m     \u001b[1;33m@\u001b[0m\u001b[0mproperty\u001b[0m\u001b[1;33m\u001b[0m\u001b[1;33m\u001b[0m\u001b[0m\n",
      "\u001b[1;31mValueError\u001b[0m: can only convert an array of size 1 to a Python scalar"
     ]
    }
   ],
   "source": [
    "for k, v in s.items():\n",
    "    print(f\"{k} = {v}\")"
   ]
  },
  {
   "cell_type": "code",
   "execution_count": 35,
   "metadata": {},
   "outputs": [
    {
     "output_type": "execute_result",
     "data": {
      "text/plain": [
       "apple     1000\n",
       "banana    2000\n",
       "cherry    3000\n",
       "dtype: int64"
      ]
     },
     "metadata": {},
     "execution_count": 35
    }
   ],
   "source": [
    "fruits = {'apple':1000,\"banana\":2000,'cherry':3000}\n",
    "f = pd.Series(fruits)\n",
    "f"
   ]
  },
  {
   "source": [
    "### 2. 데이터프레임 DataFrame"
   ],
   "cell_type": "markdown",
   "metadata": {}
  },
  {
   "cell_type": "code",
   "execution_count": 36,
   "metadata": {},
   "outputs": [
    {
     "output_type": "execute_result",
     "data": {
      "text/plain": [
       "      2015     2010     2005     2000   지역  2010-2015 증가율\n",
       "0  9904312  9631482  9762546  9853972  수도권         0.0283\n",
       "1  3448737  3393191  3512547  3655437  경상권         0.0163\n",
       "2  2890451  2632035  2517680  2466338  수도권         0.0982\n",
       "3  2466052  2431774  2456016  2473990  경상권         0.0141"
      ],
      "text/html": "<div>\n<style scoped>\n    .dataframe tbody tr th:only-of-type {\n        vertical-align: middle;\n    }\n\n    .dataframe tbody tr th {\n        vertical-align: top;\n    }\n\n    .dataframe thead th {\n        text-align: right;\n    }\n</style>\n<table border=\"1\" class=\"dataframe\">\n  <thead>\n    <tr style=\"text-align: right;\">\n      <th></th>\n      <th>2015</th>\n      <th>2010</th>\n      <th>2005</th>\n      <th>2000</th>\n      <th>지역</th>\n      <th>2010-2015 증가율</th>\n    </tr>\n  </thead>\n  <tbody>\n    <tr>\n      <th>0</th>\n      <td>9904312</td>\n      <td>9631482</td>\n      <td>9762546</td>\n      <td>9853972</td>\n      <td>수도권</td>\n      <td>0.0283</td>\n    </tr>\n    <tr>\n      <th>1</th>\n      <td>3448737</td>\n      <td>3393191</td>\n      <td>3512547</td>\n      <td>3655437</td>\n      <td>경상권</td>\n      <td>0.0163</td>\n    </tr>\n    <tr>\n      <th>2</th>\n      <td>2890451</td>\n      <td>2632035</td>\n      <td>2517680</td>\n      <td>2466338</td>\n      <td>수도권</td>\n      <td>0.0982</td>\n    </tr>\n    <tr>\n      <th>3</th>\n      <td>2466052</td>\n      <td>2431774</td>\n      <td>2456016</td>\n      <td>2473990</td>\n      <td>경상권</td>\n      <td>0.0141</td>\n    </tr>\n  </tbody>\n</table>\n</div>"
     },
     "metadata": {},
     "execution_count": 36
    }
   ],
   "source": [
    "data = {\n",
    "    \"2015\": [9904312, 3448737, 2890451, 2466052],\n",
    "    \"2010\": [9631482, 3393191, 2632035, 2431774],\n",
    "    \"2005\": [9762546, 3512547, 2517680, 2456016],\n",
    "    \"2000\": [9853972, 3655437, 2466338, 2473990],\n",
    "    \"지역\": [\"수도권\", \"경상권\", \"수도권\", \"경상권\"],\n",
    "    \"2010-2015 증가율\": [0.0283, 0.0163, 0.0982, 0.0141]\n",
    "}\n",
    "\n",
    "df = pd.DataFrame(data)\n",
    "df"
   ]
  },
  {
   "source": [
    "만들고 난 다음에 인덱스를 주어도 된다."
   ],
   "cell_type": "markdown",
   "metadata": {}
  },
  {
   "cell_type": "code",
   "execution_count": 37,
   "metadata": {},
   "outputs": [
    {
     "output_type": "execute_result",
     "data": {
      "text/plain": [
       "       2015     2010     2005     2000   지역  2010-2015 증가율\n",
       "서울  9904312  9631482  9762546  9853972  수도권         0.0283\n",
       "부산  3448737  3393191  3512547  3655437  경상권         0.0163\n",
       "인천  2890451  2632035  2517680  2466338  수도권         0.0982\n",
       "대구  2466052  2431774  2456016  2473990  경상권         0.0141"
      ],
      "text/html": "<div>\n<style scoped>\n    .dataframe tbody tr th:only-of-type {\n        vertical-align: middle;\n    }\n\n    .dataframe tbody tr th {\n        vertical-align: top;\n    }\n\n    .dataframe thead th {\n        text-align: right;\n    }\n</style>\n<table border=\"1\" class=\"dataframe\">\n  <thead>\n    <tr style=\"text-align: right;\">\n      <th></th>\n      <th>2015</th>\n      <th>2010</th>\n      <th>2005</th>\n      <th>2000</th>\n      <th>지역</th>\n      <th>2010-2015 증가율</th>\n    </tr>\n  </thead>\n  <tbody>\n    <tr>\n      <th>서울</th>\n      <td>9904312</td>\n      <td>9631482</td>\n      <td>9762546</td>\n      <td>9853972</td>\n      <td>수도권</td>\n      <td>0.0283</td>\n    </tr>\n    <tr>\n      <th>부산</th>\n      <td>3448737</td>\n      <td>3393191</td>\n      <td>3512547</td>\n      <td>3655437</td>\n      <td>경상권</td>\n      <td>0.0163</td>\n    </tr>\n    <tr>\n      <th>인천</th>\n      <td>2890451</td>\n      <td>2632035</td>\n      <td>2517680</td>\n      <td>2466338</td>\n      <td>수도권</td>\n      <td>0.0982</td>\n    </tr>\n    <tr>\n      <th>대구</th>\n      <td>2466052</td>\n      <td>2431774</td>\n      <td>2456016</td>\n      <td>2473990</td>\n      <td>경상권</td>\n      <td>0.0141</td>\n    </tr>\n  </tbody>\n</table>\n</div>"
     },
     "metadata": {},
     "execution_count": 37
    }
   ],
   "source": [
    "index = ['서울','부산','인천','대구']\n",
    "\n",
    "df.index = index\n",
    "df"
   ]
  },
  {
   "cell_type": "code",
   "execution_count": 42,
   "metadata": {},
   "outputs": [
    {
     "output_type": "execute_result",
     "data": {
      "text/plain": [
       "     지역     2015     2010     2005     2000  2010-2015 증가율\n",
       "서울  수도권  9904312  9631482  9762546  9853972         0.0283\n",
       "부산  경상권  3448737  3393191  3512547  3655437         0.0163\n",
       "인천  수도권  2890451  2632035  2517680  2466338         0.0982\n",
       "대구  경상권  2466052  2431774  2456016  2473990         0.0141"
      ],
      "text/html": "<div>\n<style scoped>\n    .dataframe tbody tr th:only-of-type {\n        vertical-align: middle;\n    }\n\n    .dataframe tbody tr th {\n        vertical-align: top;\n    }\n\n    .dataframe thead th {\n        text-align: right;\n    }\n</style>\n<table border=\"1\" class=\"dataframe\">\n  <thead>\n    <tr style=\"text-align: right;\">\n      <th></th>\n      <th>지역</th>\n      <th>2015</th>\n      <th>2010</th>\n      <th>2005</th>\n      <th>2000</th>\n      <th>2010-2015 증가율</th>\n    </tr>\n  </thead>\n  <tbody>\n    <tr>\n      <th>서울</th>\n      <td>수도권</td>\n      <td>9904312</td>\n      <td>9631482</td>\n      <td>9762546</td>\n      <td>9853972</td>\n      <td>0.0283</td>\n    </tr>\n    <tr>\n      <th>부산</th>\n      <td>경상권</td>\n      <td>3448737</td>\n      <td>3393191</td>\n      <td>3512547</td>\n      <td>3655437</td>\n      <td>0.0163</td>\n    </tr>\n    <tr>\n      <th>인천</th>\n      <td>수도권</td>\n      <td>2890451</td>\n      <td>2632035</td>\n      <td>2517680</td>\n      <td>2466338</td>\n      <td>0.0982</td>\n    </tr>\n    <tr>\n      <th>대구</th>\n      <td>경상권</td>\n      <td>2466052</td>\n      <td>2431774</td>\n      <td>2456016</td>\n      <td>2473990</td>\n      <td>0.0141</td>\n    </tr>\n  </tbody>\n</table>\n</div>"
     },
     "metadata": {},
     "execution_count": 42
    }
   ],
   "source": [
    "columns = [\"지역\", \"2015\", \"2010\", \"2005\", \"2000\", \"2010-2015 증가율\"] # 재배치\n",
    "df = pd.DataFrame(data, index=index, columns = columns)\n",
    "df"
   ]
  },
  {
   "cell_type": "code",
   "execution_count": 43,
   "metadata": {},
   "outputs": [
    {
     "output_type": "execute_result",
     "data": {
      "text/plain": [
       "array([['수도권', 9904312, 9631482, 9762546, 9853972, 0.0283],\n",
       "       ['경상권', 3448737, 3393191, 3512547, 3655437, 0.0163],\n",
       "       ['수도권', 2890451, 2632035, 2517680, 2466338, 0.0982],\n",
       "       ['경상권', 2466052, 2431774, 2456016, 2473990, 0.0141]], dtype=object)"
      ]
     },
     "metadata": {},
     "execution_count": 43
    }
   ],
   "source": [
    "df.values"
   ]
  },
  {
   "cell_type": "code",
   "execution_count": 44,
   "metadata": {},
   "outputs": [
    {
     "output_type": "execute_result",
     "data": {
      "text/plain": [
       "특성   지역     2015     2010     2005     2000  2010-2015 증가율\n",
       "도시                                                        \n",
       "서울  수도권  9904312  9631482  9762546  9853972         0.0283\n",
       "부산  경상권  3448737  3393191  3512547  3655437         0.0163\n",
       "인천  수도권  2890451  2632035  2517680  2466338         0.0982\n",
       "대구  경상권  2466052  2431774  2456016  2473990         0.0141"
      ],
      "text/html": "<div>\n<style scoped>\n    .dataframe tbody tr th:only-of-type {\n        vertical-align: middle;\n    }\n\n    .dataframe tbody tr th {\n        vertical-align: top;\n    }\n\n    .dataframe thead th {\n        text-align: right;\n    }\n</style>\n<table border=\"1\" class=\"dataframe\">\n  <thead>\n    <tr style=\"text-align: right;\">\n      <th>특성</th>\n      <th>지역</th>\n      <th>2015</th>\n      <th>2010</th>\n      <th>2005</th>\n      <th>2000</th>\n      <th>2010-2015 증가율</th>\n    </tr>\n    <tr>\n      <th>도시</th>\n      <th></th>\n      <th></th>\n      <th></th>\n      <th></th>\n      <th></th>\n      <th></th>\n    </tr>\n  </thead>\n  <tbody>\n    <tr>\n      <th>서울</th>\n      <td>수도권</td>\n      <td>9904312</td>\n      <td>9631482</td>\n      <td>9762546</td>\n      <td>9853972</td>\n      <td>0.0283</td>\n    </tr>\n    <tr>\n      <th>부산</th>\n      <td>경상권</td>\n      <td>3448737</td>\n      <td>3393191</td>\n      <td>3512547</td>\n      <td>3655437</td>\n      <td>0.0163</td>\n    </tr>\n    <tr>\n      <th>인천</th>\n      <td>수도권</td>\n      <td>2890451</td>\n      <td>2632035</td>\n      <td>2517680</td>\n      <td>2466338</td>\n      <td>0.0982</td>\n    </tr>\n    <tr>\n      <th>대구</th>\n      <td>경상권</td>\n      <td>2466052</td>\n      <td>2431774</td>\n      <td>2456016</td>\n      <td>2473990</td>\n      <td>0.0141</td>\n    </tr>\n  </tbody>\n</table>\n</div>"
     },
     "metadata": {},
     "execution_count": 44
    }
   ],
   "source": [
    "df.index.name=\"도시\"\n",
    "df.columns.name = \"특성\"\n",
    "df"
   ]
  },
  {
   "cell_type": "code",
   "execution_count": 45,
   "metadata": {},
   "outputs": [
    {
     "output_type": "execute_result",
     "data": {
      "text/plain": [
       "도시                  서울       부산       인천       대구\n",
       "특성                                               \n",
       "지역                 수도권      경상권      수도권      경상권\n",
       "2015           9904312  3448737  2890451  2466052\n",
       "2010           9631482  3393191  2632035  2431774\n",
       "2005           9762546  3512547  2517680  2456016\n",
       "2000           9853972  3655437  2466338  2473990\n",
       "2010-2015 증가율   0.0283   0.0163   0.0982   0.0141"
      ],
      "text/html": "<div>\n<style scoped>\n    .dataframe tbody tr th:only-of-type {\n        vertical-align: middle;\n    }\n\n    .dataframe tbody tr th {\n        vertical-align: top;\n    }\n\n    .dataframe thead th {\n        text-align: right;\n    }\n</style>\n<table border=\"1\" class=\"dataframe\">\n  <thead>\n    <tr style=\"text-align: right;\">\n      <th>도시</th>\n      <th>서울</th>\n      <th>부산</th>\n      <th>인천</th>\n      <th>대구</th>\n    </tr>\n    <tr>\n      <th>특성</th>\n      <th></th>\n      <th></th>\n      <th></th>\n      <th></th>\n    </tr>\n  </thead>\n  <tbody>\n    <tr>\n      <th>지역</th>\n      <td>수도권</td>\n      <td>경상권</td>\n      <td>수도권</td>\n      <td>경상권</td>\n    </tr>\n    <tr>\n      <th>2015</th>\n      <td>9904312</td>\n      <td>3448737</td>\n      <td>2890451</td>\n      <td>2466052</td>\n    </tr>\n    <tr>\n      <th>2010</th>\n      <td>9631482</td>\n      <td>3393191</td>\n      <td>2632035</td>\n      <td>2431774</td>\n    </tr>\n    <tr>\n      <th>2005</th>\n      <td>9762546</td>\n      <td>3512547</td>\n      <td>2517680</td>\n      <td>2456016</td>\n    </tr>\n    <tr>\n      <th>2000</th>\n      <td>9853972</td>\n      <td>3655437</td>\n      <td>2466338</td>\n      <td>2473990</td>\n    </tr>\n    <tr>\n      <th>2010-2015 증가율</th>\n      <td>0.0283</td>\n      <td>0.0163</td>\n      <td>0.0982</td>\n      <td>0.0141</td>\n    </tr>\n  </tbody>\n</table>\n</div>"
     },
     "metadata": {},
     "execution_count": 45
    }
   ],
   "source": [
    "df.T"
   ]
  },
  {
   "source": [
    "* 열 데이터"
   ],
   "cell_type": "markdown",
   "metadata": {}
  },
  {
   "cell_type": "code",
   "execution_count": 46,
   "metadata": {},
   "outputs": [
    {
     "output_type": "execute_result",
     "data": {
      "text/plain": [
       "도시\n",
       "서울    수도권\n",
       "부산    경상권\n",
       "인천    수도권\n",
       "대구    경상권\n",
       "Name: 지역, dtype: object"
      ]
     },
     "metadata": {},
     "execution_count": 46
    }
   ],
   "source": [
    "df['지역']"
   ]
  },
  {
   "cell_type": "code",
   "execution_count": 48,
   "metadata": {},
   "outputs": [
    {
     "output_type": "execute_result",
     "data": {
      "text/plain": [
       "도시\n",
       "서울    수도권\n",
       "부산    경상권\n",
       "인천    수도권\n",
       "대구    경상권\n",
       "Name: 지역, dtype: object"
      ]
     },
     "metadata": {},
     "execution_count": 48
    }
   ],
   "source": [
    "df.지역"
   ]
  },
  {
   "cell_type": "code",
   "execution_count": 51,
   "metadata": {},
   "outputs": [
    {
     "output_type": "execute_result",
     "data": {
      "text/plain": [
       "특성   지역     2015     2010     2005     2000  2010-2015 증가율\n",
       "도시                                                        \n",
       "서울  수도권  9904312  9631482  9762546  9853972         0.0283\n",
       "부산  경상권  3448737  3393191  3512547  3655437         0.0163\n",
       "인천  수도권  2890451  2632035  2517680  2466338         0.0982\n",
       "대구  경상권  2466052  2431774  2456016  2473990         0.0141"
      ],
      "text/html": "<div>\n<style scoped>\n    .dataframe tbody tr th:only-of-type {\n        vertical-align: middle;\n    }\n\n    .dataframe tbody tr th {\n        vertical-align: top;\n    }\n\n    .dataframe thead th {\n        text-align: right;\n    }\n</style>\n<table border=\"1\" class=\"dataframe\">\n  <thead>\n    <tr style=\"text-align: right;\">\n      <th>특성</th>\n      <th>지역</th>\n      <th>2015</th>\n      <th>2010</th>\n      <th>2005</th>\n      <th>2000</th>\n      <th>2010-2015 증가율</th>\n    </tr>\n    <tr>\n      <th>도시</th>\n      <th></th>\n      <th></th>\n      <th></th>\n      <th></th>\n      <th></th>\n      <th></th>\n    </tr>\n  </thead>\n  <tbody>\n    <tr>\n      <th>서울</th>\n      <td>수도권</td>\n      <td>9904312</td>\n      <td>9631482</td>\n      <td>9762546</td>\n      <td>9853972</td>\n      <td>0.0283</td>\n    </tr>\n    <tr>\n      <th>부산</th>\n      <td>경상권</td>\n      <td>3448737</td>\n      <td>3393191</td>\n      <td>3512547</td>\n      <td>3655437</td>\n      <td>0.0163</td>\n    </tr>\n    <tr>\n      <th>인천</th>\n      <td>수도권</td>\n      <td>2890451</td>\n      <td>2632035</td>\n      <td>2517680</td>\n      <td>2466338</td>\n      <td>0.0982</td>\n    </tr>\n    <tr>\n      <th>대구</th>\n      <td>경상권</td>\n      <td>2466052</td>\n      <td>2431774</td>\n      <td>2456016</td>\n      <td>2473990</td>\n      <td>0.0141</td>\n    </tr>\n  </tbody>\n</table>\n</div>"
     },
     "metadata": {},
     "execution_count": 51
    }
   ],
   "source": [
    "# 안됨 : df.~는 조회에서만 동작한다. \n",
    "df.temp=[1,2,3,4]               \n",
    "df"
   ]
  },
  {
   "cell_type": "code",
   "execution_count": 52,
   "metadata": {},
   "outputs": [
    {
     "output_type": "execute_result",
     "data": {
      "text/plain": [
       "특성   지역     2015     2010     2005     2000  2010-2015 증가율  temp\n",
       "도시                                                              \n",
       "서울  수도권  9904312  9631482  9762546  9853972         0.0283     1\n",
       "부산  경상권  3448737  3393191  3512547  3655437         0.0163     2\n",
       "인천  수도권  2890451  2632035  2517680  2466338         0.0982     3\n",
       "대구  경상권  2466052  2431774  2456016  2473990         0.0141     4"
      ],
      "text/html": "<div>\n<style scoped>\n    .dataframe tbody tr th:only-of-type {\n        vertical-align: middle;\n    }\n\n    .dataframe tbody tr th {\n        vertical-align: top;\n    }\n\n    .dataframe thead th {\n        text-align: right;\n    }\n</style>\n<table border=\"1\" class=\"dataframe\">\n  <thead>\n    <tr style=\"text-align: right;\">\n      <th>특성</th>\n      <th>지역</th>\n      <th>2015</th>\n      <th>2010</th>\n      <th>2005</th>\n      <th>2000</th>\n      <th>2010-2015 증가율</th>\n      <th>temp</th>\n    </tr>\n    <tr>\n      <th>도시</th>\n      <th></th>\n      <th></th>\n      <th></th>\n      <th></th>\n      <th></th>\n      <th></th>\n      <th></th>\n    </tr>\n  </thead>\n  <tbody>\n    <tr>\n      <th>서울</th>\n      <td>수도권</td>\n      <td>9904312</td>\n      <td>9631482</td>\n      <td>9762546</td>\n      <td>9853972</td>\n      <td>0.0283</td>\n      <td>1</td>\n    </tr>\n    <tr>\n      <th>부산</th>\n      <td>경상권</td>\n      <td>3448737</td>\n      <td>3393191</td>\n      <td>3512547</td>\n      <td>3655437</td>\n      <td>0.0163</td>\n      <td>2</td>\n    </tr>\n    <tr>\n      <th>인천</th>\n      <td>수도권</td>\n      <td>2890451</td>\n      <td>2632035</td>\n      <td>2517680</td>\n      <td>2466338</td>\n      <td>0.0982</td>\n      <td>3</td>\n    </tr>\n    <tr>\n      <th>대구</th>\n      <td>경상권</td>\n      <td>2466052</td>\n      <td>2431774</td>\n      <td>2456016</td>\n      <td>2473990</td>\n      <td>0.0141</td>\n      <td>4</td>\n    </tr>\n  </tbody>\n</table>\n</div>"
     },
     "metadata": {},
     "execution_count": 52
    }
   ],
   "source": [
    "# 새로운 열 생성을 하기 위해서는 []안에 넣어줘야 한다. \n",
    "df['temp'] = [1,2,3,4]\n",
    "df"
   ]
  },
  {
   "cell_type": "code",
   "execution_count": 56,
   "metadata": {},
   "outputs": [
    {
     "output_type": "execute_result",
     "data": {
      "text/plain": [
       "특성   지역     2015     2010     2005     2000  2010-2015 증가율  temp\n",
       "도시                                                              \n",
       "서울  수도권  9904312  9631482  9762546  9853972         0.0283     1\n",
       "부산  경상권  3448737  3393191  3512547  3655437         0.0163     2\n",
       "인천  수도권  2890451  2632035  2517680  2466338         0.0982     3\n",
       "대구  경상권  2466052  2431774  2456016  2473990         0.0141     4"
      ],
      "text/html": "<div>\n<style scoped>\n    .dataframe tbody tr th:only-of-type {\n        vertical-align: middle;\n    }\n\n    .dataframe tbody tr th {\n        vertical-align: top;\n    }\n\n    .dataframe thead th {\n        text-align: right;\n    }\n</style>\n<table border=\"1\" class=\"dataframe\">\n  <thead>\n    <tr style=\"text-align: right;\">\n      <th>특성</th>\n      <th>지역</th>\n      <th>2015</th>\n      <th>2010</th>\n      <th>2005</th>\n      <th>2000</th>\n      <th>2010-2015 증가율</th>\n      <th>temp</th>\n    </tr>\n    <tr>\n      <th>도시</th>\n      <th></th>\n      <th></th>\n      <th></th>\n      <th></th>\n      <th></th>\n      <th></th>\n      <th></th>\n    </tr>\n  </thead>\n  <tbody>\n    <tr>\n      <th>서울</th>\n      <td>수도권</td>\n      <td>9904312</td>\n      <td>9631482</td>\n      <td>9762546</td>\n      <td>9853972</td>\n      <td>0.0283</td>\n      <td>1</td>\n    </tr>\n    <tr>\n      <th>부산</th>\n      <td>경상권</td>\n      <td>3448737</td>\n      <td>3393191</td>\n      <td>3512547</td>\n      <td>3655437</td>\n      <td>0.0163</td>\n      <td>2</td>\n    </tr>\n    <tr>\n      <th>인천</th>\n      <td>수도권</td>\n      <td>2890451</td>\n      <td>2632035</td>\n      <td>2517680</td>\n      <td>2466338</td>\n      <td>0.0982</td>\n      <td>3</td>\n    </tr>\n    <tr>\n      <th>대구</th>\n      <td>경상권</td>\n      <td>2466052</td>\n      <td>2431774</td>\n      <td>2456016</td>\n      <td>2473990</td>\n      <td>0.0141</td>\n      <td>4</td>\n    </tr>\n  </tbody>\n</table>\n</div>"
     },
     "metadata": {},
     "execution_count": 56
    }
   ],
   "source": [
    "# 수정이나 삭제도 가능(했다 안했다가 함)\n",
    "df.temp = [5,6,7,8]\n",
    "df"
   ]
  },
  {
   "source": [
    "* 열 인덱싱  \n",
    "\n",
    "df.\\['2010'] 은 시리즈고  \n",
    "df.\\[\\['2010']]은 데이터프레임이다"
   ],
   "cell_type": "markdown",
   "metadata": {}
  },
  {
   "cell_type": "code",
   "execution_count": 59,
   "metadata": {},
   "outputs": [
    {
     "output_type": "execute_result",
     "data": {
      "text/plain": [
       "특성     2010     2015\n",
       "도시                  \n",
       "서울  9631482  9904312\n",
       "부산  3393191  3448737\n",
       "인천  2632035  2890451\n",
       "대구  2431774  2466052"
      ],
      "text/html": "<div>\n<style scoped>\n    .dataframe tbody tr th:only-of-type {\n        vertical-align: middle;\n    }\n\n    .dataframe tbody tr th {\n        vertical-align: top;\n    }\n\n    .dataframe thead th {\n        text-align: right;\n    }\n</style>\n<table border=\"1\" class=\"dataframe\">\n  <thead>\n    <tr style=\"text-align: right;\">\n      <th>특성</th>\n      <th>2010</th>\n      <th>2015</th>\n    </tr>\n    <tr>\n      <th>도시</th>\n      <th></th>\n      <th></th>\n    </tr>\n  </thead>\n  <tbody>\n    <tr>\n      <th>서울</th>\n      <td>9631482</td>\n      <td>9904312</td>\n    </tr>\n    <tr>\n      <th>부산</th>\n      <td>3393191</td>\n      <td>3448737</td>\n    </tr>\n    <tr>\n      <th>인천</th>\n      <td>2632035</td>\n      <td>2890451</td>\n    </tr>\n    <tr>\n      <th>대구</th>\n      <td>2431774</td>\n      <td>2466052</td>\n    </tr>\n  </tbody>\n</table>\n</div>"
     },
     "metadata": {},
     "execution_count": 59
    }
   ],
   "source": [
    "df[['2010','2015']]"
   ]
  },
  {
   "cell_type": "code",
   "execution_count": 58,
   "metadata": {},
   "outputs": [
    {
     "output_type": "execute_result",
     "data": {
      "text/plain": [
       "도시\n",
       "서울    9631482\n",
       "부산    3393191\n",
       "인천    2632035\n",
       "대구    2431774\n",
       "Name: 2010, dtype: int64"
      ]
     },
     "metadata": {},
     "execution_count": 58
    }
   ],
   "source": [
    "df['2010']"
   ]
  },
  {
   "source": [
    "* 행 인덱싱"
   ],
   "cell_type": "markdown",
   "metadata": {}
  },
  {
   "cell_type": "code",
   "execution_count": 60,
   "metadata": {},
   "outputs": [
    {
     "output_type": "execute_result",
     "data": {
      "text/plain": [
       "특성   지역     2015     2010     2005     2000  2010-2015 증가율  temp\n",
       "도시                                                              \n",
       "서울  수도권  9904312  9631482  9762546  9853972         0.0283     1"
      ],
      "text/html": "<div>\n<style scoped>\n    .dataframe tbody tr th:only-of-type {\n        vertical-align: middle;\n    }\n\n    .dataframe tbody tr th {\n        vertical-align: top;\n    }\n\n    .dataframe thead th {\n        text-align: right;\n    }\n</style>\n<table border=\"1\" class=\"dataframe\">\n  <thead>\n    <tr style=\"text-align: right;\">\n      <th>특성</th>\n      <th>지역</th>\n      <th>2015</th>\n      <th>2010</th>\n      <th>2005</th>\n      <th>2000</th>\n      <th>2010-2015 증가율</th>\n      <th>temp</th>\n    </tr>\n    <tr>\n      <th>도시</th>\n      <th></th>\n      <th></th>\n      <th></th>\n      <th></th>\n      <th></th>\n      <th></th>\n      <th></th>\n    </tr>\n  </thead>\n  <tbody>\n    <tr>\n      <th>서울</th>\n      <td>수도권</td>\n      <td>9904312</td>\n      <td>9631482</td>\n      <td>9762546</td>\n      <td>9853972</td>\n      <td>0.0283</td>\n      <td>1</td>\n    </tr>\n  </tbody>\n</table>\n</div>"
     },
     "metadata": {},
     "execution_count": 60
    }
   ],
   "source": [
    "# 하나의 행만 추출 하나의 행만 추출\n",
    "df[:1]"
   ]
  },
  {
   "cell_type": "code",
   "execution_count": 62,
   "metadata": {},
   "outputs": [
    {
     "output_type": "execute_result",
     "data": {
      "text/plain": [
       "특성   지역     2015     2010     2005     2000  2010-2015 증가율  temp\n",
       "도시                                                              \n",
       "서울  수도권  9904312  9631482  9762546  9853972         0.0283     1\n",
       "부산  경상권  3448737  3393191  3512547  3655437         0.0163     2"
      ],
      "text/html": "<div>\n<style scoped>\n    .dataframe tbody tr th:only-of-type {\n        vertical-align: middle;\n    }\n\n    .dataframe tbody tr th {\n        vertical-align: top;\n    }\n\n    .dataframe thead th {\n        text-align: right;\n    }\n</style>\n<table border=\"1\" class=\"dataframe\">\n  <thead>\n    <tr style=\"text-align: right;\">\n      <th>특성</th>\n      <th>지역</th>\n      <th>2015</th>\n      <th>2010</th>\n      <th>2005</th>\n      <th>2000</th>\n      <th>2010-2015 증가율</th>\n      <th>temp</th>\n    </tr>\n    <tr>\n      <th>도시</th>\n      <th></th>\n      <th></th>\n      <th></th>\n      <th></th>\n      <th></th>\n      <th></th>\n      <th></th>\n    </tr>\n  </thead>\n  <tbody>\n    <tr>\n      <th>서울</th>\n      <td>수도권</td>\n      <td>9904312</td>\n      <td>9631482</td>\n      <td>9762546</td>\n      <td>9853972</td>\n      <td>0.0283</td>\n      <td>1</td>\n    </tr>\n    <tr>\n      <th>부산</th>\n      <td>경상권</td>\n      <td>3448737</td>\n      <td>3393191</td>\n      <td>3512547</td>\n      <td>3655437</td>\n      <td>0.0163</td>\n      <td>2</td>\n    </tr>\n  </tbody>\n</table>\n</div>"
     },
     "metadata": {},
     "execution_count": 62
    }
   ],
   "source": [
    "df['서울':'부산']"
   ]
  },
  {
   "source": [
    "* 개별 데이터 인덱싱"
   ],
   "cell_type": "markdown",
   "metadata": {}
  },
  {
   "cell_type": "code",
   "execution_count": 64,
   "metadata": {},
   "outputs": [
    {
     "output_type": "execute_result",
     "data": {
      "text/plain": [
       "'수도권'"
      ]
     },
     "metadata": {},
     "execution_count": 64
    }
   ],
   "source": [
    "df['지역']['서울']"
   ]
  },
  {
   "cell_type": "code",
   "execution_count": 65,
   "metadata": {},
   "outputs": [
    {
     "output_type": "execute_result",
     "data": {
      "text/plain": [
       "3448737"
      ]
     },
     "metadata": {},
     "execution_count": 65
    }
   ],
   "source": [
    "df['2015'][1]       #부산"
   ]
  },
  {
   "cell_type": "code",
   "execution_count": 66,
   "metadata": {},
   "outputs": [
    {
     "output_type": "execute_result",
     "data": {
      "text/plain": [
       "'수도권'"
      ]
     },
     "metadata": {},
     "execution_count": 66
    }
   ],
   "source": [
    "df.지역[0]          #익숙해지면 이렇게 사용"
   ]
  },
  {
   "cell_type": "code",
   "execution_count": 68,
   "metadata": {},
   "outputs": [
    {
     "output_type": "execute_result",
     "data": {
      "text/plain": [
       "'수도권'"
      ]
     },
     "metadata": {},
     "execution_count": 68
    }
   ],
   "source": [
    "df.지역.서울        #열인덱스.행인덱스"
   ]
  }
 ]
}