{
 "metadata": {
  "language_info": {
   "codemirror_mode": {
    "name": "ipython",
    "version": 3
   },
   "file_extension": ".py",
   "mimetype": "text/x-python",
   "name": "python",
   "nbconvert_exporter": "python",
   "pygments_lexer": "ipython3",
   "version": "3.8.5"
  },
  "orig_nbformat": 2,
  "kernelspec": {
   "name": "python385jvsc74a57bd08c1eae21719a0790335dcb83aad72b63b602cfe5cdb2bda0f60bc11d4f154e4b",
   "display_name": "Python 3.8.5 64-bit ('base': conda)"
  }
 },
 "nbformat": 4,
 "nbformat_minor": 2,
 "cells": [
  {
   "cell_type": "code",
   "execution_count": 1,
   "metadata": {},
   "outputs": [],
   "source": [
    "import numpy as np\n",
    "import pandas as pd"
   ]
  },
  {
   "source": [
    "### 연습문제 4.1.1  \n",
    "\n",
    "(1) 임의로 두 개의 시리즈 객체를 만든다.  \n",
    "모두 문자열 인덱스를 가져야 하며 두 시리즈에 공통적으로 포함되지 않는 라벨이 있어야 한다."
   ],
   "cell_type": "markdown",
   "metadata": {}
  },
  {
   "cell_type": "code",
   "execution_count": 2,
   "metadata": {},
   "outputs": [],
   "source": [
    "a = pd.Series([99, 37, 51, 65],\n",
    "              index=[\"A\", \"B\", \"C\", \"D\"])\n",
    "b = pd.Series([59, 77, 81, 95],\n",
    "              index=[\"A\", \"B\", \"H\", \"I\"])"
   ]
  },
  {
   "cell_type": "code",
   "execution_count": 3,
   "metadata": {},
   "outputs": [
    {
     "output_type": "execute_result",
     "data": {
      "text/plain": [
       "A    99\n",
       "B    37\n",
       "C    51\n",
       "D    65\n",
       "dtype: int64"
      ]
     },
     "metadata": {},
     "execution_count": 3
    }
   ],
   "source": [
    "a"
   ]
  },
  {
   "cell_type": "code",
   "execution_count": 4,
   "metadata": {},
   "outputs": [
    {
     "output_type": "execute_result",
     "data": {
      "text/plain": [
       "A    59\n",
       "B    77\n",
       "H    81\n",
       "I    95\n",
       "dtype: int64"
      ]
     },
     "metadata": {},
     "execution_count": 4
    }
   ],
   "source": [
    "b"
   ]
  },
  {
   "source": [
    "(2) 위에서 만든 두 시리즈 객체를 이용하여 사칙 연산을 한다.  "
   ],
   "cell_type": "markdown",
   "metadata": {}
  },
  {
   "cell_type": "code",
   "execution_count": 5,
   "metadata": {},
   "outputs": [
    {
     "output_type": "execute_result",
     "data": {
      "text/plain": [
       "A    158.0\n",
       "B    114.0\n",
       "C      NaN\n",
       "D      NaN\n",
       "H      NaN\n",
       "I      NaN\n",
       "dtype: float64"
      ]
     },
     "metadata": {},
     "execution_count": 5
    }
   ],
   "source": [
    "a+b"
   ]
  },
  {
   "cell_type": "code",
   "execution_count": 6,
   "metadata": {},
   "outputs": [
    {
     "output_type": "execute_result",
     "data": {
      "text/plain": [
       "A    40.0\n",
       "B   -40.0\n",
       "C     NaN\n",
       "D     NaN\n",
       "H     NaN\n",
       "I     NaN\n",
       "dtype: float64"
      ]
     },
     "metadata": {},
     "execution_count": 6
    }
   ],
   "source": [
    "a - b"
   ]
  },
  {
   "cell_type": "code",
   "execution_count": 7,
   "metadata": {},
   "outputs": [
    {
     "output_type": "execute_result",
     "data": {
      "text/plain": [
       "A    5841.0\n",
       "B    2849.0\n",
       "C       NaN\n",
       "D       NaN\n",
       "H       NaN\n",
       "I       NaN\n",
       "dtype: float64"
      ]
     },
     "metadata": {},
     "execution_count": 7
    }
   ],
   "source": [
    "a * b"
   ]
  },
  {
   "cell_type": "code",
   "execution_count": 8,
   "metadata": {},
   "outputs": [
    {
     "output_type": "execute_result",
     "data": {
      "text/plain": [
       "A    1.677966\n",
       "B    0.480519\n",
       "C         NaN\n",
       "D         NaN\n",
       "H         NaN\n",
       "I         NaN\n",
       "dtype: float64"
      ]
     },
     "metadata": {},
     "execution_count": 8
    }
   ],
   "source": [
    "a / b"
   ]
  },
  {
   "source": [
    "### 연습 문제 4.1.2\n",
    "\n",
    "다음 조건을 만족하는 임의의 데이터프레임을 하나 만든다.  \n",
    "\n",
    "(1) 열의 갯수와 행의 갯수가 각각 5개 이상이어야 한다.  \n",
    "\n",
    "(2) 열에는 정수, 문자열, 실수 자료형 데이터가 각각 1개 이상씩 포함되어 있어야 한다.  "
   ],
   "cell_type": "markdown",
   "metadata": {}
  },
  {
   "cell_type": "code",
   "execution_count": 9,
   "metadata": {},
   "outputs": [
    {
     "output_type": "execute_result",
     "data": {
      "text/plain": [
       "  이름  영어  수학  국어  사회     평균\n",
       "1  A  12  55  78  88  58.25\n",
       "2  B  57  57  22  25  40.25\n",
       "3  C  89  81  57  77  76.00\n",
       "4  D  24  44  87  59  53.50\n",
       "5  E  57  28  99  39  55.75"
      ],
      "text/html": "<div>\n<style scoped>\n    .dataframe tbody tr th:only-of-type {\n        vertical-align: middle;\n    }\n\n    .dataframe tbody tr th {\n        vertical-align: top;\n    }\n\n    .dataframe thead th {\n        text-align: right;\n    }\n</style>\n<table border=\"1\" class=\"dataframe\">\n  <thead>\n    <tr style=\"text-align: right;\">\n      <th></th>\n      <th>이름</th>\n      <th>영어</th>\n      <th>수학</th>\n      <th>국어</th>\n      <th>사회</th>\n      <th>평균</th>\n    </tr>\n  </thead>\n  <tbody>\n    <tr>\n      <th>1</th>\n      <td>A</td>\n      <td>12</td>\n      <td>55</td>\n      <td>78</td>\n      <td>88</td>\n      <td>58.25</td>\n    </tr>\n    <tr>\n      <th>2</th>\n      <td>B</td>\n      <td>57</td>\n      <td>57</td>\n      <td>22</td>\n      <td>25</td>\n      <td>40.25</td>\n    </tr>\n    <tr>\n      <th>3</th>\n      <td>C</td>\n      <td>89</td>\n      <td>81</td>\n      <td>57</td>\n      <td>77</td>\n      <td>76.00</td>\n    </tr>\n    <tr>\n      <th>4</th>\n      <td>D</td>\n      <td>24</td>\n      <td>44</td>\n      <td>87</td>\n      <td>59</td>\n      <td>53.50</td>\n    </tr>\n    <tr>\n      <th>5</th>\n      <td>E</td>\n      <td>57</td>\n      <td>28</td>\n      <td>99</td>\n      <td>39</td>\n      <td>55.75</td>\n    </tr>\n  </tbody>\n</table>\n</div>"
     },
     "metadata": {},
     "execution_count": 9
    }
   ],
   "source": [
    "data = {'이름' : ['A','B','C','D','E'],\n",
    "        '영어' : [12,57,89,24,57],\n",
    "        \"수학\" : [55,57,81,44,28],\n",
    "        \"국어\" : [78,22,57,87,99],\n",
    "        \"사회\" : [88,25,77,59,39]\n",
    "}\n",
    "\n",
    "columns = ['이름','영어','수학','국어','사회']\n",
    "index = [1,2,3,4,5]\n",
    "df = pd.DataFrame(data,index = index,columns= columns)\n",
    "df['평균'] = df.mean(axis=1)\n",
    "\n",
    "df"
   ]
  },
  {
   "source": [
    "### 연습 문제 4.1.3\n",
    "\n"
   ],
   "cell_type": "markdown",
   "metadata": {}
  },
  {
   "cell_type": "code",
   "execution_count": 10,
   "metadata": {},
   "outputs": [
    {
     "output_type": "execute_result",
     "data": {
      "text/plain": [
       "    국어  영어  수학\n",
       "춘향  80  90  90\n",
       "몽룡  90  70  60\n",
       "향단  70  60  80\n",
       "방자  30  40  70"
      ],
      "text/html": "<div>\n<style scoped>\n    .dataframe tbody tr th:only-of-type {\n        vertical-align: middle;\n    }\n\n    .dataframe tbody tr th {\n        vertical-align: top;\n    }\n\n    .dataframe thead th {\n        text-align: right;\n    }\n</style>\n<table border=\"1\" class=\"dataframe\">\n  <thead>\n    <tr style=\"text-align: right;\">\n      <th></th>\n      <th>국어</th>\n      <th>영어</th>\n      <th>수학</th>\n    </tr>\n  </thead>\n  <tbody>\n    <tr>\n      <th>춘향</th>\n      <td>80</td>\n      <td>90</td>\n      <td>90</td>\n    </tr>\n    <tr>\n      <th>몽룡</th>\n      <td>90</td>\n      <td>70</td>\n      <td>60</td>\n    </tr>\n    <tr>\n      <th>향단</th>\n      <td>70</td>\n      <td>60</td>\n      <td>80</td>\n    </tr>\n    <tr>\n      <th>방자</th>\n      <td>30</td>\n      <td>40</td>\n      <td>70</td>\n    </tr>\n  </tbody>\n</table>\n</div>"
     },
     "metadata": {},
     "execution_count": 10
    }
   ],
   "source": [
    "data = {\n",
    "    \"국어\": [80, 90, 70, 30],\n",
    "    \"영어\": [90, 70, 60, 40],\n",
    "    \"수학\": [90, 60, 80, 70],\n",
    "}\n",
    "columns = [\"국어\", \"영어\", \"수학\"]\n",
    "index = [\"춘향\", \"몽룡\", \"향단\", \"방자\"]\n",
    "df = pd.DataFrame(data, index=index, columns=columns)\n",
    "\n",
    "df"
   ]
  },
  {
   "source": [
    "(1) 모든 학생의 수학 점수를 시리즈로 나타낸다."
   ],
   "cell_type": "markdown",
   "metadata": {}
  },
  {
   "cell_type": "code",
   "execution_count": 11,
   "metadata": {},
   "outputs": [
    {
     "output_type": "execute_result",
     "data": {
      "text/plain": [
       "춘향    90\n",
       "몽룡    60\n",
       "향단    80\n",
       "방자    70\n",
       "Name: 수학, dtype: int64"
      ]
     },
     "metadata": {},
     "execution_count": 11
    }
   ],
   "source": [
    "df.수학"
   ]
  },
  {
   "source": [
    "(2) 모든 학생의 국어와 영어 점수를 데이터 프레임으로 나타낸다."
   ],
   "cell_type": "markdown",
   "metadata": {}
  },
  {
   "cell_type": "code",
   "execution_count": 12,
   "metadata": {},
   "outputs": [
    {
     "output_type": "execute_result",
     "data": {
      "text/plain": [
       "    국어  영어\n",
       "춘향  80  90\n",
       "몽룡  90  70\n",
       "향단  70  60\n",
       "방자  30  40"
      ],
      "text/html": "<div>\n<style scoped>\n    .dataframe tbody tr th:only-of-type {\n        vertical-align: middle;\n    }\n\n    .dataframe tbody tr th {\n        vertical-align: top;\n    }\n\n    .dataframe thead th {\n        text-align: right;\n    }\n</style>\n<table border=\"1\" class=\"dataframe\">\n  <thead>\n    <tr style=\"text-align: right;\">\n      <th></th>\n      <th>국어</th>\n      <th>영어</th>\n    </tr>\n  </thead>\n  <tbody>\n    <tr>\n      <th>춘향</th>\n      <td>80</td>\n      <td>90</td>\n    </tr>\n    <tr>\n      <th>몽룡</th>\n      <td>90</td>\n      <td>70</td>\n    </tr>\n    <tr>\n      <th>향단</th>\n      <td>70</td>\n      <td>60</td>\n    </tr>\n    <tr>\n      <th>방자</th>\n      <td>30</td>\n      <td>40</td>\n    </tr>\n  </tbody>\n</table>\n</div>"
     },
     "metadata": {},
     "execution_count": 12
    }
   ],
   "source": [
    "df[['국어','영어']]"
   ]
  },
  {
   "source": [
    "(3) 모든 학생의 각 과목 평균 점수를 새로운 열로 추가한다."
   ],
   "cell_type": "markdown",
   "metadata": {}
  },
  {
   "cell_type": "code",
   "execution_count": 13,
   "metadata": {},
   "outputs": [
    {
     "output_type": "execute_result",
     "data": {
      "text/plain": [
       "    국어  영어  수학     평균\n",
       "춘향  80  90  90  86.67\n",
       "몽룡  90  70  60  73.33\n",
       "향단  70  60  80  70.00\n",
       "방자  30  40  70  46.67"
      ],
      "text/html": "<div>\n<style scoped>\n    .dataframe tbody tr th:only-of-type {\n        vertical-align: middle;\n    }\n\n    .dataframe tbody tr th {\n        vertical-align: top;\n    }\n\n    .dataframe thead th {\n        text-align: right;\n    }\n</style>\n<table border=\"1\" class=\"dataframe\">\n  <thead>\n    <tr style=\"text-align: right;\">\n      <th></th>\n      <th>국어</th>\n      <th>영어</th>\n      <th>수학</th>\n      <th>평균</th>\n    </tr>\n  </thead>\n  <tbody>\n    <tr>\n      <th>춘향</th>\n      <td>80</td>\n      <td>90</td>\n      <td>90</td>\n      <td>86.67</td>\n    </tr>\n    <tr>\n      <th>몽룡</th>\n      <td>90</td>\n      <td>70</td>\n      <td>60</td>\n      <td>73.33</td>\n    </tr>\n    <tr>\n      <th>향단</th>\n      <td>70</td>\n      <td>60</td>\n      <td>80</td>\n      <td>70.00</td>\n    </tr>\n    <tr>\n      <th>방자</th>\n      <td>30</td>\n      <td>40</td>\n      <td>70</td>\n      <td>46.67</td>\n    </tr>\n  </tbody>\n</table>\n</div>"
     },
     "metadata": {},
     "execution_count": 13
    }
   ],
   "source": [
    "df['평균'] = np.round(df.mean(axis=1),2)\n",
    "df"
   ]
  },
  {
   "source": [
    "(4) 방자의 영어 점수를 80점으로 수정하고 평균 점수도 다시 계산한다."
   ],
   "cell_type": "markdown",
   "metadata": {}
  },
  {
   "cell_type": "code",
   "execution_count": 14,
   "metadata": {},
   "outputs": [
    {
     "output_type": "stream",
     "name": "stderr",
     "text": [
      "<ipython-input-14-f634d7daad39>:1: SettingWithCopyWarning: \nA value is trying to be set on a copy of a slice from a DataFrame\n\nSee the caveats in the documentation: https://pandas.pydata.org/pandas-docs/stable/user_guide/indexing.html#returning-a-view-versus-a-copy\n  df.국어[3] = 80\n"
     ]
    },
    {
     "output_type": "execute_result",
     "data": {
      "text/plain": [
       "    국어  영어  수학     평균\n",
       "춘향  80  90  90  86.67\n",
       "몽룡  90  70  60  73.33\n",
       "향단  70  60  80  70.00\n",
       "방자  80  40  70  59.17"
      ],
      "text/html": "<div>\n<style scoped>\n    .dataframe tbody tr th:only-of-type {\n        vertical-align: middle;\n    }\n\n    .dataframe tbody tr th {\n        vertical-align: top;\n    }\n\n    .dataframe thead th {\n        text-align: right;\n    }\n</style>\n<table border=\"1\" class=\"dataframe\">\n  <thead>\n    <tr style=\"text-align: right;\">\n      <th></th>\n      <th>국어</th>\n      <th>영어</th>\n      <th>수학</th>\n      <th>평균</th>\n    </tr>\n  </thead>\n  <tbody>\n    <tr>\n      <th>춘향</th>\n      <td>80</td>\n      <td>90</td>\n      <td>90</td>\n      <td>86.67</td>\n    </tr>\n    <tr>\n      <th>몽룡</th>\n      <td>90</td>\n      <td>70</td>\n      <td>60</td>\n      <td>73.33</td>\n    </tr>\n    <tr>\n      <th>향단</th>\n      <td>70</td>\n      <td>60</td>\n      <td>80</td>\n      <td>70.00</td>\n    </tr>\n    <tr>\n      <th>방자</th>\n      <td>80</td>\n      <td>40</td>\n      <td>70</td>\n      <td>59.17</td>\n    </tr>\n  </tbody>\n</table>\n</div>"
     },
     "metadata": {},
     "execution_count": 14
    }
   ],
   "source": [
    "df.국어[3] = 80\n",
    "df['평균'] = np.round(df.mean(axis=1),2)\n",
    "df"
   ]
  },
  {
   "source": [
    "(5) 춘향의 점수를 데이터프레임으로 나타낸다."
   ],
   "cell_type": "markdown",
   "metadata": {}
  },
  {
   "cell_type": "code",
   "execution_count": 15,
   "metadata": {},
   "outputs": [
    {
     "output_type": "execute_result",
     "data": {
      "text/plain": [
       "    국어  영어  수학     평균\n",
       "춘향  80  90  90  86.67"
      ],
      "text/html": "<div>\n<style scoped>\n    .dataframe tbody tr th:only-of-type {\n        vertical-align: middle;\n    }\n\n    .dataframe tbody tr th {\n        vertical-align: top;\n    }\n\n    .dataframe thead th {\n        text-align: right;\n    }\n</style>\n<table border=\"1\" class=\"dataframe\">\n  <thead>\n    <tr style=\"text-align: right;\">\n      <th></th>\n      <th>국어</th>\n      <th>영어</th>\n      <th>수학</th>\n      <th>평균</th>\n    </tr>\n  </thead>\n  <tbody>\n    <tr>\n      <th>춘향</th>\n      <td>80</td>\n      <td>90</td>\n      <td>90</td>\n      <td>86.67</td>\n    </tr>\n  </tbody>\n</table>\n</div>"
     },
     "metadata": {},
     "execution_count": 15
    }
   ],
   "source": [
    "df[:1]"
   ]
  },
  {
   "source": [
    "(6) 향단의 점수를 시리즈로 나타낸다."
   ],
   "cell_type": "markdown",
   "metadata": {}
  },
  {
   "cell_type": "code",
   "execution_count": 16,
   "metadata": {},
   "outputs": [
    {
     "output_type": "execute_result",
     "data": {
      "text/plain": [
       "국어    70.0\n",
       "영어    60.0\n",
       "수학    80.0\n",
       "평균    70.0\n",
       "Name: 향단, dtype: float64"
      ]
     },
     "metadata": {},
     "execution_count": 16
    }
   ],
   "source": [
    "df.loc['향단',:]"
   ]
  },
  {
   "source": [
    "### 연습 문제 4.3.1\n",
    "1. 모든 행과 열에 라벨을 가지는 5 x 5 이상의 크기를 가지는 데이터프레임을 만든다."
   ],
   "cell_type": "markdown",
   "metadata": {}
  },
  {
   "cell_type": "code",
   "execution_count": 17,
   "metadata": {},
   "outputs": [
    {
     "output_type": "execute_result",
     "data": {
      "text/plain": [
       "  이름  영어  수학  국어  사회     평균\n",
       "1  A  12  55  78  88  58.25\n",
       "2  B  57  57  22  25  40.25\n",
       "3  C  89  81  57  77  76.00\n",
       "4  D  24  44  87  59  53.50\n",
       "5  E  57  28  99  39  55.75"
      ],
      "text/html": "<div>\n<style scoped>\n    .dataframe tbody tr th:only-of-type {\n        vertical-align: middle;\n    }\n\n    .dataframe tbody tr th {\n        vertical-align: top;\n    }\n\n    .dataframe thead th {\n        text-align: right;\n    }\n</style>\n<table border=\"1\" class=\"dataframe\">\n  <thead>\n    <tr style=\"text-align: right;\">\n      <th></th>\n      <th>이름</th>\n      <th>영어</th>\n      <th>수학</th>\n      <th>국어</th>\n      <th>사회</th>\n      <th>평균</th>\n    </tr>\n  </thead>\n  <tbody>\n    <tr>\n      <th>1</th>\n      <td>A</td>\n      <td>12</td>\n      <td>55</td>\n      <td>78</td>\n      <td>88</td>\n      <td>58.25</td>\n    </tr>\n    <tr>\n      <th>2</th>\n      <td>B</td>\n      <td>57</td>\n      <td>57</td>\n      <td>22</td>\n      <td>25</td>\n      <td>40.25</td>\n    </tr>\n    <tr>\n      <th>3</th>\n      <td>C</td>\n      <td>89</td>\n      <td>81</td>\n      <td>57</td>\n      <td>77</td>\n      <td>76.00</td>\n    </tr>\n    <tr>\n      <th>4</th>\n      <td>D</td>\n      <td>24</td>\n      <td>44</td>\n      <td>87</td>\n      <td>59</td>\n      <td>53.50</td>\n    </tr>\n    <tr>\n      <th>5</th>\n      <td>E</td>\n      <td>57</td>\n      <td>28</td>\n      <td>99</td>\n      <td>39</td>\n      <td>55.75</td>\n    </tr>\n  </tbody>\n</table>\n</div>"
     },
     "metadata": {},
     "execution_count": 17
    }
   ],
   "source": [
    "data = {'이름' : ['A','B','C','D','E'],\n",
    "        '영어' : [12,57,89,24,57],\n",
    "        \"수학\" : [55,57,81,44,28],\n",
    "        \"국어\" : [78,22,57,87,99],\n",
    "        \"사회\" : [88,25,77,59,39]\n",
    "}\n",
    "\n",
    "columns = ['이름','영어','수학','국어','사회']\n",
    "index = [1,2,3,4,5]\n",
    "df = pd.DataFrame(data,index = index,columns= columns)\n",
    "df['평균'] = df.mean(axis=1)\n",
    "\n",
    "df"
   ]
  },
  {
   "source": [
    "2. 10가지 이상의 방법으로 특정한 행과 열을 선택한다."
   ],
   "cell_type": "markdown",
   "metadata": {}
  },
  {
   "cell_type": "code",
   "execution_count": 18,
   "metadata": {},
   "outputs": [
    {
     "output_type": "execute_result",
     "data": {
      "text/plain": [
       "1    88\n",
       "2    25\n",
       "3    77\n",
       "4    59\n",
       "5    39\n",
       "Name: 사회, dtype: int64"
      ]
     },
     "metadata": {},
     "execution_count": 18
    }
   ],
   "source": [
    "# 1\n",
    "df['이름']\n",
    "\n",
    "# 2\n",
    "1\n",
    "df['이름']\n",
    "\n",
    "# 2\n",
    "df.사회"
   ]
  },
  {
   "cell_type": "code",
   "execution_count": 19,
   "metadata": {},
   "outputs": [
    {
     "output_type": "execute_result",
     "data": {
      "text/plain": [
       "1    88\n",
       "2    25\n",
       "3    77\n",
       "4    59\n",
       "5    39\n",
       "Name: 사회, dtype: int64"
      ]
     },
     "metadata": {},
     "execution_count": 19
    }
   ],
   "source": [
    "# 2\n",
    "df.사회"
   ]
  },
  {
   "cell_type": "code",
   "execution_count": 20,
   "metadata": {},
   "outputs": [
    {
     "output_type": "execute_result",
     "data": {
      "text/plain": [
       "이름        E\n",
       "영어       57\n",
       "수학       28\n",
       "국어       99\n",
       "사회       39\n",
       "평균    55.75\n",
       "Name: 5, dtype: object"
      ]
     },
     "metadata": {},
     "execution_count": 20
    }
   ],
   "source": [
    "# 3\n",
    "df.iloc[-1]"
   ]
  },
  {
   "cell_type": "code",
   "execution_count": 21,
   "metadata": {},
   "outputs": [
    {
     "output_type": "execute_result",
     "data": {
      "text/plain": [
       "이름       C\n",
       "영어      89\n",
       "수학      81\n",
       "국어      57\n",
       "사회      77\n",
       "평균    76.0\n",
       "Name: 3, dtype: object"
      ]
     },
     "metadata": {},
     "execution_count": 21
    }
   ],
   "source": [
    "# 4\n",
    "df.loc[3]"
   ]
  },
  {
   "cell_type": "code",
   "execution_count": 22,
   "metadata": {},
   "outputs": [
    {
     "output_type": "execute_result",
     "data": {
      "text/plain": [
       "   영어     평균\n",
       "2  57  40.25"
      ],
      "text/html": "<div>\n<style scoped>\n    .dataframe tbody tr th:only-of-type {\n        vertical-align: middle;\n    }\n\n    .dataframe tbody tr th {\n        vertical-align: top;\n    }\n\n    .dataframe thead th {\n        text-align: right;\n    }\n</style>\n<table border=\"1\" class=\"dataframe\">\n  <thead>\n    <tr style=\"text-align: right;\">\n      <th></th>\n      <th>영어</th>\n      <th>평균</th>\n    </tr>\n  </thead>\n  <tbody>\n    <tr>\n      <th>2</th>\n      <td>57</td>\n      <td>40.25</td>\n    </tr>\n  </tbody>\n</table>\n</div>"
     },
     "metadata": {},
     "execution_count": 22
    }
   ],
   "source": [
    "# 5\n",
    "df.loc[[2],['영어','평균']]"
   ]
  },
  {
   "cell_type": "code",
   "execution_count": 23,
   "metadata": {},
   "outputs": [
    {
     "output_type": "execute_result",
     "data": {
      "text/plain": [
       "  이름  영어  수학  국어  사회     평균\n",
       "3  C  89  81  57  77  76.00\n",
       "4  D  24  44  87  59  53.50\n",
       "5  E  57  28  99  39  55.75"
      ],
      "text/html": "<div>\n<style scoped>\n    .dataframe tbody tr th:only-of-type {\n        vertical-align: middle;\n    }\n\n    .dataframe tbody tr th {\n        vertical-align: top;\n    }\n\n    .dataframe thead th {\n        text-align: right;\n    }\n</style>\n<table border=\"1\" class=\"dataframe\">\n  <thead>\n    <tr style=\"text-align: right;\">\n      <th></th>\n      <th>이름</th>\n      <th>영어</th>\n      <th>수학</th>\n      <th>국어</th>\n      <th>사회</th>\n      <th>평균</th>\n    </tr>\n  </thead>\n  <tbody>\n    <tr>\n      <th>3</th>\n      <td>C</td>\n      <td>89</td>\n      <td>81</td>\n      <td>57</td>\n      <td>77</td>\n      <td>76.00</td>\n    </tr>\n    <tr>\n      <th>4</th>\n      <td>D</td>\n      <td>24</td>\n      <td>44</td>\n      <td>87</td>\n      <td>59</td>\n      <td>53.50</td>\n    </tr>\n    <tr>\n      <th>5</th>\n      <td>E</td>\n      <td>57</td>\n      <td>28</td>\n      <td>99</td>\n      <td>39</td>\n      <td>55.75</td>\n    </tr>\n  </tbody>\n</table>\n</div>"
     },
     "metadata": {},
     "execution_count": 23
    }
   ],
   "source": [
    "# 6\n",
    "df.loc[3:]"
   ]
  },
  {
   "cell_type": "code",
   "execution_count": 24,
   "metadata": {},
   "outputs": [
    {
     "output_type": "execute_result",
     "data": {
      "text/plain": [
       "1    58.25\n",
       "2    40.25\n",
       "3    76.00\n",
       "4    53.50\n",
       "5    55.75\n",
       "Name: 평균, dtype: float64"
      ]
     },
     "metadata": {},
     "execution_count": 24
    }
   ],
   "source": [
    "# 7\n",
    "df.iloc[:,-1]"
   ]
  },
  {
   "cell_type": "code",
   "execution_count": 25,
   "metadata": {},
   "outputs": [
    {
     "output_type": "execute_result",
     "data": {
      "text/plain": [
       "  이름  영어  수학\n",
       "1  A  12  55\n",
       "2  B  57  57\n",
       "3  C  89  81\n",
       "4  D  24  44\n",
       "5  E  57  28"
      ],
      "text/html": "<div>\n<style scoped>\n    .dataframe tbody tr th:only-of-type {\n        vertical-align: middle;\n    }\n\n    .dataframe tbody tr th {\n        vertical-align: top;\n    }\n\n    .dataframe thead th {\n        text-align: right;\n    }\n</style>\n<table border=\"1\" class=\"dataframe\">\n  <thead>\n    <tr style=\"text-align: right;\">\n      <th></th>\n      <th>이름</th>\n      <th>영어</th>\n      <th>수학</th>\n    </tr>\n  </thead>\n  <tbody>\n    <tr>\n      <th>1</th>\n      <td>A</td>\n      <td>12</td>\n      <td>55</td>\n    </tr>\n    <tr>\n      <th>2</th>\n      <td>B</td>\n      <td>57</td>\n      <td>57</td>\n    </tr>\n    <tr>\n      <th>3</th>\n      <td>C</td>\n      <td>89</td>\n      <td>81</td>\n    </tr>\n    <tr>\n      <th>4</th>\n      <td>D</td>\n      <td>24</td>\n      <td>44</td>\n    </tr>\n    <tr>\n      <th>5</th>\n      <td>E</td>\n      <td>57</td>\n      <td>28</td>\n    </tr>\n  </tbody>\n</table>\n</div>"
     },
     "metadata": {},
     "execution_count": 25
    }
   ],
   "source": [
    "# 8\n",
    "\n",
    "df.loc[:,\"이름\":\"수학\"]"
   ]
  },
  {
   "cell_type": "code",
   "execution_count": 26,
   "metadata": {},
   "outputs": [
    {
     "output_type": "execute_result",
     "data": {
      "text/plain": [
       "4    53.50\n",
       "5    55.75\n",
       "Name: 평균, dtype: float64"
      ]
     },
     "metadata": {},
     "execution_count": 26
    }
   ],
   "source": [
    "# 9\n",
    "\n",
    "df.loc[4:, \"평균\"]"
   ]
  },
  {
   "cell_type": "code",
   "execution_count": 27,
   "metadata": {},
   "outputs": [
    {
     "output_type": "execute_result",
     "data": {
      "text/plain": [
       "   사회     평균\n",
       "2  25  40.25\n",
       "3  77  76.00\n",
       "4  59  53.50\n",
       "5  39  55.75"
      ],
      "text/html": "<div>\n<style scoped>\n    .dataframe tbody tr th:only-of-type {\n        vertical-align: middle;\n    }\n\n    .dataframe tbody tr th {\n        vertical-align: top;\n    }\n\n    .dataframe thead th {\n        text-align: right;\n    }\n</style>\n<table border=\"1\" class=\"dataframe\">\n  <thead>\n    <tr style=\"text-align: right;\">\n      <th></th>\n      <th>사회</th>\n      <th>평균</th>\n    </tr>\n  </thead>\n  <tbody>\n    <tr>\n      <th>2</th>\n      <td>25</td>\n      <td>40.25</td>\n    </tr>\n    <tr>\n      <th>3</th>\n      <td>77</td>\n      <td>76.00</td>\n    </tr>\n    <tr>\n      <th>4</th>\n      <td>59</td>\n      <td>53.50</td>\n    </tr>\n    <tr>\n      <th>5</th>\n      <td>39</td>\n      <td>55.75</td>\n    </tr>\n  </tbody>\n</table>\n</div>"
     },
     "metadata": {},
     "execution_count": 27
    }
   ],
   "source": [
    "# 10\n",
    "\n",
    "df.iloc[1:5, -2:]"
   ]
  },
  {
   "source": [
    "### 연습 문제 4.4.1\n",
    "\n",
    "타이타닉호 승객 데이터의 데이터 개수를 각 열마다 구해본다.\n",
    "\n"
   ],
   "cell_type": "markdown",
   "metadata": {}
  },
  {
   "cell_type": "code",
   "execution_count": 28,
   "metadata": {},
   "outputs": [
    {
     "output_type": "execute_result",
     "data": {
      "text/plain": [
       "   survived  pclass     sex   age  sibsp  parch     fare embarked  class  \\\n",
       "0         0       3    male  22.0      1      0   7.2500        S  Third   \n",
       "1         1       1  female  38.0      1      0  71.2833        C  First   \n",
       "2         1       3  female  26.0      0      0   7.9250        S  Third   \n",
       "3         1       1  female  35.0      1      0  53.1000        S  First   \n",
       "4         0       3    male  35.0      0      0   8.0500        S  Third   \n",
       "\n",
       "     who  adult_male deck  embark_town alive  alone  \n",
       "0    man        True  NaN  Southampton    no  False  \n",
       "1  woman       False    C    Cherbourg   yes  False  \n",
       "2  woman       False  NaN  Southampton   yes   True  \n",
       "3  woman       False    C  Southampton   yes  False  \n",
       "4    man        True  NaN  Southampton    no   True  "
      ],
      "text/html": "<div>\n<style scoped>\n    .dataframe tbody tr th:only-of-type {\n        vertical-align: middle;\n    }\n\n    .dataframe tbody tr th {\n        vertical-align: top;\n    }\n\n    .dataframe thead th {\n        text-align: right;\n    }\n</style>\n<table border=\"1\" class=\"dataframe\">\n  <thead>\n    <tr style=\"text-align: right;\">\n      <th></th>\n      <th>survived</th>\n      <th>pclass</th>\n      <th>sex</th>\n      <th>age</th>\n      <th>sibsp</th>\n      <th>parch</th>\n      <th>fare</th>\n      <th>embarked</th>\n      <th>class</th>\n      <th>who</th>\n      <th>adult_male</th>\n      <th>deck</th>\n      <th>embark_town</th>\n      <th>alive</th>\n      <th>alone</th>\n    </tr>\n  </thead>\n  <tbody>\n    <tr>\n      <th>0</th>\n      <td>0</td>\n      <td>3</td>\n      <td>male</td>\n      <td>22.0</td>\n      <td>1</td>\n      <td>0</td>\n      <td>7.2500</td>\n      <td>S</td>\n      <td>Third</td>\n      <td>man</td>\n      <td>True</td>\n      <td>NaN</td>\n      <td>Southampton</td>\n      <td>no</td>\n      <td>False</td>\n    </tr>\n    <tr>\n      <th>1</th>\n      <td>1</td>\n      <td>1</td>\n      <td>female</td>\n      <td>38.0</td>\n      <td>1</td>\n      <td>0</td>\n      <td>71.2833</td>\n      <td>C</td>\n      <td>First</td>\n      <td>woman</td>\n      <td>False</td>\n      <td>C</td>\n      <td>Cherbourg</td>\n      <td>yes</td>\n      <td>False</td>\n    </tr>\n    <tr>\n      <th>2</th>\n      <td>1</td>\n      <td>3</td>\n      <td>female</td>\n      <td>26.0</td>\n      <td>0</td>\n      <td>0</td>\n      <td>7.9250</td>\n      <td>S</td>\n      <td>Third</td>\n      <td>woman</td>\n      <td>False</td>\n      <td>NaN</td>\n      <td>Southampton</td>\n      <td>yes</td>\n      <td>True</td>\n    </tr>\n    <tr>\n      <th>3</th>\n      <td>1</td>\n      <td>1</td>\n      <td>female</td>\n      <td>35.0</td>\n      <td>1</td>\n      <td>0</td>\n      <td>53.1000</td>\n      <td>S</td>\n      <td>First</td>\n      <td>woman</td>\n      <td>False</td>\n      <td>C</td>\n      <td>Southampton</td>\n      <td>yes</td>\n      <td>False</td>\n    </tr>\n    <tr>\n      <th>4</th>\n      <td>0</td>\n      <td>3</td>\n      <td>male</td>\n      <td>35.0</td>\n      <td>0</td>\n      <td>0</td>\n      <td>8.0500</td>\n      <td>S</td>\n      <td>Third</td>\n      <td>man</td>\n      <td>True</td>\n      <td>NaN</td>\n      <td>Southampton</td>\n      <td>no</td>\n      <td>True</td>\n    </tr>\n  </tbody>\n</table>\n</div>"
     },
     "metadata": {},
     "execution_count": 28
    }
   ],
   "source": [
    "import seaborn as sns\n",
    "titanic = sns.load_dataset('titanic')\n",
    "titanic.head()"
   ]
  },
  {
   "cell_type": "code",
   "execution_count": 29,
   "metadata": {},
   "outputs": [
    {
     "output_type": "execute_result",
     "data": {
      "text/plain": [
       "survived       891\n",
       "pclass         891\n",
       "sex            891\n",
       "age            714\n",
       "sibsp          891\n",
       "parch          891\n",
       "fare           891\n",
       "embarked       889\n",
       "class          891\n",
       "who            891\n",
       "adult_male     891\n",
       "deck           203\n",
       "embark_town    889\n",
       "alive          891\n",
       "alone          891\n",
       "dtype: int64"
      ]
     },
     "metadata": {},
     "execution_count": 29
    }
   ],
   "source": [
    "titanic.count()"
   ]
  },
  {
   "source": [
    "### 연습 문제 4.4.2\n",
    "\n",
    "sort_values 메서드를 사용하여 타이타닉호 승객에 대해 성별(sex) 인원수, 나이별(age) 인원수, 선실별(class) 인원수, 사망/생존(alive) 인원수를 구하라.\n",
    "\n"
   ],
   "cell_type": "markdown",
   "metadata": {}
  },
  {
   "cell_type": "code",
   "execution_count": 30,
   "metadata": {},
   "outputs": [
    {
     "output_type": "execute_result",
     "data": {
      "text/plain": [
       "age      714\n",
       "sex      891\n",
       "class    891\n",
       "alive    891\n",
       "dtype: int64"
      ]
     },
     "metadata": {},
     "execution_count": 30
    }
   ],
   "source": [
    "titanic[['sex','age','class','alive']].count().sort_values()"
   ]
  },
  {
   "source": [
    "### 연습 문제 4.4.3  \n",
    "\n",
    "1. 타이타닉호 승객의 평균 나이를 구하라."
   ],
   "cell_type": "markdown",
   "metadata": {}
  },
  {
   "cell_type": "code",
   "execution_count": 31,
   "metadata": {},
   "outputs": [
    {
     "output_type": "execute_result",
     "data": {
      "text/plain": [
       "29.69911764705882"
      ]
     },
     "metadata": {},
     "execution_count": 31
    }
   ],
   "source": [
    "titanic.age.mean()"
   ]
  },
  {
   "source": [
    "2. 타이타닉호 승객중 여성 승객의 평균 나이를 구하라."
   ],
   "cell_type": "markdown",
   "metadata": {}
  },
  {
   "cell_type": "code",
   "execution_count": 32,
   "metadata": {},
   "outputs": [
    {
     "output_type": "execute_result",
     "data": {
      "text/plain": [
       "27.915708812260537"
      ]
     },
     "metadata": {},
     "execution_count": 32
    }
   ],
   "source": [
    "titanic[titanic.sex == 'female'].age.mean()"
   ]
  },
  {
   "source": [
    "3.타이타닉호 승객중 1등실 선실의 여성 승객의 평균 나이를 구하라."
   ],
   "cell_type": "markdown",
   "metadata": {}
  },
  {
   "cell_type": "code",
   "execution_count": 33,
   "metadata": {},
   "outputs": [
    {
     "output_type": "execute_result",
     "data": {
      "text/plain": [
       "34.61176470588235"
      ]
     },
     "metadata": {},
     "execution_count": 33
    }
   ],
   "source": [
    "titanic[np.logical_and(titanic['class'] == \"First\",titanic['sex']==\"female\")].age.mean()"
   ]
  },
  {
   "source": [
    "### 연습 문제 4.4.4\n",
    "\n",
    "타이타닉호의 승객에 대해 나이와 성별에 의한 카테고리 열인 category1 열을 만들어라.  \n",
    "category1 카테고리는 다음과 같이 정의된다.  \n",
    "\n",
    "20살이 넘으면 성별을 그대로 사용한다.  \n",
    "\n",
    "20살 미만이면 성별에 관계없이 “child”라고 한다.  \n",
    "\n"
   ],
   "cell_type": "markdown",
   "metadata": {}
  },
  {
   "cell_type": "code",
   "execution_count": 34,
   "metadata": {},
   "outputs": [
    {
     "output_type": "execute_result",
     "data": {
      "text/plain": [
       "      sex   age category1\n",
       "0    male  22.0      male\n",
       "1  female  38.0    female\n",
       "2  female  26.0    female\n",
       "3  female  35.0    female\n",
       "4    male  35.0      male\n",
       "5    male   NaN     child\n",
       "6    male  54.0      male\n",
       "7    male   2.0     child\n",
       "8  female  27.0    female\n",
       "9  female  14.0     child"
      ],
      "text/html": "<div>\n<style scoped>\n    .dataframe tbody tr th:only-of-type {\n        vertical-align: middle;\n    }\n\n    .dataframe tbody tr th {\n        vertical-align: top;\n    }\n\n    .dataframe thead th {\n        text-align: right;\n    }\n</style>\n<table border=\"1\" class=\"dataframe\">\n  <thead>\n    <tr style=\"text-align: right;\">\n      <th></th>\n      <th>sex</th>\n      <th>age</th>\n      <th>category1</th>\n    </tr>\n  </thead>\n  <tbody>\n    <tr>\n      <th>0</th>\n      <td>male</td>\n      <td>22.0</td>\n      <td>male</td>\n    </tr>\n    <tr>\n      <th>1</th>\n      <td>female</td>\n      <td>38.0</td>\n      <td>female</td>\n    </tr>\n    <tr>\n      <th>2</th>\n      <td>female</td>\n      <td>26.0</td>\n      <td>female</td>\n    </tr>\n    <tr>\n      <th>3</th>\n      <td>female</td>\n      <td>35.0</td>\n      <td>female</td>\n    </tr>\n    <tr>\n      <th>4</th>\n      <td>male</td>\n      <td>35.0</td>\n      <td>male</td>\n    </tr>\n    <tr>\n      <th>5</th>\n      <td>male</td>\n      <td>NaN</td>\n      <td>child</td>\n    </tr>\n    <tr>\n      <th>6</th>\n      <td>male</td>\n      <td>54.0</td>\n      <td>male</td>\n    </tr>\n    <tr>\n      <th>7</th>\n      <td>male</td>\n      <td>2.0</td>\n      <td>child</td>\n    </tr>\n    <tr>\n      <th>8</th>\n      <td>female</td>\n      <td>27.0</td>\n      <td>female</td>\n    </tr>\n    <tr>\n      <th>9</th>\n      <td>female</td>\n      <td>14.0</td>\n      <td>child</td>\n    </tr>\n  </tbody>\n</table>\n</div>"
     },
     "metadata": {},
     "execution_count": 34
    }
   ],
   "source": [
    "titanic['category1'] = titanic.apply(lambda r : r.sex if r.age >= 20 else 'child', axis = 1)\n",
    "titanic[['sex','age','category1']].head(10)"
   ]
  },
  {
   "source": [
    "### 연습 문제 4.4.5\n",
    "\n",
    "타이타닉호의 승객 중 나이를 명시하지 않은 고객은 나이를 명시한 고객의 평균 나이 값이 되도록 titanic 데이터프레임을 고쳐라.\n",
    "\n"
   ],
   "cell_type": "markdown",
   "metadata": {}
  },
  {
   "cell_type": "code",
   "execution_count": 35,
   "metadata": {},
   "outputs": [
    {
     "output_type": "execute_result",
     "data": {
      "text/plain": [
       "0      22.000000\n",
       "1      38.000000\n",
       "2      26.000000\n",
       "3      35.000000\n",
       "4      35.000000\n",
       "         ...    \n",
       "886    27.000000\n",
       "887    19.000000\n",
       "888    29.699118\n",
       "889    26.000000\n",
       "890    32.000000\n",
       "Name: age, Length: 891, dtype: float64"
      ]
     },
     "metadata": {},
     "execution_count": 35
    }
   ],
   "source": [
    "avg_age = titanic.age.mean()\n",
    "titanic['age'] = titanic['age'].fillna(avg_age)\n",
    "titanic['age']"
   ]
  },
  {
   "source": [
    "### 연습 문제 4.4.6\n",
    "\n",
    "타이타닉호의 승객에 대해 나이와 성별에 의한 카테고리 열인 category2 열을 만들어라.  category2 카테고리는 다음과 같이 정의된다.  \n",
    "\n",
    "- 성별을 나타내는 문자열 male 또는 female로 시작한다.  \n",
    "\n",
    "- 성별을 나타내는 문자열 뒤에 나이를 나타내는 문자열이 온다.  \n",
    "\n",
    "- 예를 들어 27살 남성은 male27 값이 된다.  \n",
    "\n",
    "\n"
   ],
   "cell_type": "markdown",
   "metadata": {}
  },
  {
   "cell_type": "code",
   "execution_count": 36,
   "metadata": {},
   "outputs": [
    {
     "output_type": "execute_result",
     "data": {
      "text/plain": [
       "      sex        age category2\n",
       "0    male  22.000000    male22\n",
       "1  female  38.000000  female38\n",
       "2  female  26.000000  female26\n",
       "3  female  35.000000  female35\n",
       "4    male  35.000000    male35\n",
       "5    male  29.699118    male29\n",
       "6    male  54.000000    male54\n",
       "7    male   2.000000     male2\n",
       "8  female  27.000000  female27\n",
       "9  female  14.000000  female14"
      ],
      "text/html": "<div>\n<style scoped>\n    .dataframe tbody tr th:only-of-type {\n        vertical-align: middle;\n    }\n\n    .dataframe tbody tr th {\n        vertical-align: top;\n    }\n\n    .dataframe thead th {\n        text-align: right;\n    }\n</style>\n<table border=\"1\" class=\"dataframe\">\n  <thead>\n    <tr style=\"text-align: right;\">\n      <th></th>\n      <th>sex</th>\n      <th>age</th>\n      <th>category2</th>\n    </tr>\n  </thead>\n  <tbody>\n    <tr>\n      <th>0</th>\n      <td>male</td>\n      <td>22.000000</td>\n      <td>male22</td>\n    </tr>\n    <tr>\n      <th>1</th>\n      <td>female</td>\n      <td>38.000000</td>\n      <td>female38</td>\n    </tr>\n    <tr>\n      <th>2</th>\n      <td>female</td>\n      <td>26.000000</td>\n      <td>female26</td>\n    </tr>\n    <tr>\n      <th>3</th>\n      <td>female</td>\n      <td>35.000000</td>\n      <td>female35</td>\n    </tr>\n    <tr>\n      <th>4</th>\n      <td>male</td>\n      <td>35.000000</td>\n      <td>male35</td>\n    </tr>\n    <tr>\n      <th>5</th>\n      <td>male</td>\n      <td>29.699118</td>\n      <td>male29</td>\n    </tr>\n    <tr>\n      <th>6</th>\n      <td>male</td>\n      <td>54.000000</td>\n      <td>male54</td>\n    </tr>\n    <tr>\n      <th>7</th>\n      <td>male</td>\n      <td>2.000000</td>\n      <td>male2</td>\n    </tr>\n    <tr>\n      <th>8</th>\n      <td>female</td>\n      <td>27.000000</td>\n      <td>female27</td>\n    </tr>\n    <tr>\n      <th>9</th>\n      <td>female</td>\n      <td>14.000000</td>\n      <td>female14</td>\n    </tr>\n  </tbody>\n</table>\n</div>"
     },
     "metadata": {},
     "execution_count": 36
    }
   ],
   "source": [
    "titanic['category2'] = titanic.apply(lambda r : r.sex + str(int(r.age)), axis = 1)\n",
    "titanic[['sex','age','category2']].head(10)"
   ]
  },
  {
   "source": [
    "### 연습 문제 4.4.7\n",
    "타이타닉호 승객을 ‘미성년자’, ‘청년’, ‘중년’, ‘장년’, ‘노년’ 나이 그룹으로 나눈다.  \n",
    "그리고 각 나이 그룹의 승객 비율을 구한다. 비율의 전체 합은 1이 되어야 한다. \n"
   ],
   "cell_type": "markdown",
   "metadata": {}
  },
  {
   "cell_type": "code",
   "execution_count": 37,
   "metadata": {},
   "outputs": [
    {
     "output_type": "execute_result",
     "data": {
      "text/plain": [
       "청년      45.679012\n",
       "중년      27.048260\n",
       "미성년자    18.518519\n",
       "장년       6.621773\n",
       "노년       0.561167\n",
       "Name: age, dtype: float64"
      ]
     },
     "metadata": {},
     "execution_count": 37
    }
   ],
   "source": [
    "bins = [1, 20, 30, 50, 70, 100]\n",
    "labels = [\"미성년자\", \"청년\", \"중년\", \"장년\", \"노년\"]\n",
    "\n",
    "groups = pd.cut(titanic['age'], bins, labels=labels)\n",
    "(pd.value_counts(groups) /len(groups)) * 100"
   ]
  },
  {
   "cell_type": "code",
   "execution_count": 38,
   "metadata": {},
   "outputs": [
    {
     "output_type": "execute_result",
     "data": {
      "text/plain": [
       "0        청년\n",
       "1        중년\n",
       "2        청년\n",
       "3        중년\n",
       "4        중년\n",
       "       ... \n",
       "886      청년\n",
       "887    미성년자\n",
       "888      청년\n",
       "889      청년\n",
       "890      중년\n",
       "Name: age, Length: 891, dtype: category\n",
       "Categories (5, object): ['미성년자' < '청년' < '중년' < '장년' < '노년']"
      ]
     },
     "metadata": {},
     "execution_count": 38
    }
   ],
   "source": [
    "groups"
   ]
  },
  {
   "source": [
    "### 연습 문제 4.4.8\n",
    "\n",
    "타이타닉호의 승객에 대해 나이와 성별에 의한 카테고리 열인 category3 열을 만들어라.  category3 카테고리는 다음과 같이 정의된다.  \n",
    "\n",
    "- 20살 미만이면 성별에 관계없이 “미성년자”라고 한다.  \n",
    "\n",
    "- 20살 이상이면 나이에 따라 “청년”, “중년”, “장년”, “노년”을 구분하고 그 뒤에 성별을 나타내는 “남성”, “여성”을 붙인다.  "
   ],
   "cell_type": "markdown",
   "metadata": {}
  },
  {
   "cell_type": "code",
   "execution_count": 39,
   "metadata": {},
   "outputs": [
    {
     "output_type": "execute_result",
     "data": {
      "text/plain": [
       "0        청년\n",
       "1        중년\n",
       "2        청년\n",
       "3        중년\n",
       "4        중년\n",
       "       ... \n",
       "886      청년\n",
       "887    미성년자\n",
       "888      청년\n",
       "889      청년\n",
       "890      중년\n",
       "Name: group, Length: 891, dtype: category\n",
       "Categories (5, object): ['미성년자' < '청년' < '중년' < '장년' < '노년']"
      ]
     },
     "metadata": {},
     "execution_count": 39
    }
   ],
   "source": [
    "titanic['group'] = pd.cut(titanic.age, bins, labels=labels)\n",
    "titanic.group"
   ]
  },
  {
   "cell_type": "code",
   "execution_count": 40,
   "metadata": {},
   "outputs": [
    {
     "output_type": "execute_result",
     "data": {
      "text/plain": [
       "      sex        age category3\n",
       "0    male  22.000000      청년남성\n",
       "1  female  38.000000      중년여성\n",
       "2  female  26.000000      청년여성\n",
       "3  female  35.000000      중년여성\n",
       "4    male  35.000000      중년남성\n",
       "5    male  29.699118      청년남성\n",
       "6    male  54.000000      장년남성\n",
       "7    male   2.000000      미성년자\n",
       "8  female  27.000000      청년여성\n",
       "9  female  14.000000      미성년자"
      ],
      "text/html": "<div>\n<style scoped>\n    .dataframe tbody tr th:only-of-type {\n        vertical-align: middle;\n    }\n\n    .dataframe tbody tr th {\n        vertical-align: top;\n    }\n\n    .dataframe thead th {\n        text-align: right;\n    }\n</style>\n<table border=\"1\" class=\"dataframe\">\n  <thead>\n    <tr style=\"text-align: right;\">\n      <th></th>\n      <th>sex</th>\n      <th>age</th>\n      <th>category3</th>\n    </tr>\n  </thead>\n  <tbody>\n    <tr>\n      <th>0</th>\n      <td>male</td>\n      <td>22.000000</td>\n      <td>청년남성</td>\n    </tr>\n    <tr>\n      <th>1</th>\n      <td>female</td>\n      <td>38.000000</td>\n      <td>중년여성</td>\n    </tr>\n    <tr>\n      <th>2</th>\n      <td>female</td>\n      <td>26.000000</td>\n      <td>청년여성</td>\n    </tr>\n    <tr>\n      <th>3</th>\n      <td>female</td>\n      <td>35.000000</td>\n      <td>중년여성</td>\n    </tr>\n    <tr>\n      <th>4</th>\n      <td>male</td>\n      <td>35.000000</td>\n      <td>중년남성</td>\n    </tr>\n    <tr>\n      <th>5</th>\n      <td>male</td>\n      <td>29.699118</td>\n      <td>청년남성</td>\n    </tr>\n    <tr>\n      <th>6</th>\n      <td>male</td>\n      <td>54.000000</td>\n      <td>장년남성</td>\n    </tr>\n    <tr>\n      <th>7</th>\n      <td>male</td>\n      <td>2.000000</td>\n      <td>미성년자</td>\n    </tr>\n    <tr>\n      <th>8</th>\n      <td>female</td>\n      <td>27.000000</td>\n      <td>청년여성</td>\n    </tr>\n    <tr>\n      <th>9</th>\n      <td>female</td>\n      <td>14.000000</td>\n      <td>미성년자</td>\n    </tr>\n  </tbody>\n</table>\n</div>"
     },
     "metadata": {},
     "execution_count": 40
    }
   ],
   "source": [
    "titanic['category3'] = titanic.apply(lambda r : r.group if r.age < 20 \\\n",
    "    else str(r.group) + (\"여성\" if r.sex == 'female' else \"남성\") , axis = 1)\n",
    "titanic[['sex','age','category3']].head(10)"
   ]
  },
  {
   "source": [
    "### 연습 문제 4.5.1\n",
    "\n",
    "5명의 학생의 국어, 영어, 수학 점수를 나타내는 데이터프레임을 다음과 같이 만든다.  \n",
    "\n",
    "- 학생 이름을 나타내는 열을 포함시키지 않고 데이터프레임 df_score1 을 생성한 후, df_score1.index 속성에 학생 이름을 나타내는 열을 지정하여 인덱스를 지정한다. reset_index 명령으로 이 인덱스 열을 명령으로 일반 데이터열로 바꾸여 데이터프레임 df_score2을 만든다.  \n",
    "\n",
    "- 학생 이름을 나타내는 열이 일반 데이터 열을 포함하는 데이터프레임 df_score2에 set_index 명령을 적용하여 다시 학생 이름을 나타내는 열을 인덱스로 변경한다.  \n",
    "  \n"
   ],
   "cell_type": "markdown",
   "metadata": {}
  },
  {
   "cell_type": "code",
   "execution_count": 41,
   "metadata": {},
   "outputs": [
    {
     "output_type": "execute_result",
     "data": {
      "text/plain": [
       "   영어  수학  국어\n",
       "0  12  55  78\n",
       "1  57  57  22\n",
       "2  89  81  57\n",
       "3  24  44  87\n",
       "4  57  28  99"
      ],
      "text/html": "<div>\n<style scoped>\n    .dataframe tbody tr th:only-of-type {\n        vertical-align: middle;\n    }\n\n    .dataframe tbody tr th {\n        vertical-align: top;\n    }\n\n    .dataframe thead th {\n        text-align: right;\n    }\n</style>\n<table border=\"1\" class=\"dataframe\">\n  <thead>\n    <tr style=\"text-align: right;\">\n      <th></th>\n      <th>영어</th>\n      <th>수학</th>\n      <th>국어</th>\n    </tr>\n  </thead>\n  <tbody>\n    <tr>\n      <th>0</th>\n      <td>12</td>\n      <td>55</td>\n      <td>78</td>\n    </tr>\n    <tr>\n      <th>1</th>\n      <td>57</td>\n      <td>57</td>\n      <td>22</td>\n    </tr>\n    <tr>\n      <th>2</th>\n      <td>89</td>\n      <td>81</td>\n      <td>57</td>\n    </tr>\n    <tr>\n      <th>3</th>\n      <td>24</td>\n      <td>44</td>\n      <td>87</td>\n    </tr>\n    <tr>\n      <th>4</th>\n      <td>57</td>\n      <td>28</td>\n      <td>99</td>\n    </tr>\n  </tbody>\n</table>\n</div>"
     },
     "metadata": {},
     "execution_count": 41
    }
   ],
   "source": [
    "data = {\n",
    "        '영어' : [12,57,89,24,57],\n",
    "        \"수학\" : [55,57,81,44,28],\n",
    "        \"국어\" : [78,22,57,87,99]\n",
    "}\n",
    "\n",
    "columns = ['영어','수학','국어']\n",
    "df_score1 = pd.DataFrame(data,columns= columns)\n",
    "\n",
    "df_score1"
   ]
  },
  {
   "cell_type": "code",
   "execution_count": 42,
   "metadata": {},
   "outputs": [
    {
     "output_type": "execute_result",
     "data": {
      "text/plain": [
       "   영어  수학  국어\n",
       "A  12  55  78\n",
       "B  57  57  22\n",
       "C  89  81  57\n",
       "D  24  44  87\n",
       "E  57  28  99"
      ],
      "text/html": "<div>\n<style scoped>\n    .dataframe tbody tr th:only-of-type {\n        vertical-align: middle;\n    }\n\n    .dataframe tbody tr th {\n        vertical-align: top;\n    }\n\n    .dataframe thead th {\n        text-align: right;\n    }\n</style>\n<table border=\"1\" class=\"dataframe\">\n  <thead>\n    <tr style=\"text-align: right;\">\n      <th></th>\n      <th>영어</th>\n      <th>수학</th>\n      <th>국어</th>\n    </tr>\n  </thead>\n  <tbody>\n    <tr>\n      <th>A</th>\n      <td>12</td>\n      <td>55</td>\n      <td>78</td>\n    </tr>\n    <tr>\n      <th>B</th>\n      <td>57</td>\n      <td>57</td>\n      <td>22</td>\n    </tr>\n    <tr>\n      <th>C</th>\n      <td>89</td>\n      <td>81</td>\n      <td>57</td>\n    </tr>\n    <tr>\n      <th>D</th>\n      <td>24</td>\n      <td>44</td>\n      <td>87</td>\n    </tr>\n    <tr>\n      <th>E</th>\n      <td>57</td>\n      <td>28</td>\n      <td>99</td>\n    </tr>\n  </tbody>\n</table>\n</div>"
     },
     "metadata": {},
     "execution_count": 42
    }
   ],
   "source": [
    "df_score1.index = ['A','B','C','D','E']\n",
    "df_score1"
   ]
  },
  {
   "cell_type": "code",
   "execution_count": 43,
   "metadata": {},
   "outputs": [
    {
     "output_type": "execute_result",
     "data": {
      "text/plain": [
       "  index  영어  수학  국어\n",
       "0     A  12  55  78\n",
       "1     B  57  57  22\n",
       "2     C  89  81  57\n",
       "3     D  24  44  87\n",
       "4     E  57  28  99"
      ],
      "text/html": "<div>\n<style scoped>\n    .dataframe tbody tr th:only-of-type {\n        vertical-align: middle;\n    }\n\n    .dataframe tbody tr th {\n        vertical-align: top;\n    }\n\n    .dataframe thead th {\n        text-align: right;\n    }\n</style>\n<table border=\"1\" class=\"dataframe\">\n  <thead>\n    <tr style=\"text-align: right;\">\n      <th></th>\n      <th>index</th>\n      <th>영어</th>\n      <th>수학</th>\n      <th>국어</th>\n    </tr>\n  </thead>\n  <tbody>\n    <tr>\n      <th>0</th>\n      <td>A</td>\n      <td>12</td>\n      <td>55</td>\n      <td>78</td>\n    </tr>\n    <tr>\n      <th>1</th>\n      <td>B</td>\n      <td>57</td>\n      <td>57</td>\n      <td>22</td>\n    </tr>\n    <tr>\n      <th>2</th>\n      <td>C</td>\n      <td>89</td>\n      <td>81</td>\n      <td>57</td>\n    </tr>\n    <tr>\n      <th>3</th>\n      <td>D</td>\n      <td>24</td>\n      <td>44</td>\n      <td>87</td>\n    </tr>\n    <tr>\n      <th>4</th>\n      <td>E</td>\n      <td>57</td>\n      <td>28</td>\n      <td>99</td>\n    </tr>\n  </tbody>\n</table>\n</div>"
     },
     "metadata": {},
     "execution_count": 43
    }
   ],
   "source": [
    "df_score2 = df_score1.reset_index()\n",
    "df_score2"
   ]
  },
  {
   "cell_type": "code",
   "execution_count": 44,
   "metadata": {},
   "outputs": [
    {
     "output_type": "execute_result",
     "data": {
      "text/plain": [
       "      영어  수학  국어\n",
       "학생이름            \n",
       "A     12  55  78\n",
       "B     57  57  22\n",
       "C     89  81  57\n",
       "D     24  44  87\n",
       "E     57  28  99"
      ],
      "text/html": "<div>\n<style scoped>\n    .dataframe tbody tr th:only-of-type {\n        vertical-align: middle;\n    }\n\n    .dataframe tbody tr th {\n        vertical-align: top;\n    }\n\n    .dataframe thead th {\n        text-align: right;\n    }\n</style>\n<table border=\"1\" class=\"dataframe\">\n  <thead>\n    <tr style=\"text-align: right;\">\n      <th></th>\n      <th>영어</th>\n      <th>수학</th>\n      <th>국어</th>\n    </tr>\n    <tr>\n      <th>학생이름</th>\n      <th></th>\n      <th></th>\n      <th></th>\n    </tr>\n  </thead>\n  <tbody>\n    <tr>\n      <th>A</th>\n      <td>12</td>\n      <td>55</td>\n      <td>78</td>\n    </tr>\n    <tr>\n      <th>B</th>\n      <td>57</td>\n      <td>57</td>\n      <td>22</td>\n    </tr>\n    <tr>\n      <th>C</th>\n      <td>89</td>\n      <td>81</td>\n      <td>57</td>\n    </tr>\n    <tr>\n      <th>D</th>\n      <td>24</td>\n      <td>44</td>\n      <td>87</td>\n    </tr>\n    <tr>\n      <th>E</th>\n      <td>57</td>\n      <td>28</td>\n      <td>99</td>\n    </tr>\n  </tbody>\n</table>\n</div>"
     },
     "metadata": {},
     "execution_count": 44
    }
   ],
   "source": [
    "df_score2.set_index(\"index\",inplace=True)\n",
    "df_score2.index.name=\"학생이름\"\n",
    "df_score2"
   ]
  }
 ]
}